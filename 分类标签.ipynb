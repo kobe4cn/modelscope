{
  "nbformat": 4,
  "nbformat_minor": 0,
  "metadata": {
    "colab": {
      "provenance": [],
      "authorship_tag": "ABX9TyOy23v85HJAkNvyAuzYrO8c",
      "include_colab_link": true
    },
    "kernelspec": {
      "name": "python3",
      "display_name": "Python 3"
    },
    "language_info": {
      "name": "python"
    }
  },
  "cells": [
    {
      "cell_type": "markdown",
      "metadata": {
        "id": "view-in-github",
        "colab_type": "text"
      },
      "source": [
        "<a href=\"https://colab.research.google.com/github/kobe4cn/modelscope/blob/main/%E5%88%86%E7%B1%BB%E6%A0%87%E7%AD%BE.ipynb\" target=\"_parent\"><img src=\"https://colab.research.google.com/assets/colab-badge.svg\" alt=\"Open In Colab\"/></a>"
      ]
    },
    {
      "cell_type": "code",
      "execution_count": null,
      "metadata": {
        "id": "BUPI-CffQUCx"
      },
      "outputs": [],
      "source": [
        "!pip install modelscope"
      ]
    },
    {
      "cell_type": "code",
      "source": [
        "from modelscope.pipelines import pipeline"
      ],
      "metadata": {
        "id": "Nx70kAfJQ0lb"
      },
      "execution_count": null,
      "outputs": []
    },
    {
      "cell_type": "code",
      "source": [
        "import pandas as pd"
      ],
      "metadata": {
        "id": "13okaNVQjTP3"
      },
      "execution_count": null,
      "outputs": []
    },
    {
      "cell_type": "code",
      "source": [
        "classifier = pipeline('zero-shot-classification', 'damo/nlp_structbert_zero-shot-classification_chinese-base')"
      ],
      "metadata": {
        "id": "e6ngyIrqjVxL"
      },
      "execution_count": null,
      "outputs": []
    },
    {
      "cell_type": "code",
      "source": [
        "labels = ['效果好', '包装好', '回购', '赠品多', '吸收好', '活动','划算','小样多','品质好','滋润','物流快','保湿']"
      ],
      "metadata": {
        "id": "-zzXgnjOjWPc"
      },
      "execution_count": null,
      "outputs": []
    },
    {
      "cell_type": "code",
      "source": [
        "from modelscope.msdatasets import MsDataset"
      ],
      "metadata": {
        "id": "CQ0em27GjaZg"
      },
      "execution_count": null,
      "outputs": []
    },
    {
      "cell_type": "code",
      "source": [
        "ds = MsDataset.load('test.csv')"
      ],
      "metadata": {
        "id": "pscUF9mvje-S"
      },
      "execution_count": null,
      "outputs": []
    },
    {
      "cell_type": "code",
      "source": [
        "filename = 'data.csv'\n",
        "header = True\n",
        "index = False\n",
        "sep = ','"
      ],
      "metadata": {
        "id": "zV_OzxhvjgUQ"
      },
      "execution_count": null,
      "outputs": []
    },
    {
      "cell_type": "code",
      "source": [
        "for i,v in enumerate(ds):\n",
        "    sentence = v['review']\n",
        "    result=classifier(sentence, candidate_labels=labels)\n",
        "    data={'review': sentence,'labels': result['labels'][0],'scores': result['scores'][0]}\n",
        "    df=pd.DataFrame(list(data.items()))\n",
        "    if i == 0:\n",
        "        mode = 'w'\n",
        "        header = header\n",
        "    else:\n",
        "        mode = 'a'\n",
        "        header = False\n",
        "    df.to_csv(filename, mode=mode, index=index, header=header, sep=sep)"
      ],
      "metadata": {
        "id": "CLb4a_dLjhxG"
      },
      "execution_count": null,
      "outputs": []
    }
  ]
}