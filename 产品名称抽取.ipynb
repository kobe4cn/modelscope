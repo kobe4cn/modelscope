{
  "nbformat": 4,
  "nbformat_minor": 0,
  "metadata": {
    "colab": {
      "provenance": [],
      "mount_file_id": "1stSmUqNJJnFxJ1tKMa7O_7A5zcm__BYH",
      "authorship_tag": "ABX9TyNSfiahuS0g2SBtXkit9+/l",
      "include_colab_link": true
    },
    "kernelspec": {
      "name": "python3",
      "display_name": "Python 3"
    },
    "language_info": {
      "name": "python"
    },
    "widgets": {
      "application/vnd.jupyter.widget-state+json": {
        "e682a333842e4ccda6ea3f62379228c6": {
          "model_module": "@jupyter-widgets/controls",
          "model_name": "HBoxModel",
          "model_module_version": "1.5.0",
          "state": {
            "_dom_classes": [],
            "_model_module": "@jupyter-widgets/controls",
            "_model_module_version": "1.5.0",
            "_model_name": "HBoxModel",
            "_view_count": null,
            "_view_module": "@jupyter-widgets/controls",
            "_view_module_version": "1.5.0",
            "_view_name": "HBoxView",
            "box_style": "",
            "children": [
              "IPY_MODEL_da607caca601496890ef2a708bd350d2",
              "IPY_MODEL_c4f360d3f0864836b09e2cf15126d8ab",
              "IPY_MODEL_123f31274bb14bf19c61226c5e8001a9"
            ],
            "layout": "IPY_MODEL_5bd50ca5ceb945f4b9255faa826c3388"
          }
        },
        "da607caca601496890ef2a708bd350d2": {
          "model_module": "@jupyter-widgets/controls",
          "model_name": "HTMLModel",
          "model_module_version": "1.5.0",
          "state": {
            "_dom_classes": [],
            "_model_module": "@jupyter-widgets/controls",
            "_model_module_version": "1.5.0",
            "_model_name": "HTMLModel",
            "_view_count": null,
            "_view_module": "@jupyter-widgets/controls",
            "_view_module_version": "1.5.0",
            "_view_name": "HTMLView",
            "description": "",
            "description_tooltip": null,
            "layout": "IPY_MODEL_7a81e22b1447480d85f7a20c32eb6fa5",
            "placeholder": "​",
            "style": "IPY_MODEL_3818697c4e8b412abed6802dd082466d",
            "value": "Downloading data files: 100%"
          }
        },
        "c4f360d3f0864836b09e2cf15126d8ab": {
          "model_module": "@jupyter-widgets/controls",
          "model_name": "FloatProgressModel",
          "model_module_version": "1.5.0",
          "state": {
            "_dom_classes": [],
            "_model_module": "@jupyter-widgets/controls",
            "_model_module_version": "1.5.0",
            "_model_name": "FloatProgressModel",
            "_view_count": null,
            "_view_module": "@jupyter-widgets/controls",
            "_view_module_version": "1.5.0",
            "_view_name": "ProgressView",
            "bar_style": "success",
            "description": "",
            "description_tooltip": null,
            "layout": "IPY_MODEL_18f9f4864f254bc59e7b2bf8bebdaf8c",
            "max": 1,
            "min": 0,
            "orientation": "horizontal",
            "style": "IPY_MODEL_682b7e3955c241f89f4eb2946c9e9631",
            "value": 1
          }
        },
        "123f31274bb14bf19c61226c5e8001a9": {
          "model_module": "@jupyter-widgets/controls",
          "model_name": "HTMLModel",
          "model_module_version": "1.5.0",
          "state": {
            "_dom_classes": [],
            "_model_module": "@jupyter-widgets/controls",
            "_model_module_version": "1.5.0",
            "_model_name": "HTMLModel",
            "_view_count": null,
            "_view_module": "@jupyter-widgets/controls",
            "_view_module_version": "1.5.0",
            "_view_name": "HTMLView",
            "description": "",
            "description_tooltip": null,
            "layout": "IPY_MODEL_748163e30e9a4da58cb43b30fa5ad5d7",
            "placeholder": "​",
            "style": "IPY_MODEL_fdbe4cb4bddd4253a22d30411b001f03",
            "value": " 1/1 [00:00&lt;00:00, 27.14it/s]"
          }
        },
        "5bd50ca5ceb945f4b9255faa826c3388": {
          "model_module": "@jupyter-widgets/base",
          "model_name": "LayoutModel",
          "model_module_version": "1.2.0",
          "state": {
            "_model_module": "@jupyter-widgets/base",
            "_model_module_version": "1.2.0",
            "_model_name": "LayoutModel",
            "_view_count": null,
            "_view_module": "@jupyter-widgets/base",
            "_view_module_version": "1.2.0",
            "_view_name": "LayoutView",
            "align_content": null,
            "align_items": null,
            "align_self": null,
            "border": null,
            "bottom": null,
            "display": null,
            "flex": null,
            "flex_flow": null,
            "grid_area": null,
            "grid_auto_columns": null,
            "grid_auto_flow": null,
            "grid_auto_rows": null,
            "grid_column": null,
            "grid_gap": null,
            "grid_row": null,
            "grid_template_areas": null,
            "grid_template_columns": null,
            "grid_template_rows": null,
            "height": null,
            "justify_content": null,
            "justify_items": null,
            "left": null,
            "margin": null,
            "max_height": null,
            "max_width": null,
            "min_height": null,
            "min_width": null,
            "object_fit": null,
            "object_position": null,
            "order": null,
            "overflow": null,
            "overflow_x": null,
            "overflow_y": null,
            "padding": null,
            "right": null,
            "top": null,
            "visibility": null,
            "width": null
          }
        },
        "7a81e22b1447480d85f7a20c32eb6fa5": {
          "model_module": "@jupyter-widgets/base",
          "model_name": "LayoutModel",
          "model_module_version": "1.2.0",
          "state": {
            "_model_module": "@jupyter-widgets/base",
            "_model_module_version": "1.2.0",
            "_model_name": "LayoutModel",
            "_view_count": null,
            "_view_module": "@jupyter-widgets/base",
            "_view_module_version": "1.2.0",
            "_view_name": "LayoutView",
            "align_content": null,
            "align_items": null,
            "align_self": null,
            "border": null,
            "bottom": null,
            "display": null,
            "flex": null,
            "flex_flow": null,
            "grid_area": null,
            "grid_auto_columns": null,
            "grid_auto_flow": null,
            "grid_auto_rows": null,
            "grid_column": null,
            "grid_gap": null,
            "grid_row": null,
            "grid_template_areas": null,
            "grid_template_columns": null,
            "grid_template_rows": null,
            "height": null,
            "justify_content": null,
            "justify_items": null,
            "left": null,
            "margin": null,
            "max_height": null,
            "max_width": null,
            "min_height": null,
            "min_width": null,
            "object_fit": null,
            "object_position": null,
            "order": null,
            "overflow": null,
            "overflow_x": null,
            "overflow_y": null,
            "padding": null,
            "right": null,
            "top": null,
            "visibility": null,
            "width": null
          }
        },
        "3818697c4e8b412abed6802dd082466d": {
          "model_module": "@jupyter-widgets/controls",
          "model_name": "DescriptionStyleModel",
          "model_module_version": "1.5.0",
          "state": {
            "_model_module": "@jupyter-widgets/controls",
            "_model_module_version": "1.5.0",
            "_model_name": "DescriptionStyleModel",
            "_view_count": null,
            "_view_module": "@jupyter-widgets/base",
            "_view_module_version": "1.2.0",
            "_view_name": "StyleView",
            "description_width": ""
          }
        },
        "18f9f4864f254bc59e7b2bf8bebdaf8c": {
          "model_module": "@jupyter-widgets/base",
          "model_name": "LayoutModel",
          "model_module_version": "1.2.0",
          "state": {
            "_model_module": "@jupyter-widgets/base",
            "_model_module_version": "1.2.0",
            "_model_name": "LayoutModel",
            "_view_count": null,
            "_view_module": "@jupyter-widgets/base",
            "_view_module_version": "1.2.0",
            "_view_name": "LayoutView",
            "align_content": null,
            "align_items": null,
            "align_self": null,
            "border": null,
            "bottom": null,
            "display": null,
            "flex": null,
            "flex_flow": null,
            "grid_area": null,
            "grid_auto_columns": null,
            "grid_auto_flow": null,
            "grid_auto_rows": null,
            "grid_column": null,
            "grid_gap": null,
            "grid_row": null,
            "grid_template_areas": null,
            "grid_template_columns": null,
            "grid_template_rows": null,
            "height": null,
            "justify_content": null,
            "justify_items": null,
            "left": null,
            "margin": null,
            "max_height": null,
            "max_width": null,
            "min_height": null,
            "min_width": null,
            "object_fit": null,
            "object_position": null,
            "order": null,
            "overflow": null,
            "overflow_x": null,
            "overflow_y": null,
            "padding": null,
            "right": null,
            "top": null,
            "visibility": null,
            "width": null
          }
        },
        "682b7e3955c241f89f4eb2946c9e9631": {
          "model_module": "@jupyter-widgets/controls",
          "model_name": "ProgressStyleModel",
          "model_module_version": "1.5.0",
          "state": {
            "_model_module": "@jupyter-widgets/controls",
            "_model_module_version": "1.5.0",
            "_model_name": "ProgressStyleModel",
            "_view_count": null,
            "_view_module": "@jupyter-widgets/base",
            "_view_module_version": "1.2.0",
            "_view_name": "StyleView",
            "bar_color": null,
            "description_width": ""
          }
        },
        "748163e30e9a4da58cb43b30fa5ad5d7": {
          "model_module": "@jupyter-widgets/base",
          "model_name": "LayoutModel",
          "model_module_version": "1.2.0",
          "state": {
            "_model_module": "@jupyter-widgets/base",
            "_model_module_version": "1.2.0",
            "_model_name": "LayoutModel",
            "_view_count": null,
            "_view_module": "@jupyter-widgets/base",
            "_view_module_version": "1.2.0",
            "_view_name": "LayoutView",
            "align_content": null,
            "align_items": null,
            "align_self": null,
            "border": null,
            "bottom": null,
            "display": null,
            "flex": null,
            "flex_flow": null,
            "grid_area": null,
            "grid_auto_columns": null,
            "grid_auto_flow": null,
            "grid_auto_rows": null,
            "grid_column": null,
            "grid_gap": null,
            "grid_row": null,
            "grid_template_areas": null,
            "grid_template_columns": null,
            "grid_template_rows": null,
            "height": null,
            "justify_content": null,
            "justify_items": null,
            "left": null,
            "margin": null,
            "max_height": null,
            "max_width": null,
            "min_height": null,
            "min_width": null,
            "object_fit": null,
            "object_position": null,
            "order": null,
            "overflow": null,
            "overflow_x": null,
            "overflow_y": null,
            "padding": null,
            "right": null,
            "top": null,
            "visibility": null,
            "width": null
          }
        },
        "fdbe4cb4bddd4253a22d30411b001f03": {
          "model_module": "@jupyter-widgets/controls",
          "model_name": "DescriptionStyleModel",
          "model_module_version": "1.5.0",
          "state": {
            "_model_module": "@jupyter-widgets/controls",
            "_model_module_version": "1.5.0",
            "_model_name": "DescriptionStyleModel",
            "_view_count": null,
            "_view_module": "@jupyter-widgets/base",
            "_view_module_version": "1.2.0",
            "_view_name": "StyleView",
            "description_width": ""
          }
        },
        "2474853bfa284189a4a024e71dc10dd6": {
          "model_module": "@jupyter-widgets/controls",
          "model_name": "HBoxModel",
          "model_module_version": "1.5.0",
          "state": {
            "_dom_classes": [],
            "_model_module": "@jupyter-widgets/controls",
            "_model_module_version": "1.5.0",
            "_model_name": "HBoxModel",
            "_view_count": null,
            "_view_module": "@jupyter-widgets/controls",
            "_view_module_version": "1.5.0",
            "_view_name": "HBoxView",
            "box_style": "",
            "children": [
              "IPY_MODEL_6c617e3817ae404e82f23d18a45bc84a",
              "IPY_MODEL_2cd675f107d8451b8cab68c450695be8",
              "IPY_MODEL_6c4beff5c69a47a08ac3121be7d448d0"
            ],
            "layout": "IPY_MODEL_e05de65d89994d26b478006ad6019aba"
          }
        },
        "6c617e3817ae404e82f23d18a45bc84a": {
          "model_module": "@jupyter-widgets/controls",
          "model_name": "HTMLModel",
          "model_module_version": "1.5.0",
          "state": {
            "_dom_classes": [],
            "_model_module": "@jupyter-widgets/controls",
            "_model_module_version": "1.5.0",
            "_model_name": "HTMLModel",
            "_view_count": null,
            "_view_module": "@jupyter-widgets/controls",
            "_view_module_version": "1.5.0",
            "_view_name": "HTMLView",
            "description": "",
            "description_tooltip": null,
            "layout": "IPY_MODEL_7ac2e8a6ccd845d09576a54f7aecf930",
            "placeholder": "​",
            "style": "IPY_MODEL_1c02b811dc6b44c1b4ffdb5039ee8114",
            "value": "Extracting data files: 100%"
          }
        },
        "2cd675f107d8451b8cab68c450695be8": {
          "model_module": "@jupyter-widgets/controls",
          "model_name": "FloatProgressModel",
          "model_module_version": "1.5.0",
          "state": {
            "_dom_classes": [],
            "_model_module": "@jupyter-widgets/controls",
            "_model_module_version": "1.5.0",
            "_model_name": "FloatProgressModel",
            "_view_count": null,
            "_view_module": "@jupyter-widgets/controls",
            "_view_module_version": "1.5.0",
            "_view_name": "ProgressView",
            "bar_style": "success",
            "description": "",
            "description_tooltip": null,
            "layout": "IPY_MODEL_ac1fb65ee6844ae9a3a1486f8c0f06d0",
            "max": 1,
            "min": 0,
            "orientation": "horizontal",
            "style": "IPY_MODEL_7def9f68460e4576ae523bf16a7a5aa0",
            "value": 1
          }
        },
        "6c4beff5c69a47a08ac3121be7d448d0": {
          "model_module": "@jupyter-widgets/controls",
          "model_name": "HTMLModel",
          "model_module_version": "1.5.0",
          "state": {
            "_dom_classes": [],
            "_model_module": "@jupyter-widgets/controls",
            "_model_module_version": "1.5.0",
            "_model_name": "HTMLModel",
            "_view_count": null,
            "_view_module": "@jupyter-widgets/controls",
            "_view_module_version": "1.5.0",
            "_view_name": "HTMLView",
            "description": "",
            "description_tooltip": null,
            "layout": "IPY_MODEL_888a82eb6d984cd1b3133634a4df10e8",
            "placeholder": "​",
            "style": "IPY_MODEL_58ce7f6fde714993b7d3821d9734202a",
            "value": " 1/1 [00:00&lt;00:00, 27.82it/s]"
          }
        },
        "e05de65d89994d26b478006ad6019aba": {
          "model_module": "@jupyter-widgets/base",
          "model_name": "LayoutModel",
          "model_module_version": "1.2.0",
          "state": {
            "_model_module": "@jupyter-widgets/base",
            "_model_module_version": "1.2.0",
            "_model_name": "LayoutModel",
            "_view_count": null,
            "_view_module": "@jupyter-widgets/base",
            "_view_module_version": "1.2.0",
            "_view_name": "LayoutView",
            "align_content": null,
            "align_items": null,
            "align_self": null,
            "border": null,
            "bottom": null,
            "display": null,
            "flex": null,
            "flex_flow": null,
            "grid_area": null,
            "grid_auto_columns": null,
            "grid_auto_flow": null,
            "grid_auto_rows": null,
            "grid_column": null,
            "grid_gap": null,
            "grid_row": null,
            "grid_template_areas": null,
            "grid_template_columns": null,
            "grid_template_rows": null,
            "height": null,
            "justify_content": null,
            "justify_items": null,
            "left": null,
            "margin": null,
            "max_height": null,
            "max_width": null,
            "min_height": null,
            "min_width": null,
            "object_fit": null,
            "object_position": null,
            "order": null,
            "overflow": null,
            "overflow_x": null,
            "overflow_y": null,
            "padding": null,
            "right": null,
            "top": null,
            "visibility": null,
            "width": null
          }
        },
        "7ac2e8a6ccd845d09576a54f7aecf930": {
          "model_module": "@jupyter-widgets/base",
          "model_name": "LayoutModel",
          "model_module_version": "1.2.0",
          "state": {
            "_model_module": "@jupyter-widgets/base",
            "_model_module_version": "1.2.0",
            "_model_name": "LayoutModel",
            "_view_count": null,
            "_view_module": "@jupyter-widgets/base",
            "_view_module_version": "1.2.0",
            "_view_name": "LayoutView",
            "align_content": null,
            "align_items": null,
            "align_self": null,
            "border": null,
            "bottom": null,
            "display": null,
            "flex": null,
            "flex_flow": null,
            "grid_area": null,
            "grid_auto_columns": null,
            "grid_auto_flow": null,
            "grid_auto_rows": null,
            "grid_column": null,
            "grid_gap": null,
            "grid_row": null,
            "grid_template_areas": null,
            "grid_template_columns": null,
            "grid_template_rows": null,
            "height": null,
            "justify_content": null,
            "justify_items": null,
            "left": null,
            "margin": null,
            "max_height": null,
            "max_width": null,
            "min_height": null,
            "min_width": null,
            "object_fit": null,
            "object_position": null,
            "order": null,
            "overflow": null,
            "overflow_x": null,
            "overflow_y": null,
            "padding": null,
            "right": null,
            "top": null,
            "visibility": null,
            "width": null
          }
        },
        "1c02b811dc6b44c1b4ffdb5039ee8114": {
          "model_module": "@jupyter-widgets/controls",
          "model_name": "DescriptionStyleModel",
          "model_module_version": "1.5.0",
          "state": {
            "_model_module": "@jupyter-widgets/controls",
            "_model_module_version": "1.5.0",
            "_model_name": "DescriptionStyleModel",
            "_view_count": null,
            "_view_module": "@jupyter-widgets/base",
            "_view_module_version": "1.2.0",
            "_view_name": "StyleView",
            "description_width": ""
          }
        },
        "ac1fb65ee6844ae9a3a1486f8c0f06d0": {
          "model_module": "@jupyter-widgets/base",
          "model_name": "LayoutModel",
          "model_module_version": "1.2.0",
          "state": {
            "_model_module": "@jupyter-widgets/base",
            "_model_module_version": "1.2.0",
            "_model_name": "LayoutModel",
            "_view_count": null,
            "_view_module": "@jupyter-widgets/base",
            "_view_module_version": "1.2.0",
            "_view_name": "LayoutView",
            "align_content": null,
            "align_items": null,
            "align_self": null,
            "border": null,
            "bottom": null,
            "display": null,
            "flex": null,
            "flex_flow": null,
            "grid_area": null,
            "grid_auto_columns": null,
            "grid_auto_flow": null,
            "grid_auto_rows": null,
            "grid_column": null,
            "grid_gap": null,
            "grid_row": null,
            "grid_template_areas": null,
            "grid_template_columns": null,
            "grid_template_rows": null,
            "height": null,
            "justify_content": null,
            "justify_items": null,
            "left": null,
            "margin": null,
            "max_height": null,
            "max_width": null,
            "min_height": null,
            "min_width": null,
            "object_fit": null,
            "object_position": null,
            "order": null,
            "overflow": null,
            "overflow_x": null,
            "overflow_y": null,
            "padding": null,
            "right": null,
            "top": null,
            "visibility": null,
            "width": null
          }
        },
        "7def9f68460e4576ae523bf16a7a5aa0": {
          "model_module": "@jupyter-widgets/controls",
          "model_name": "ProgressStyleModel",
          "model_module_version": "1.5.0",
          "state": {
            "_model_module": "@jupyter-widgets/controls",
            "_model_module_version": "1.5.0",
            "_model_name": "ProgressStyleModel",
            "_view_count": null,
            "_view_module": "@jupyter-widgets/base",
            "_view_module_version": "1.2.0",
            "_view_name": "StyleView",
            "bar_color": null,
            "description_width": ""
          }
        },
        "888a82eb6d984cd1b3133634a4df10e8": {
          "model_module": "@jupyter-widgets/base",
          "model_name": "LayoutModel",
          "model_module_version": "1.2.0",
          "state": {
            "_model_module": "@jupyter-widgets/base",
            "_model_module_version": "1.2.0",
            "_model_name": "LayoutModel",
            "_view_count": null,
            "_view_module": "@jupyter-widgets/base",
            "_view_module_version": "1.2.0",
            "_view_name": "LayoutView",
            "align_content": null,
            "align_items": null,
            "align_self": null,
            "border": null,
            "bottom": null,
            "display": null,
            "flex": null,
            "flex_flow": null,
            "grid_area": null,
            "grid_auto_columns": null,
            "grid_auto_flow": null,
            "grid_auto_rows": null,
            "grid_column": null,
            "grid_gap": null,
            "grid_row": null,
            "grid_template_areas": null,
            "grid_template_columns": null,
            "grid_template_rows": null,
            "height": null,
            "justify_content": null,
            "justify_items": null,
            "left": null,
            "margin": null,
            "max_height": null,
            "max_width": null,
            "min_height": null,
            "min_width": null,
            "object_fit": null,
            "object_position": null,
            "order": null,
            "overflow": null,
            "overflow_x": null,
            "overflow_y": null,
            "padding": null,
            "right": null,
            "top": null,
            "visibility": null,
            "width": null
          }
        },
        "58ce7f6fde714993b7d3821d9734202a": {
          "model_module": "@jupyter-widgets/controls",
          "model_name": "DescriptionStyleModel",
          "model_module_version": "1.5.0",
          "state": {
            "_model_module": "@jupyter-widgets/controls",
            "_model_module_version": "1.5.0",
            "_model_name": "DescriptionStyleModel",
            "_view_count": null,
            "_view_module": "@jupyter-widgets/base",
            "_view_module_version": "1.2.0",
            "_view_name": "StyleView",
            "description_width": ""
          }
        },
        "9314d937e6c54c59abbe62bbec5dbb10": {
          "model_module": "@jupyter-widgets/controls",
          "model_name": "HBoxModel",
          "model_module_version": "1.5.0",
          "state": {
            "_dom_classes": [],
            "_model_module": "@jupyter-widgets/controls",
            "_model_module_version": "1.5.0",
            "_model_name": "HBoxModel",
            "_view_count": null,
            "_view_module": "@jupyter-widgets/controls",
            "_view_module_version": "1.5.0",
            "_view_name": "HBoxView",
            "box_style": "",
            "children": [
              "IPY_MODEL_7fe7356b6186409a92cdbe04c005645d",
              "IPY_MODEL_c1f5101d9eb94a91ba530d7788a1e626",
              "IPY_MODEL_4d0da208cd604dfd8ad93f7dbc3837d6"
            ],
            "layout": "IPY_MODEL_de33ecc91a8f457d8373d97226bea51b"
          }
        },
        "7fe7356b6186409a92cdbe04c005645d": {
          "model_module": "@jupyter-widgets/controls",
          "model_name": "HTMLModel",
          "model_module_version": "1.5.0",
          "state": {
            "_dom_classes": [],
            "_model_module": "@jupyter-widgets/controls",
            "_model_module_version": "1.5.0",
            "_model_name": "HTMLModel",
            "_view_count": null,
            "_view_module": "@jupyter-widgets/controls",
            "_view_module_version": "1.5.0",
            "_view_name": "HTMLView",
            "description": "",
            "description_tooltip": null,
            "layout": "IPY_MODEL_8ad6b5271dbb402ab5734d0aa21fdbbb",
            "placeholder": "​",
            "style": "IPY_MODEL_359f3f3fe3f149ba8b6eaa8f6695a661",
            "value": "Generating train split: "
          }
        },
        "c1f5101d9eb94a91ba530d7788a1e626": {
          "model_module": "@jupyter-widgets/controls",
          "model_name": "FloatProgressModel",
          "model_module_version": "1.5.0",
          "state": {
            "_dom_classes": [],
            "_model_module": "@jupyter-widgets/controls",
            "_model_module_version": "1.5.0",
            "_model_name": "FloatProgressModel",
            "_view_count": null,
            "_view_module": "@jupyter-widgets/controls",
            "_view_module_version": "1.5.0",
            "_view_name": "ProgressView",
            "bar_style": "info",
            "description": "",
            "description_tooltip": null,
            "layout": "IPY_MODEL_9a3e43129f584b74a74c9450542eb4fc",
            "max": 1,
            "min": 0,
            "orientation": "horizontal",
            "style": "IPY_MODEL_63fd1c912fc84bcb82c56e639090fbdd",
            "value": 1
          }
        },
        "4d0da208cd604dfd8ad93f7dbc3837d6": {
          "model_module": "@jupyter-widgets/controls",
          "model_name": "HTMLModel",
          "model_module_version": "1.5.0",
          "state": {
            "_dom_classes": [],
            "_model_module": "@jupyter-widgets/controls",
            "_model_module_version": "1.5.0",
            "_model_name": "HTMLModel",
            "_view_count": null,
            "_view_module": "@jupyter-widgets/controls",
            "_view_module_version": "1.5.0",
            "_view_name": "HTMLView",
            "description": "",
            "description_tooltip": null,
            "layout": "IPY_MODEL_b0328a32ae6b413282ed945fbff9c85b",
            "placeholder": "​",
            "style": "IPY_MODEL_cd31c08dbcf94ee593b6943d33b6e39c",
            "value": " 10000/0 [00:00&lt;00:00, 66032.38 examples/s]"
          }
        },
        "de33ecc91a8f457d8373d97226bea51b": {
          "model_module": "@jupyter-widgets/base",
          "model_name": "LayoutModel",
          "model_module_version": "1.2.0",
          "state": {
            "_model_module": "@jupyter-widgets/base",
            "_model_module_version": "1.2.0",
            "_model_name": "LayoutModel",
            "_view_count": null,
            "_view_module": "@jupyter-widgets/base",
            "_view_module_version": "1.2.0",
            "_view_name": "LayoutView",
            "align_content": null,
            "align_items": null,
            "align_self": null,
            "border": null,
            "bottom": null,
            "display": null,
            "flex": null,
            "flex_flow": null,
            "grid_area": null,
            "grid_auto_columns": null,
            "grid_auto_flow": null,
            "grid_auto_rows": null,
            "grid_column": null,
            "grid_gap": null,
            "grid_row": null,
            "grid_template_areas": null,
            "grid_template_columns": null,
            "grid_template_rows": null,
            "height": null,
            "justify_content": null,
            "justify_items": null,
            "left": null,
            "margin": null,
            "max_height": null,
            "max_width": null,
            "min_height": null,
            "min_width": null,
            "object_fit": null,
            "object_position": null,
            "order": null,
            "overflow": null,
            "overflow_x": null,
            "overflow_y": null,
            "padding": null,
            "right": null,
            "top": null,
            "visibility": "hidden",
            "width": null
          }
        },
        "8ad6b5271dbb402ab5734d0aa21fdbbb": {
          "model_module": "@jupyter-widgets/base",
          "model_name": "LayoutModel",
          "model_module_version": "1.2.0",
          "state": {
            "_model_module": "@jupyter-widgets/base",
            "_model_module_version": "1.2.0",
            "_model_name": "LayoutModel",
            "_view_count": null,
            "_view_module": "@jupyter-widgets/base",
            "_view_module_version": "1.2.0",
            "_view_name": "LayoutView",
            "align_content": null,
            "align_items": null,
            "align_self": null,
            "border": null,
            "bottom": null,
            "display": null,
            "flex": null,
            "flex_flow": null,
            "grid_area": null,
            "grid_auto_columns": null,
            "grid_auto_flow": null,
            "grid_auto_rows": null,
            "grid_column": null,
            "grid_gap": null,
            "grid_row": null,
            "grid_template_areas": null,
            "grid_template_columns": null,
            "grid_template_rows": null,
            "height": null,
            "justify_content": null,
            "justify_items": null,
            "left": null,
            "margin": null,
            "max_height": null,
            "max_width": null,
            "min_height": null,
            "min_width": null,
            "object_fit": null,
            "object_position": null,
            "order": null,
            "overflow": null,
            "overflow_x": null,
            "overflow_y": null,
            "padding": null,
            "right": null,
            "top": null,
            "visibility": null,
            "width": null
          }
        },
        "359f3f3fe3f149ba8b6eaa8f6695a661": {
          "model_module": "@jupyter-widgets/controls",
          "model_name": "DescriptionStyleModel",
          "model_module_version": "1.5.0",
          "state": {
            "_model_module": "@jupyter-widgets/controls",
            "_model_module_version": "1.5.0",
            "_model_name": "DescriptionStyleModel",
            "_view_count": null,
            "_view_module": "@jupyter-widgets/base",
            "_view_module_version": "1.2.0",
            "_view_name": "StyleView",
            "description_width": ""
          }
        },
        "9a3e43129f584b74a74c9450542eb4fc": {
          "model_module": "@jupyter-widgets/base",
          "model_name": "LayoutModel",
          "model_module_version": "1.2.0",
          "state": {
            "_model_module": "@jupyter-widgets/base",
            "_model_module_version": "1.2.0",
            "_model_name": "LayoutModel",
            "_view_count": null,
            "_view_module": "@jupyter-widgets/base",
            "_view_module_version": "1.2.0",
            "_view_name": "LayoutView",
            "align_content": null,
            "align_items": null,
            "align_self": null,
            "border": null,
            "bottom": null,
            "display": null,
            "flex": null,
            "flex_flow": null,
            "grid_area": null,
            "grid_auto_columns": null,
            "grid_auto_flow": null,
            "grid_auto_rows": null,
            "grid_column": null,
            "grid_gap": null,
            "grid_row": null,
            "grid_template_areas": null,
            "grid_template_columns": null,
            "grid_template_rows": null,
            "height": null,
            "justify_content": null,
            "justify_items": null,
            "left": null,
            "margin": null,
            "max_height": null,
            "max_width": null,
            "min_height": null,
            "min_width": null,
            "object_fit": null,
            "object_position": null,
            "order": null,
            "overflow": null,
            "overflow_x": null,
            "overflow_y": null,
            "padding": null,
            "right": null,
            "top": null,
            "visibility": null,
            "width": "20px"
          }
        },
        "63fd1c912fc84bcb82c56e639090fbdd": {
          "model_module": "@jupyter-widgets/controls",
          "model_name": "ProgressStyleModel",
          "model_module_version": "1.5.0",
          "state": {
            "_model_module": "@jupyter-widgets/controls",
            "_model_module_version": "1.5.0",
            "_model_name": "ProgressStyleModel",
            "_view_count": null,
            "_view_module": "@jupyter-widgets/base",
            "_view_module_version": "1.2.0",
            "_view_name": "StyleView",
            "bar_color": null,
            "description_width": ""
          }
        },
        "b0328a32ae6b413282ed945fbff9c85b": {
          "model_module": "@jupyter-widgets/base",
          "model_name": "LayoutModel",
          "model_module_version": "1.2.0",
          "state": {
            "_model_module": "@jupyter-widgets/base",
            "_model_module_version": "1.2.0",
            "_model_name": "LayoutModel",
            "_view_count": null,
            "_view_module": "@jupyter-widgets/base",
            "_view_module_version": "1.2.0",
            "_view_name": "LayoutView",
            "align_content": null,
            "align_items": null,
            "align_self": null,
            "border": null,
            "bottom": null,
            "display": null,
            "flex": null,
            "flex_flow": null,
            "grid_area": null,
            "grid_auto_columns": null,
            "grid_auto_flow": null,
            "grid_auto_rows": null,
            "grid_column": null,
            "grid_gap": null,
            "grid_row": null,
            "grid_template_areas": null,
            "grid_template_columns": null,
            "grid_template_rows": null,
            "height": null,
            "justify_content": null,
            "justify_items": null,
            "left": null,
            "margin": null,
            "max_height": null,
            "max_width": null,
            "min_height": null,
            "min_width": null,
            "object_fit": null,
            "object_position": null,
            "order": null,
            "overflow": null,
            "overflow_x": null,
            "overflow_y": null,
            "padding": null,
            "right": null,
            "top": null,
            "visibility": null,
            "width": null
          }
        },
        "cd31c08dbcf94ee593b6943d33b6e39c": {
          "model_module": "@jupyter-widgets/controls",
          "model_name": "DescriptionStyleModel",
          "model_module_version": "1.5.0",
          "state": {
            "_model_module": "@jupyter-widgets/controls",
            "_model_module_version": "1.5.0",
            "_model_name": "DescriptionStyleModel",
            "_view_count": null,
            "_view_module": "@jupyter-widgets/base",
            "_view_module_version": "1.2.0",
            "_view_name": "StyleView",
            "description_width": ""
          }
        },
        "f959416377b446adbe8553d1ed1ebee5": {
          "model_module": "@jupyter-widgets/controls",
          "model_name": "HBoxModel",
          "model_module_version": "1.5.0",
          "state": {
            "_dom_classes": [],
            "_model_module": "@jupyter-widgets/controls",
            "_model_module_version": "1.5.0",
            "_model_name": "HBoxModel",
            "_view_count": null,
            "_view_module": "@jupyter-widgets/controls",
            "_view_module_version": "1.5.0",
            "_view_name": "HBoxView",
            "box_style": "",
            "children": [
              "IPY_MODEL_7ed9930ed12445009bec1fce4832128b",
              "IPY_MODEL_ade8676ee0d44ba281ab21df99f84b3f",
              "IPY_MODEL_d4e63535b65844f6865e4a2e187a03f6"
            ],
            "layout": "IPY_MODEL_8be14ea1b00145dca1bb03b3db08ed64"
          }
        },
        "7ed9930ed12445009bec1fce4832128b": {
          "model_module": "@jupyter-widgets/controls",
          "model_name": "HTMLModel",
          "model_module_version": "1.5.0",
          "state": {
            "_dom_classes": [],
            "_model_module": "@jupyter-widgets/controls",
            "_model_module_version": "1.5.0",
            "_model_name": "HTMLModel",
            "_view_count": null,
            "_view_module": "@jupyter-widgets/controls",
            "_view_module_version": "1.5.0",
            "_view_name": "HTMLView",
            "description": "",
            "description_tooltip": null,
            "layout": "IPY_MODEL_f58140c3f4484b2e979e6f5482dfa567",
            "placeholder": "​",
            "style": "IPY_MODEL_0448c56aeeec4660bbb41efc2021018a",
            "value": "100%"
          }
        },
        "ade8676ee0d44ba281ab21df99f84b3f": {
          "model_module": "@jupyter-widgets/controls",
          "model_name": "FloatProgressModel",
          "model_module_version": "1.5.0",
          "state": {
            "_dom_classes": [],
            "_model_module": "@jupyter-widgets/controls",
            "_model_module_version": "1.5.0",
            "_model_name": "FloatProgressModel",
            "_view_count": null,
            "_view_module": "@jupyter-widgets/controls",
            "_view_module_version": "1.5.0",
            "_view_name": "ProgressView",
            "bar_style": "success",
            "description": "",
            "description_tooltip": null,
            "layout": "IPY_MODEL_c6ed3eef8c434d4d8d80ddba7d8f85e9",
            "max": 1,
            "min": 0,
            "orientation": "horizontal",
            "style": "IPY_MODEL_b427124247734a798cf915f4dfb094cb",
            "value": 1
          }
        },
        "d4e63535b65844f6865e4a2e187a03f6": {
          "model_module": "@jupyter-widgets/controls",
          "model_name": "HTMLModel",
          "model_module_version": "1.5.0",
          "state": {
            "_dom_classes": [],
            "_model_module": "@jupyter-widgets/controls",
            "_model_module_version": "1.5.0",
            "_model_name": "HTMLModel",
            "_view_count": null,
            "_view_module": "@jupyter-widgets/controls",
            "_view_module_version": "1.5.0",
            "_view_name": "HTMLView",
            "description": "",
            "description_tooltip": null,
            "layout": "IPY_MODEL_d2dd22d125b04550bb4f80e7135e0a61",
            "placeholder": "​",
            "style": "IPY_MODEL_d7af1d2fd8fd456c95b597b01f389cb6",
            "value": " 1/1 [00:00&lt;00:00, 25.40it/s]"
          }
        },
        "8be14ea1b00145dca1bb03b3db08ed64": {
          "model_module": "@jupyter-widgets/base",
          "model_name": "LayoutModel",
          "model_module_version": "1.2.0",
          "state": {
            "_model_module": "@jupyter-widgets/base",
            "_model_module_version": "1.2.0",
            "_model_name": "LayoutModel",
            "_view_count": null,
            "_view_module": "@jupyter-widgets/base",
            "_view_module_version": "1.2.0",
            "_view_name": "LayoutView",
            "align_content": null,
            "align_items": null,
            "align_self": null,
            "border": null,
            "bottom": null,
            "display": null,
            "flex": null,
            "flex_flow": null,
            "grid_area": null,
            "grid_auto_columns": null,
            "grid_auto_flow": null,
            "grid_auto_rows": null,
            "grid_column": null,
            "grid_gap": null,
            "grid_row": null,
            "grid_template_areas": null,
            "grid_template_columns": null,
            "grid_template_rows": null,
            "height": null,
            "justify_content": null,
            "justify_items": null,
            "left": null,
            "margin": null,
            "max_height": null,
            "max_width": null,
            "min_height": null,
            "min_width": null,
            "object_fit": null,
            "object_position": null,
            "order": null,
            "overflow": null,
            "overflow_x": null,
            "overflow_y": null,
            "padding": null,
            "right": null,
            "top": null,
            "visibility": null,
            "width": null
          }
        },
        "f58140c3f4484b2e979e6f5482dfa567": {
          "model_module": "@jupyter-widgets/base",
          "model_name": "LayoutModel",
          "model_module_version": "1.2.0",
          "state": {
            "_model_module": "@jupyter-widgets/base",
            "_model_module_version": "1.2.0",
            "_model_name": "LayoutModel",
            "_view_count": null,
            "_view_module": "@jupyter-widgets/base",
            "_view_module_version": "1.2.0",
            "_view_name": "LayoutView",
            "align_content": null,
            "align_items": null,
            "align_self": null,
            "border": null,
            "bottom": null,
            "display": null,
            "flex": null,
            "flex_flow": null,
            "grid_area": null,
            "grid_auto_columns": null,
            "grid_auto_flow": null,
            "grid_auto_rows": null,
            "grid_column": null,
            "grid_gap": null,
            "grid_row": null,
            "grid_template_areas": null,
            "grid_template_columns": null,
            "grid_template_rows": null,
            "height": null,
            "justify_content": null,
            "justify_items": null,
            "left": null,
            "margin": null,
            "max_height": null,
            "max_width": null,
            "min_height": null,
            "min_width": null,
            "object_fit": null,
            "object_position": null,
            "order": null,
            "overflow": null,
            "overflow_x": null,
            "overflow_y": null,
            "padding": null,
            "right": null,
            "top": null,
            "visibility": null,
            "width": null
          }
        },
        "0448c56aeeec4660bbb41efc2021018a": {
          "model_module": "@jupyter-widgets/controls",
          "model_name": "DescriptionStyleModel",
          "model_module_version": "1.5.0",
          "state": {
            "_model_module": "@jupyter-widgets/controls",
            "_model_module_version": "1.5.0",
            "_model_name": "DescriptionStyleModel",
            "_view_count": null,
            "_view_module": "@jupyter-widgets/base",
            "_view_module_version": "1.2.0",
            "_view_name": "StyleView",
            "description_width": ""
          }
        },
        "c6ed3eef8c434d4d8d80ddba7d8f85e9": {
          "model_module": "@jupyter-widgets/base",
          "model_name": "LayoutModel",
          "model_module_version": "1.2.0",
          "state": {
            "_model_module": "@jupyter-widgets/base",
            "_model_module_version": "1.2.0",
            "_model_name": "LayoutModel",
            "_view_count": null,
            "_view_module": "@jupyter-widgets/base",
            "_view_module_version": "1.2.0",
            "_view_name": "LayoutView",
            "align_content": null,
            "align_items": null,
            "align_self": null,
            "border": null,
            "bottom": null,
            "display": null,
            "flex": null,
            "flex_flow": null,
            "grid_area": null,
            "grid_auto_columns": null,
            "grid_auto_flow": null,
            "grid_auto_rows": null,
            "grid_column": null,
            "grid_gap": null,
            "grid_row": null,
            "grid_template_areas": null,
            "grid_template_columns": null,
            "grid_template_rows": null,
            "height": null,
            "justify_content": null,
            "justify_items": null,
            "left": null,
            "margin": null,
            "max_height": null,
            "max_width": null,
            "min_height": null,
            "min_width": null,
            "object_fit": null,
            "object_position": null,
            "order": null,
            "overflow": null,
            "overflow_x": null,
            "overflow_y": null,
            "padding": null,
            "right": null,
            "top": null,
            "visibility": null,
            "width": null
          }
        },
        "b427124247734a798cf915f4dfb094cb": {
          "model_module": "@jupyter-widgets/controls",
          "model_name": "ProgressStyleModel",
          "model_module_version": "1.5.0",
          "state": {
            "_model_module": "@jupyter-widgets/controls",
            "_model_module_version": "1.5.0",
            "_model_name": "ProgressStyleModel",
            "_view_count": null,
            "_view_module": "@jupyter-widgets/base",
            "_view_module_version": "1.2.0",
            "_view_name": "StyleView",
            "bar_color": null,
            "description_width": ""
          }
        },
        "d2dd22d125b04550bb4f80e7135e0a61": {
          "model_module": "@jupyter-widgets/base",
          "model_name": "LayoutModel",
          "model_module_version": "1.2.0",
          "state": {
            "_model_module": "@jupyter-widgets/base",
            "_model_module_version": "1.2.0",
            "_model_name": "LayoutModel",
            "_view_count": null,
            "_view_module": "@jupyter-widgets/base",
            "_view_module_version": "1.2.0",
            "_view_name": "LayoutView",
            "align_content": null,
            "align_items": null,
            "align_self": null,
            "border": null,
            "bottom": null,
            "display": null,
            "flex": null,
            "flex_flow": null,
            "grid_area": null,
            "grid_auto_columns": null,
            "grid_auto_flow": null,
            "grid_auto_rows": null,
            "grid_column": null,
            "grid_gap": null,
            "grid_row": null,
            "grid_template_areas": null,
            "grid_template_columns": null,
            "grid_template_rows": null,
            "height": null,
            "justify_content": null,
            "justify_items": null,
            "left": null,
            "margin": null,
            "max_height": null,
            "max_width": null,
            "min_height": null,
            "min_width": null,
            "object_fit": null,
            "object_position": null,
            "order": null,
            "overflow": null,
            "overflow_x": null,
            "overflow_y": null,
            "padding": null,
            "right": null,
            "top": null,
            "visibility": null,
            "width": null
          }
        },
        "d7af1d2fd8fd456c95b597b01f389cb6": {
          "model_module": "@jupyter-widgets/controls",
          "model_name": "DescriptionStyleModel",
          "model_module_version": "1.5.0",
          "state": {
            "_model_module": "@jupyter-widgets/controls",
            "_model_module_version": "1.5.0",
            "_model_name": "DescriptionStyleModel",
            "_view_count": null,
            "_view_module": "@jupyter-widgets/base",
            "_view_module_version": "1.2.0",
            "_view_name": "StyleView",
            "description_width": ""
          }
        }
      }
    }
  },
  "cells": [
    {
      "cell_type": "markdown",
      "metadata": {
        "id": "view-in-github",
        "colab_type": "text"
      },
      "source": [
        "<a href=\"https://colab.research.google.com/github/kobe4cn/modelscope/blob/main/%E4%BA%A7%E5%93%81%E5%90%8D%E7%A7%B0%E6%8A%BD%E5%8F%96.ipynb\" target=\"_parent\"><img src=\"https://colab.research.google.com/assets/colab-badge.svg\" alt=\"Open In Colab\"/></a>"
      ]
    },
    {
      "cell_type": "code",
      "execution_count": null,
      "metadata": {
        "colab": {
          "base_uri": "https://localhost:8080/"
        },
        "id": "Dn2B_rGHrxUP",
        "outputId": "4731ec57-2767-4045-902e-0d3da00e987b"
      },
      "outputs": [
        {
          "output_type": "stream",
          "name": "stdout",
          "text": [
            "Installing collected packages: tokenizers, safetensors, transformers\n",
            "Successfully installed safetensors-0.3.1 tokenizers-0.13.3 transformers-4.30.2\n"
          ]
        }
      ],
      "source": [
        "!pip install modelscope\n",
        "!pip install transformers"
      ]
    },
    {
      "cell_type": "code",
      "source": [
        "from modelscope.pipelines import pipeline\n",
        "from modelscope.utils.constant import Tasks\n",
        "from modelscope.msdatasets import MsDataset\n",
        "import pandas as pd\n",
        "import csv\n"
      ],
      "metadata": {
        "id": "7DsRTbyEsY20"
      },
      "execution_count": 14,
      "outputs": []
    },
    {
      "cell_type": "markdown",
      "source": [
        "RaNER命名实体识别-中文-电商领域-细粒度-base\n",
        "https://modelscope.cn/models/damo/nlp_raner_named-entity-recognition_chinese-base-ecom-50cls/summary"
      ],
      "metadata": {
        "id": "vLpd2OazLnMa"
      }
    },
    {
      "cell_type": "code",
      "source": [
        "ner_pipeline = pipeline(Tasks.named_entity_recognition, 'damo/nlp_raner_named-entity-recognition_chinese-base-ecom-50cls')"
      ],
      "metadata": {
        "id": "9URKs99asf3o"
      },
      "execution_count": null,
      "outputs": []
    },
    {
      "cell_type": "markdown",
      "source": [
        "从google drive读取文件 如：product_original_data.xlsx\n",
        "将其中的商品排行中的信息转换成csv文件"
      ],
      "metadata": {
        "id": "S-NMxjdOtLCk"
      }
    },
    {
      "cell_type": "code",
      "source": [
        "excel_file=pd.read_excel(open('/content/drive/MyDrive/Colab Notebooks/modelscope/data/product_original_data.xlsx','rb'),sheet_name='商品排行')\n",
        "df=excel_file['商品']\n",
        "df.to_csv('/content/drive/MyDrive/Colab Notebooks/modelscope/data/product_original_data.csv',index=False, encoding='utf8')\n"
      ],
      "metadata": {
        "id": "zdEUPXRMtKqW"
      },
      "execution_count": 12,
      "outputs": []
    },
    {
      "cell_type": "code",
      "source": [
        "ds=MsDataset.load('/content/drive/MyDrive/Colab Notebooks/modelscope/data/product_original_data.csv')\n"
      ],
      "metadata": {
        "id": "YPYEfcgHxUdJ",
        "colab": {
          "base_uri": "https://localhost:8080/",
          "height": 222,
          "referenced_widgets": [
            "e682a333842e4ccda6ea3f62379228c6",
            "da607caca601496890ef2a708bd350d2",
            "c4f360d3f0864836b09e2cf15126d8ab",
            "123f31274bb14bf19c61226c5e8001a9",
            "5bd50ca5ceb945f4b9255faa826c3388",
            "7a81e22b1447480d85f7a20c32eb6fa5",
            "3818697c4e8b412abed6802dd082466d",
            "18f9f4864f254bc59e7b2bf8bebdaf8c",
            "682b7e3955c241f89f4eb2946c9e9631",
            "748163e30e9a4da58cb43b30fa5ad5d7",
            "fdbe4cb4bddd4253a22d30411b001f03",
            "2474853bfa284189a4a024e71dc10dd6",
            "6c617e3817ae404e82f23d18a45bc84a",
            "2cd675f107d8451b8cab68c450695be8",
            "6c4beff5c69a47a08ac3121be7d448d0",
            "e05de65d89994d26b478006ad6019aba",
            "7ac2e8a6ccd845d09576a54f7aecf930",
            "1c02b811dc6b44c1b4ffdb5039ee8114",
            "ac1fb65ee6844ae9a3a1486f8c0f06d0",
            "7def9f68460e4576ae523bf16a7a5aa0",
            "888a82eb6d984cd1b3133634a4df10e8",
            "58ce7f6fde714993b7d3821d9734202a",
            "9314d937e6c54c59abbe62bbec5dbb10",
            "7fe7356b6186409a92cdbe04c005645d",
            "c1f5101d9eb94a91ba530d7788a1e626",
            "4d0da208cd604dfd8ad93f7dbc3837d6",
            "de33ecc91a8f457d8373d97226bea51b",
            "8ad6b5271dbb402ab5734d0aa21fdbbb",
            "359f3f3fe3f149ba8b6eaa8f6695a661",
            "9a3e43129f584b74a74c9450542eb4fc",
            "63fd1c912fc84bcb82c56e639090fbdd",
            "b0328a32ae6b413282ed945fbff9c85b",
            "cd31c08dbcf94ee593b6943d33b6e39c",
            "f959416377b446adbe8553d1ed1ebee5",
            "7ed9930ed12445009bec1fce4832128b",
            "ade8676ee0d44ba281ab21df99f84b3f",
            "d4e63535b65844f6865e4a2e187a03f6",
            "8be14ea1b00145dca1bb03b3db08ed64",
            "f58140c3f4484b2e979e6f5482dfa567",
            "0448c56aeeec4660bbb41efc2021018a",
            "c6ed3eef8c434d4d8d80ddba7d8f85e9",
            "b427124247734a798cf915f4dfb094cb",
            "d2dd22d125b04550bb4f80e7135e0a61",
            "d7af1d2fd8fd456c95b597b01f389cb6"
          ]
        },
        "outputId": "6c952dcb-0841-4f1b-e2ea-fea181bd3b06"
      },
      "execution_count": 15,
      "outputs": [
        {
          "output_type": "stream",
          "name": "stderr",
          "text": [
            "/usr/local/lib/python3.10/dist-packages/datasets/load.py:1760: FutureWarning: 'ignore_verifications' was deprecated in favor of 'verification_mode' in version 2.9.1 and will be removed in 3.0.0.\n",
            "You can remove this warning by passing 'verification_mode=no_checks' instead.\n",
            "  warnings.warn(\n"
          ]
        },
        {
          "output_type": "stream",
          "name": "stdout",
          "text": [
            "Downloading and preparing dataset csv/default to /root/.cache/modelscope/hub/datasets/csv/default-4393f4aa6b69fa39/0.0.0/eea64c71ca8b46dd3f537ed218fc9bf495d5707789152eb2764f5c78fa66d59d...\n"
          ]
        },
        {
          "output_type": "display_data",
          "data": {
            "text/plain": [
              "Downloading data files:   0%|          | 0/1 [00:00<?, ?it/s]"
            ],
            "application/vnd.jupyter.widget-view+json": {
              "version_major": 2,
              "version_minor": 0,
              "model_id": "e682a333842e4ccda6ea3f62379228c6"
            }
          },
          "metadata": {}
        },
        {
          "output_type": "display_data",
          "data": {
            "text/plain": [
              "Extracting data files:   0%|          | 0/1 [00:00<?, ?it/s]"
            ],
            "application/vnd.jupyter.widget-view+json": {
              "version_major": 2,
              "version_minor": 0,
              "model_id": "2474853bfa284189a4a024e71dc10dd6"
            }
          },
          "metadata": {}
        },
        {
          "output_type": "display_data",
          "data": {
            "text/plain": [
              "Generating train split: 0 examples [00:00, ? examples/s]"
            ],
            "application/vnd.jupyter.widget-view+json": {
              "version_major": 2,
              "version_minor": 0,
              "model_id": "9314d937e6c54c59abbe62bbec5dbb10"
            }
          },
          "metadata": {}
        },
        {
          "output_type": "stream",
          "name": "stdout",
          "text": [
            "Dataset csv downloaded and prepared to /root/.cache/modelscope/hub/datasets/csv/default-4393f4aa6b69fa39/0.0.0/eea64c71ca8b46dd3f537ed218fc9bf495d5707789152eb2764f5c78fa66d59d. Subsequent calls will reuse this data.\n"
          ]
        },
        {
          "output_type": "display_data",
          "data": {
            "text/plain": [
              "  0%|          | 0/1 [00:00<?, ?it/s]"
            ],
            "application/vnd.jupyter.widget-view+json": {
              "version_major": 2,
              "version_minor": 0,
              "model_id": "f959416377b446adbe8553d1ed1ebee5"
            }
          },
          "metadata": {}
        }
      ]
    },
    {
      "cell_type": "code",
      "source": [
        "filename = '/content/drive/MyDrive/Colab Notebooks/modelscope/data/product_result.csv'\n",
        "header = True\n",
        "index = False\n",
        "sep = ','"
      ],
      "metadata": {
        "id": "enGGvam3Ag2Y"
      },
      "execution_count": 36,
      "outputs": []
    },
    {
      "cell_type": "code",
      "source": [
        "for i,v in enumerate(ds):\n",
        "  p_name=v['商品']\n",
        "  result = ner_pipeline(p_name)\n",
        "  obj=result['output']\n",
        "  print(obj)\n",
        "  nickname=''\n",
        "  flag=False\n",
        "  for v in obj:\n",
        "    if v['type']=='品牌':\n",
        "      flag=True\n",
        "    if v['type']=='产品_核心产品':\n",
        "      flag=False\n",
        "      nickname += v['span']\n",
        "      break\n",
        "    if flag==True:\n",
        "      nickname += v['span']\n",
        "  data={'商品名称': p_name,'nick_name': nickname,'json_data': pd.DataFrame(obj).to_string()}\n",
        "  df=pd.DataFrame(data,index=[0])\n",
        "  if i == 0:\n",
        "    mode = 'w'\n",
        "    header = header\n",
        "  else:\n",
        "    mode = 'a'\n",
        "    header = False\n",
        "  df.to_csv(filename, mode=mode, index=index, header=header, sep=sep,encoding='utf8')"
      ],
      "metadata": {
        "colab": {
          "base_uri": "https://localhost:8080/"
        },
        "id": "w84nBUnYAF-V",
        "outputId": "822e503c-6ab0-4d5f-b4bb-4db4e0e9d67b"
      },
      "execution_count": null,
      "outputs": [
        {
          "output_type": "stream",
          "name": "stdout",
          "text": [
            "[{'type': '品牌', 'start': 6, 'end': 9, 'span': '理肤泉'}, {'type': '产品_核心产品', 'start': 9, 'end': 11, 'span': 'K乳'}, {'type': '功能功效', 'start': 11, 'end': 13, 'span': '控油'}, {'type': '功能功效', 'start': 13, 'end': 15, 'span': '祛痘'}, {'type': '功能功效', 'start': 15, 'end': 18, 'span': '去闭口'}, {'type': '功能功效', 'start': 18, 'end': 22, 'span': '粉刺黑头'}, {'type': '功能功效', 'start': 22, 'end': 25, 'span': '细毛孔'}, {'type': '修饰_产品属性', 'start': 25, 'end': 28, 'span': '水杨酸'}, {'type': '产品_核心产品', 'start': 28, 'end': 30, 'span': '精华'}]\n"
          ]
        },
        {
          "output_type": "stream",
          "name": "stderr",
          "text": [
            "/usr/local/lib/python3.10/dist-packages/transformers/modeling_utils.py:884: FutureWarning: The `device` argument is deprecated and will be removed in v5 of Transformers.\n",
            "  warnings.warn(\n"
          ]
        },
        {
          "output_type": "stream",
          "name": "stdout",
          "text": [
            "[{'type': '品牌', 'start': 6, 'end': 9, 'span': '娇韵诗'}, {'type': '修饰_产品属性', 'start': 9, 'end': 11, 'span': '双萃'}, {'type': '产品_核心产品', 'start': 11, 'end': 13, 'span': '精华'}, {'type': '尺寸规格_重量', 'start': 13, 'end': 17, 'span': '50ml'}, {'type': '适用范围_适用人群', 'start': 17, 'end': 19, 'span': '御龄'}, {'type': '功能功效', 'start': 19, 'end': 21, 'span': '呵护'}, {'type': '功能功效', 'start': 21, 'end': 23, 'span': '淡纹'}, {'type': '功能功效', 'start': 23, 'end': 25, 'span': '紧致'}, {'type': '修饰_产品属性', 'start': 25, 'end': 27, 'span': '细腻'}, {'type': '功能功效', 'start': 27, 'end': 29, 'span': '提亮'}]\n"
          ]
        },
        {
          "output_type": "stream",
          "name": "stderr",
          "text": [
            "/usr/local/lib/python3.10/dist-packages/transformers/modeling_utils.py:884: FutureWarning: The `device` argument is deprecated and will be removed in v5 of Transformers.\n",
            "  warnings.warn(\n"
          ]
        },
        {
          "output_type": "stream",
          "name": "stdout",
          "text": [
            "[{'type': '人名_真实人名', 'start': 1, 'end': 4, 'span': '虞书欣'}, {'type': '品牌', 'start': 7, 'end': 10, 'span': '自然堂'}, {'type': '系列', 'start': 10, 'end': 13, 'span': '小紫瓶'}, {'type': '产品_核心产品', 'start': 13, 'end': 16, 'span': '精华液'}, {'type': '修饰_产品属性', 'start': 16, 'end': 19, 'span': '第五代'}, {'type': '功能功效', 'start': 19, 'end': 21, 'span': '修护'}, {'type': '功能功效', 'start': 21, 'end': 23, 'span': '抗老'}, {'type': '修饰_产品属性', 'start': 23, 'end': 27, 'span': '超极酵母'}, {'type': '产品_核心产品', 'start': 27, 'end': 30, 'span': '喜默因'}]\n"
          ]
        },
        {
          "output_type": "stream",
          "name": "stderr",
          "text": [
            "/usr/local/lib/python3.10/dist-packages/transformers/modeling_utils.py:884: FutureWarning: The `device` argument is deprecated and will be removed in v5 of Transformers.\n",
            "  warnings.warn(\n"
          ]
        },
        {
          "output_type": "stream",
          "name": "stdout",
          "text": [
            "[{'type': '品牌', 'start': 6, 'end': 8, 'span': '兰芝'}, {'type': '系列', 'start': 8, 'end': 10, 'span': '维果'}, {'type': '产品_核心产品', 'start': 10, 'end': 12, 'span': '精华'}, {'type': '产品_核心产品', 'start': 12, 'end': 15, 'span': '肌底液'}, {'type': '风格', 'start': 15, 'end': 18, 'span': '粉仙女'}, {'type': '产品_核心产品', 'start': 18, 'end': 20, 'span': '精华'}, {'type': '功能功效', 'start': 20, 'end': 22, 'span': '修护'}, {'type': '产品_核心产品', 'start': 22, 'end': 25, 'span': '肌底水'}, {'type': '修饰_产品属性', 'start': 25, 'end': 27, 'span': '鲜活'}, {'type': '修饰_产品属性', 'start': 27, 'end': 29, 'span': '滋润'}]\n"
          ]
        },
        {
          "output_type": "stream",
          "name": "stderr",
          "text": [
            "/usr/local/lib/python3.10/dist-packages/transformers/modeling_utils.py:884: FutureWarning: The `device` argument is deprecated and will be removed in v5 of Transformers.\n",
            "  warnings.warn(\n"
          ]
        },
        {
          "output_type": "stream",
          "name": "stdout",
          "text": [
            "[{'type': '品牌', 'start': 0, 'end': 3, 'span': '贝玲美'}, {'type': '功能功效', 'start': 9, 'end': 11, 'span': '抗皱'}, {'type': '产品_核心产品', 'start': 11, 'end': 14, 'span': '精华液'}, {'type': '功能功效', 'start': 14, 'end': 16, 'span': '淡纹'}, {'type': '功能功效', 'start': 16, 'end': 18, 'span': '紧致'}, {'type': '功能功效', 'start': 18, 'end': 20, 'span': '嫩肤'}, {'type': '功能功效', 'start': 20, 'end': 22, 'span': '补水'}, {'type': '功能功效', 'start': 22, 'end': 24, 'span': '保湿'}, {'type': '功能功效', 'start': 24, 'end': 27, 'span': '抗氧化'}, {'type': '产品_核心产品', 'start': 27, 'end': 29, 'span': '安瓶'}]\n"
          ]
        },
        {
          "output_type": "stream",
          "name": "stderr",
          "text": [
            "/usr/local/lib/python3.10/dist-packages/transformers/modeling_utils.py:884: FutureWarning: The `device` argument is deprecated and will be removed in v5 of Transformers.\n",
            "  warnings.warn(\n"
          ]
        },
        {
          "output_type": "stream",
          "name": "stdout",
          "text": [
            "[{'type': '人名_真实人名', 'start': 1, 'end': 4, 'span': '虞书欣'}, {'type': '品牌', 'start': 7, 'end': 10, 'span': '自然堂'}, {'type': '系列', 'start': 10, 'end': 13, 'span': '小紫瓶'}, {'type': '产品_核心产品', 'start': 13, 'end': 16, 'span': '精华液'}, {'type': '修饰_产品属性', 'start': 16, 'end': 19, 'span': '第五代'}, {'type': '功能功效', 'start': 19, 'end': 21, 'span': '修护'}, {'type': '功能功效', 'start': 21, 'end': 23, 'span': '抗老'}, {'type': '修饰_产品属性', 'start': 23, 'end': 27, 'span': '超极酵母'}, {'type': '产品_核心产品', 'start': 27, 'end': 30, 'span': '喜默因'}]\n"
          ]
        },
        {
          "output_type": "stream",
          "name": "stderr",
          "text": [
            "/usr/local/lib/python3.10/dist-packages/transformers/modeling_utils.py:884: FutureWarning: The `device` argument is deprecated and will be removed in v5 of Transformers.\n",
            "  warnings.warn(\n"
          ]
        },
        {
          "output_type": "stream",
          "name": "stdout",
          "text": [
            "[{'type': '适用范围_适用场景', 'start': 1, 'end': 4, 'span': '618'}, {'type': '品牌', 'start': 9, 'end': 11, 'span': '雅顿'}, {'type': '产品_核心产品', 'start': 11, 'end': 13, 'span': '粉胶'}, {'type': '适用范围_其他', 'start': 13, 'end': 15, 'span': '夜间'}, {'type': '修饰_产品属性', 'start': 15, 'end': 17, 'span': '多效'}, {'type': '产品_核心产品', 'start': 17, 'end': 19, 'span': '精华'}, {'type': '修饰_产品属性', 'start': 19, 'end': 23, 'span': '次抛A醇'}, {'type': '尺寸规格_售卖规格', 'start': 23, 'end': 25, 'span': '胶囊'}, {'type': '功能功效', 'start': 25, 'end': 27, 'span': '淡纹'}, {'type': '功能功效', 'start': 27, 'end': 29, 'span': '紧致'}, {'type': '功能功效', 'start': 29, 'end': 32, 'span': '收毛孔'}]\n"
          ]
        },
        {
          "output_type": "stream",
          "name": "stderr",
          "text": [
            "/usr/local/lib/python3.10/dist-packages/transformers/modeling_utils.py:884: FutureWarning: The `device` argument is deprecated and will be removed in v5 of Transformers.\n",
            "  warnings.warn(\n"
          ]
        },
        {
          "output_type": "stream",
          "name": "stdout",
          "text": [
            "[{'type': '修饰_产品属性', 'start': 3, 'end': 5, 'span': '正品'}, {'type': '产品_核心产品', 'start': 6, 'end': 10, 'span': '玫瑰精油'}, {'type': '适用范围_其他', 'start': 10, 'end': 12, 'span': '面部'}, {'type': '款式_其他', 'start': 12, 'end': 14, 'span': '胶囊'}, {'type': '功能功效', 'start': 14, 'end': 18, 'span': '提亮肤色'}, {'type': '功能功效', 'start': 18, 'end': 20, 'span': '保湿'}, {'type': '功能功效', 'start': 20, 'end': 22, 'span': '补水'}, {'type': '功能功效', 'start': 22, 'end': 24, 'span': '滋润'}, {'type': '适用范围_适用场景', 'start': 24, 'end': 27, 'span': '旗舰店'}, {'type': '适用范围_适用对象', 'start': 27, 'end': 28, 'span': '女'}]\n"
          ]
        },
        {
          "output_type": "stream",
          "name": "stderr",
          "text": [
            "/usr/local/lib/python3.10/dist-packages/transformers/modeling_utils.py:884: FutureWarning: The `device` argument is deprecated and will be removed in v5 of Transformers.\n",
            "  warnings.warn(\n"
          ]
        },
        {
          "output_type": "stream",
          "name": "stdout",
          "text": [
            "[{'type': '品牌', 'start': 0, 'end': 3, 'span': '肌妍纯'}, {'type': '功能功效', 'start': 3, 'end': 5, 'span': '美白'}, {'type': '款式_其他', 'start': 5, 'end': 7, 'span': '安瓶'}, {'type': '修饰_产品属性', 'start': 7, 'end': 10, 'span': '烟酰胺'}, {'type': '产品_核心产品', 'start': 10, 'end': 13, 'span': '精华液'}, {'type': '品牌', 'start': 13, 'end': 15, 'span': '肌肽'}, {'type': '功能功效', 'start': 15, 'end': 17, 'span': '紧致'}, {'type': '功能功效', 'start': 17, 'end': 19, 'span': '提亮'}, {'type': '功能功效', 'start': 19, 'end': 22, 'span': '抗初老'}, {'type': '功能功效', 'start': 22, 'end': 24, 'span': '补水'}, {'type': '功能功效', 'start': 24, 'end': 26, 'span': '保湿'}, {'type': '适用范围_其他', 'start': 26, 'end': 28, 'span': '面部'}, {'type': '产品_核心产品', 'start': 28, 'end': 30, 'span': '原液'}]\n"
          ]
        },
        {
          "output_type": "stream",
          "name": "stderr",
          "text": [
            "/usr/local/lib/python3.10/dist-packages/transformers/modeling_utils.py:884: FutureWarning: The `device` argument is deprecated and will be removed in v5 of Transformers.\n",
            "  warnings.warn(\n"
          ]
        },
        {
          "output_type": "stream",
          "name": "stdout",
          "text": [
            "[{'type': '品牌', 'start': 0, 'end': 3, 'span': '优理氏'}, {'type': '产品_核心产品', 'start': 3, 'end': 6, 'span': '羊胎素'}, {'type': '产品_核心产品', 'start': 6, 'end': 9, 'span': '冻干粉'}, {'type': '功能功效', 'start': 9, 'end': 13, 'span': '紧致淡纹'}, {'type': '功能功效', 'start': 13, 'end': 15, 'span': '抗皱'}, {'type': '功能功效', 'start': 15, 'end': 18, 'span': '抗衰老'}, {'type': '功能功效', 'start': 18, 'end': 22, 'span': '舒缓肌肤'}, {'type': '产品_核心产品', 'start': 22, 'end': 26, 'span': '寡肽原液'}, {'type': '产品_核心产品', 'start': 26, 'end': 29, 'span': '精华液'}]\n"
          ]
        },
        {
          "output_type": "stream",
          "name": "stderr",
          "text": [
            "/usr/local/lib/python3.10/dist-packages/transformers/modeling_utils.py:884: FutureWarning: The `device` argument is deprecated and will be removed in v5 of Transformers.\n",
            "  warnings.warn(\n"
          ]
        },
        {
          "output_type": "stream",
          "name": "stdout",
          "text": [
            "[{'type': '功能功效', 'start': 7, 'end': 9, 'span': '美白'}, {'type': '产品_核心产品', 'start': 9, 'end': 12, 'span': '精华液'}, {'type': '功能功效', 'start': 12, 'end': 14, 'span': '提亮'}, {'type': '功能功效', 'start': 14, 'end': 20, 'span': '改善暗沉肤色'}, {'type': '功能功效', 'start': 20, 'end': 22, 'span': '补水'}, {'type': '功能功效', 'start': 22, 'end': 24, 'span': '淡斑'}, {'type': '功能功效', 'start': 24, 'end': 26, 'span': '焕亮'}, {'type': '修饰_产品属性', 'start': 26, 'end': 29, 'span': '烟酰胺'}, {'type': '产品_核心产品', 'start': 29, 'end': 31, 'span': '原液'}]\n"
          ]
        },
        {
          "output_type": "stream",
          "name": "stderr",
          "text": [
            "/usr/local/lib/python3.10/dist-packages/transformers/modeling_utils.py:884: FutureWarning: The `device` argument is deprecated and will be removed in v5 of Transformers.\n",
            "  warnings.warn(\n"
          ]
        },
        {
          "output_type": "stream",
          "name": "stdout",
          "text": [
            "[{'type': '人名_真实人名', 'start': 7, 'end': 9, 'span': '金晨'}, {'type': '品牌', 'start': 11, 'end': 14, 'span': '娇韵诗'}, {'type': '系列', 'start': 14, 'end': 16, 'span': '光芒'}, {'type': '产品_核心产品', 'start': 16, 'end': 19, 'span': '小瓷瓶'}, {'type': '功能功效', 'start': 19, 'end': 21, 'span': '美白'}, {'type': '功能功效', 'start': 21, 'end': 23, 'span': '焕亮'}, {'type': '功能功效', 'start': 23, 'end': 25, 'span': '淡斑'}, {'type': '功能功效', 'start': 25, 'end': 28, 'span': '淡痘印'}]\n"
          ]
        },
        {
          "output_type": "stream",
          "name": "stderr",
          "text": [
            "/usr/local/lib/python3.10/dist-packages/transformers/modeling_utils.py:884: FutureWarning: The `device` argument is deprecated and will be removed in v5 of Transformers.\n",
            "  warnings.warn(\n"
          ]
        },
        {
          "output_type": "stream",
          "name": "stdout",
          "text": [
            "[{'type': '产品_其他', 'start': 1, 'end': 3, 'span': '礼物'}, {'type': '品牌', 'start': 4, 'end': 8, 'span': '海蓝之谜'}, {'type': '功能功效', 'start': 8, 'end': 10, 'span': '修护'}, {'type': '产品_核心产品', 'start': 10, 'end': 13, 'span': '精萃水'}, {'type': '功能功效', 'start': 14, 'end': 16, 'span': '保湿'}, {'type': '功能功效', 'start': 16, 'end': 19, 'span': '抗初老'}, {'type': '功能功效', 'start': 19, 'end': 21, 'span': '修护'}, {'type': '产品_核心产品', 'start': 21, 'end': 24, 'span': '精华水'}, {'type': '尺寸规格_售卖规格', 'start': 24, 'end': 26, 'span': '礼盒'}]\n"
          ]
        },
        {
          "output_type": "stream",
          "name": "stderr",
          "text": [
            "/usr/local/lib/python3.10/dist-packages/transformers/modeling_utils.py:884: FutureWarning: The `device` argument is deprecated and will be removed in v5 of Transformers.\n",
            "  warnings.warn(\n"
          ]
        },
        {
          "output_type": "stream",
          "name": "stdout",
          "text": [
            "[{'type': '品牌', 'start': 6, 'end': 9, 'span': '优斐斯'}, {'type': '系列', 'start': 9, 'end': 10, 'span': '传'}, {'type': '功能功效', 'start': 12, 'end': 14, 'span': '修护'}, {'type': '产品_核心产品', 'start': 14, 'end': 17, 'span': '精华液'}, {'type': '功能功效', 'start': 21, 'end': 25, 'span': '提亮肤色'}, {'type': '功能功效', 'start': 25, 'end': 29, 'span': '改善暗沉'}]\n"
          ]
        },
        {
          "output_type": "stream",
          "name": "stderr",
          "text": [
            "/usr/local/lib/python3.10/dist-packages/transformers/modeling_utils.py:884: FutureWarning: The `device` argument is deprecated and will be removed in v5 of Transformers.\n",
            "  warnings.warn(\n"
          ]
        },
        {
          "output_type": "stream",
          "name": "stdout",
          "text": [
            "[{'type': '适用范围_适用场景', 'start': 1, 'end': 4, 'span': '618'}, {'type': '品牌', 'start': 9, 'end': 12, 'span': '润百颜'}, {'type': '修饰_产品属性', 'start': 12, 'end': 16, 'span': 'HACE'}, {'type': '修饰_产品属性', 'start': 16, 'end': 18, 'span': '次抛'}, {'type': '产品_核心产品', 'start': 21, 'end': 23, 'span': '精华'}, {'type': '适用范围_其他', 'start': 23, 'end': 24, 'span': '早'}, {'type': '功能功效', 'start': 27, 'end': 29, 'span': '抗皱'}, {'type': '功能功效', 'start': 29, 'end': 31, 'span': '紧致'}]\n"
          ]
        },
        {
          "output_type": "stream",
          "name": "stderr",
          "text": [
            "/usr/local/lib/python3.10/dist-packages/transformers/modeling_utils.py:884: FutureWarning: The `device` argument is deprecated and will be removed in v5 of Transformers.\n",
            "  warnings.warn(\n"
          ]
        },
        {
          "output_type": "stream",
          "name": "stdout",
          "text": [
            "[{'type': '尺寸规格_指标参数', 'start': 0, 'end': 6, 'span': 'new50%'}, {'type': '修饰_产品属性', 'start': 13, 'end': 22, 'span': '三型人源化胶原蛋白'}, {'type': '适用范围_其他', 'start': 22, 'end': 24, 'span': '面部'}, {'type': '产品_核心产品', 'start': 24, 'end': 27, 'span': '精华液'}, {'type': '功能功效', 'start': 27, 'end': 29, 'span': '抗皱'}, {'type': '功能功效', 'start': 29, 'end': 31, 'span': '提拉'}, {'type': '功能功效', 'start': 31, 'end': 33, 'span': '紧致'}]\n"
          ]
        },
        {
          "output_type": "stream",
          "name": "stderr",
          "text": [
            "/usr/local/lib/python3.10/dist-packages/transformers/modeling_utils.py:884: FutureWarning: The `device` argument is deprecated and will be removed in v5 of Transformers.\n",
            "  warnings.warn(\n"
          ]
        },
        {
          "output_type": "stream",
          "name": "stdout",
          "text": [
            "[{'type': '适用范围_适用场景', 'start': 1, 'end': 4, 'span': '618'}, {'type': '品牌', 'start': 7, 'end': 11, 'span': '城野医生'}, {'type': '修饰_产品属性', 'start': 11, 'end': 16, 'span': '169A醇'}, {'type': '功能功效', 'start': 16, 'end': 18, 'span': '抗老'}, {'type': '产品_核心产品', 'start': 18, 'end': 20, 'span': '精华'}, {'type': '功能功效', 'start': 23, 'end': 25, 'span': '美白'}, {'type': '功能功效', 'start': 25, 'end': 27, 'span': '淡斑'}, {'type': '产品_核心产品', 'start': 27, 'end': 29, 'span': '精华'}, {'type': '尺寸规格_售卖规格', 'start': 33, 'end': 35, 'span': '套装'}]\n"
          ]
        },
        {
          "output_type": "stream",
          "name": "stderr",
          "text": [
            "/usr/local/lib/python3.10/dist-packages/transformers/modeling_utils.py:884: FutureWarning: The `device` argument is deprecated and will be removed in v5 of Transformers.\n",
            "  warnings.warn(\n"
          ]
        },
        {
          "output_type": "stream",
          "name": "stdout",
          "text": [
            "[{'type': '适用范围_适用场景', 'start': 1, 'end': 4, 'span': '618'}, {'type': '品牌', 'start': 7, 'end': 12, 'span': 'Murad'}, {'type': '品牌', 'start': 12, 'end': 15, 'span': '慕拉得'}, {'type': '修饰_产品属性', 'start': 15, 'end': 20, 'span': 'A醛Pro'}, {'type': '产品_核心产品', 'start': 20, 'end': 22, 'span': '精华'}, {'type': '尺寸规格_重量', 'start': 22, 'end': 26, 'span': '30ml'}, {'type': '适用范围_其他', 'start': 26, 'end': 28, 'span': '面部'}, {'type': '产品_核心产品', 'start': 28, 'end': 30, 'span': '精华'}, {'type': '功能功效', 'start': 30, 'end': 32, 'span': '紧致'}, {'type': '功能功效', 'start': 32, 'end': 34, 'span': '抗皱'}]\n"
          ]
        },
        {
          "output_type": "stream",
          "name": "stderr",
          "text": [
            "/usr/local/lib/python3.10/dist-packages/transformers/modeling_utils.py:884: FutureWarning: The `device` argument is deprecated and will be removed in v5 of Transformers.\n",
            "  warnings.warn(\n"
          ]
        },
        {
          "output_type": "stream",
          "name": "stdout",
          "text": [
            "[{'type': '品牌', 'start': 0, 'end': 2, 'span': '觅可'}, {'type': '品牌', 'start': 2, 'end': 6, 'span': 'mike'}, {'type': '修饰_产品属性', 'start': 6, 'end': 9, 'span': '乳糖酸'}, {'type': '产品_核心产品', 'start': 9, 'end': 12, 'span': '精华液'}, {'type': '功能功效', 'start': 12, 'end': 15, 'span': '去黑头'}, {'type': '功能功效', 'start': 15, 'end': 21, 'span': '修护毛孔粗大'}, {'type': '修饰_产品属性', 'start': 21, 'end': 23, 'span': '细腻'}, {'type': '适用范围_其他', 'start': 23, 'end': 25, 'span': '粉刺'}, {'type': '适用范围_其他', 'start': 25, 'end': 27, 'span': '闭口'}, {'type': '功能功效', 'start': 27, 'end': 29, 'span': '收敛'}]\n"
          ]
        },
        {
          "output_type": "stream",
          "name": "stderr",
          "text": [
            "/usr/local/lib/python3.10/dist-packages/transformers/modeling_utils.py:884: FutureWarning: The `device` argument is deprecated and will be removed in v5 of Transformers.\n",
            "  warnings.warn(\n"
          ]
        },
        {
          "output_type": "stream",
          "name": "stdout",
          "text": [
            "[{'type': '适用范围_适用场景', 'start': 1, 'end': 4, 'span': '618'}, {'type': '品牌', 'start': 9, 'end': 12, 'span': 'LAN'}, {'type': '品牌', 'start': 12, 'end': 15, 'span': '兰玉帛'}, {'type': '功能功效', 'start': 15, 'end': 17, 'span': '肌肤'}, {'type': '功能功效', 'start': 17, 'end': 19, 'span': '降躁'}, {'type': '产品_核心产品', 'start': 19, 'end': 21, 'span': '精华'}, {'type': '修饰_产品属性', 'start': 22, 'end': 24, 'span': '强韧'}, {'type': '功能功效', 'start': 24, 'end': 26, 'span': '修护'}, {'type': '功能功效', 'start': 26, 'end': 28, 'span': '舒缓'}, {'type': '功能功效', 'start': 28, 'end': 30, 'span': '修红'}, {'type': '产品_核心产品', 'start': 30, 'end': 33, 'span': '精华液'}]\n"
          ]
        },
        {
          "output_type": "stream",
          "name": "stderr",
          "text": [
            "/usr/local/lib/python3.10/dist-packages/transformers/modeling_utils.py:884: FutureWarning: The `device` argument is deprecated and will be removed in v5 of Transformers.\n",
            "  warnings.warn(\n"
          ]
        },
        {
          "output_type": "stream",
          "name": "stdout",
          "text": [
            "[{'type': '适用范围_适用场景', 'start': 1, 'end': 4, 'span': '618'}, {'type': '品牌', 'start': 7, 'end': 9, 'span': 'HR'}, {'type': '品牌', 'start': 9, 'end': 12, 'span': '赫莲娜'}, {'type': '系列', 'start': 12, 'end': 14, 'span': '至盈'}, {'type': '修饰_产品属性', 'start': 14, 'end': 16, 'span': '无痕'}, {'type': '修饰_产品属性', 'start': 16, 'end': 21, 'span': '玻色因精华'}, {'type': '功能功效', 'start': 21, 'end': 25, 'span': '淡化细纹'}, {'type': '产品_修饰产品', 'start': 25, 'end': 28, 'span': '玻尿酸'}, {'type': '尺寸规格_外观尺寸', 'start': 28, 'end': 29, 'span': '小'}, {'type': '产品_核心产品', 'start': 29, 'end': 31, 'span': '针管'}]\n"
          ]
        },
        {
          "output_type": "stream",
          "name": "stderr",
          "text": [
            "/usr/local/lib/python3.10/dist-packages/transformers/modeling_utils.py:884: FutureWarning: The `device` argument is deprecated and will be removed in v5 of Transformers.\n",
            "  warnings.warn(\n"
          ]
        },
        {
          "output_type": "stream",
          "name": "stdout",
          "text": [
            "[{'type': '地点地域_产地', 'start': 0, 'end': 2, 'span': '德国'}, {'type': '修饰_口味', 'start': 4, 'end': 9, 'span': '花香玫瑰果'}, {'type': '产品_核心产品', 'start': 9, 'end': 11, 'span': '面油'}, {'type': '产品_核心产品', 'start': 11, 'end': 14, 'span': '精华油'}, {'type': '功能功效', 'start': 14, 'end': 16, 'span': '按摩'}, {'type': '适用范围_其他', 'start': 20, 'end': 22, 'span': '面部'}, {'type': '功能功效', 'start': 22, 'end': 24, 'span': '保湿'}, {'type': '功能功效', 'start': 24, 'end': 26, 'span': '滋润'}, {'type': '功能功效', 'start': 26, 'end': 28, 'span': '锁水'}]\n"
          ]
        },
        {
          "output_type": "stream",
          "name": "stderr",
          "text": [
            "/usr/local/lib/python3.10/dist-packages/transformers/modeling_utils.py:884: FutureWarning: The `device` argument is deprecated and will be removed in v5 of Transformers.\n",
            "  warnings.warn(\n"
          ]
        },
        {
          "output_type": "stream",
          "name": "stdout",
          "text": [
            "[{'type': '品牌', 'start': 0, 'end': 2, 'span': '至本'}, {'type': '系列', 'start': 2, 'end': 4, 'span': '舒颜'}, {'type': '功能功效', 'start': 4, 'end': 6, 'span': '修护'}, {'type': '产品_核心产品', 'start': 6, 'end': 9, 'span': '精华油'}, {'type': '尺寸规格_重量', 'start': 9, 'end': 13, 'span': '30ml'}, {'type': '功能功效', 'start': 13, 'end': 15, 'span': '保湿'}, {'type': '功能功效', 'start': 15, 'end': 17, 'span': '舒缓'}, {'type': '功能功效', 'start': 17, 'end': 21, 'span': '密集修护'}, {'type': '修饰_产品属性', 'start': 21, 'end': 25, 'span': '强韧肌底'}, {'type': '适用范围_其他', 'start': 25, 'end': 27, 'span': '面部'}, {'type': '修饰_产品属性', 'start': 27, 'end': 29, 'span': '滋润'}, {'type': '修饰_产品属性', 'start': 29, 'end': 32, 'span': '易吸收'}]\n"
          ]
        },
        {
          "output_type": "stream",
          "name": "stderr",
          "text": [
            "/usr/local/lib/python3.10/dist-packages/transformers/modeling_utils.py:884: FutureWarning: The `device` argument is deprecated and will be removed in v5 of Transformers.\n",
            "  warnings.warn(\n"
          ]
        },
        {
          "output_type": "stream",
          "name": "stdout",
          "text": [
            "[{'type': '品牌', 'start': 6, 'end': 9, 'span': '优斐斯'}, {'type': '修饰_产品属性', 'start': 9, 'end': 13, 'span': '氨甲环酸'}, {'type': '产品_核心产品', 'start': 13, 'end': 16, 'span': '精华液'}, {'type': '尺寸规格_指标参数', 'start': 19, 'end': 21, 'span': '5%'}, {'type': '修饰_产品属性', 'start': 21, 'end': 24, 'span': '高浓度'}, {'type': '修饰_产品属性', 'start': 24, 'end': 27, 'span': '强渗透'}, {'type': '颜色_其他', 'start': 27, 'end': 29, 'span': '淡色'}]\n"
          ]
        },
        {
          "output_type": "stream",
          "name": "stderr",
          "text": [
            "/usr/local/lib/python3.10/dist-packages/transformers/modeling_utils.py:884: FutureWarning: The `device` argument is deprecated and will be removed in v5 of Transformers.\n",
            "  warnings.warn(\n"
          ]
        },
        {
          "output_type": "stream",
          "name": "stdout",
          "text": [
            "[{'type': '适用范围_适用场景', 'start': 1, 'end': 4, 'span': '618'}, {'type': '品牌', 'start': 7, 'end': 10, 'span': '珀莱雅'}, {'type': '款式_其他', 'start': 10, 'end': 14, 'span': '早C晚A'}, {'type': '尺寸规格_售卖规格', 'start': 14, 'end': 16, 'span': '组合'}, {'type': '修饰_产品属性', 'start': 16, 'end': 18, 'span': '双抗'}, {'type': '修饰_外观描述', 'start': 18, 'end': 21, 'span': '红宝石'}, {'type': '产品_核心产品', 'start': 21, 'end': 23, 'span': '精华'}, {'type': '功能功效', 'start': 23, 'end': 25, 'span': '提拉'}, {'type': '功能功效', 'start': 25, 'end': 27, 'span': '紧致'}, {'type': '功能功效', 'start': 27, 'end': 29, 'span': '淡纹'}]\n"
          ]
        },
        {
          "output_type": "stream",
          "name": "stderr",
          "text": [
            "/usr/local/lib/python3.10/dist-packages/transformers/modeling_utils.py:884: FutureWarning: The `device` argument is deprecated and will be removed in v5 of Transformers.\n",
            "  warnings.warn(\n"
          ]
        },
        {
          "output_type": "stream",
          "name": "stdout",
          "text": [
            "[{'type': '适用范围_适用场景', 'start': 1, 'end': 4, 'span': '618'}, {'type': '品牌', 'start': 9, 'end': 12, 'span': '妮维雅'}, {'type': '系列', 'start': 12, 'end': 15, 'span': '630'}, {'type': '功能功效', 'start': 15, 'end': 17, 'span': '淡斑'}, {'type': '功能功效', 'start': 17, 'end': 19, 'span': '焕白'}, {'type': '产品_核心产品', 'start': 19, 'end': 21, 'span': '精华'}, {'type': '功能功效', 'start': 21, 'end': 25, 'span': '淡化痘印'}, {'type': '功能功效', 'start': 25, 'end': 27, 'span': '补水'}, {'type': '功能功效', 'start': 27, 'end': 29, 'span': '提亮'}, {'type': '尺寸规格_重量', 'start': 29, 'end': 33, 'span': '30ml'}]\n"
          ]
        },
        {
          "output_type": "stream",
          "name": "stderr",
          "text": [
            "/usr/local/lib/python3.10/dist-packages/transformers/modeling_utils.py:884: FutureWarning: The `device` argument is deprecated and will be removed in v5 of Transformers.\n",
            "  warnings.warn(\n"
          ]
        },
        {
          "output_type": "stream",
          "name": "stdout",
          "text": [
            "[{'type': '适用范围_适用场景', 'start': 1, 'end': 4, 'span': '618'}, {'type': '品牌', 'start': 7, 'end': 10, 'span': '希思黎'}, {'type': '功能功效', 'start': 10, 'end': 12, 'span': '抗皱'}, {'type': '产品_核心产品', 'start': 13, 'end': 16, 'span': '精华水'}, {'type': '产品_核心产品', 'start': 17, 'end': 20, 'span': '精粹水'}, {'type': '修饰_产品属性', 'start': 20, 'end': 22, 'span': '密集'}, {'type': '功能功效', 'start': 22, 'end': 24, 'span': '补水'}, {'type': '功能功效', 'start': 24, 'end': 26, 'span': '保湿'}, {'type': '功能功效', 'start': 26, 'end': 28, 'span': '紧致'}]\n"
          ]
        },
        {
          "output_type": "stream",
          "name": "stderr",
          "text": [
            "/usr/local/lib/python3.10/dist-packages/transformers/modeling_utils.py:884: FutureWarning: The `device` argument is deprecated and will be removed in v5 of Transformers.\n",
            "  warnings.warn(\n"
          ]
        },
        {
          "output_type": "stream",
          "name": "stdout",
          "text": [
            "[{'type': '品牌', 'start': 0, 'end': 4, 'span': '养 生堂'}, {'type': '系列', 'start': 4, 'end': 6, 'span': '白桦'}, {'type': '产品_核心产品', 'start': 8, 'end': 11, 'span': '精华露'}, {'type': '适用范围_适用场景', 'start': 13, 'end': 15, 'span': '熬夜'}, {'type': '功能功效', 'start': 15, 'end': 17, 'span': '淡纹'}, {'type': '适用范围_其他', 'start': 17, 'end': 19, 'span': '面部'}, {'type': '功能功效', 'start': 19, 'end': 21, 'span': '抗皱'}, {'type': '功能功效', 'start': 21, 'end': 23, 'span': '修护'}, {'type': '功能功效', 'start': 23, 'end': 25, 'span': '紧致'}, {'type': '功能功效', 'start': 25, 'end': 27, 'span': '补水'}, {'type': '产品_核心产品', 'start': 27, 'end': 30, 'span': '精华液'}]\n"
          ]
        },
        {
          "output_type": "stream",
          "name": "stderr",
          "text": [
            "/usr/local/lib/python3.10/dist-packages/transformers/modeling_utils.py:884: FutureWarning: The `device` argument is deprecated and will be removed in v5 of Transformers.\n",
            "  warnings.warn(\n"
          ]
        },
        {
          "output_type": "stream",
          "name": "stdout",
          "text": [
            "[{'type': '修饰_产品属性', 'start': 1, 'end': 3, 'span': '新版'}, {'type': '系列', 'start': 6, 'end': 10, 'span': '春日来信'}, {'type': '系列', 'start': 10, 'end': 12, 'span': '三体'}, {'type': '产品_核心产品', 'start': 12, 'end': 14, 'span': 'VC'}, {'type': '产品_核心产品', 'start': 14, 'end': 17, 'span': '精华液'}, {'type': '修饰_产品属性', 'start': 24, 'end': 26, 'span': '双仓'}, {'type': '功能功效', 'start': 31, 'end': 33, 'span': '抗皱'}, {'type': '功能功效', 'start': 33, 'end': 35, 'span': '紧致'}]\n"
          ]
        },
        {
          "output_type": "stream",
          "name": "stderr",
          "text": [
            "/usr/local/lib/python3.10/dist-packages/transformers/modeling_utils.py:884: FutureWarning: The `device` argument is deprecated and will be removed in v5 of Transformers.\n",
            "  warnings.warn(\n"
          ]
        },
        {
          "output_type": "stream",
          "name": "stdout",
          "text": [
            "[{'type': '适用范围_适用场景', 'start': 1, 'end': 4, 'span': '618'}, {'type': '品牌', 'start': 9, 'end': 12, 'span': '修丽可'}, {'type': '修饰_产品属性', 'start': 12, 'end': 14, 'span': '五酸'}, {'type': '产品_核心产品', 'start': 14, 'end': 16, 'span': '精华'}, {'type': '修饰_产品属性', 'start': 17, 'end': 20, 'span': '水杨酸'}, {'type': '适用范围_其他', 'start': 20, 'end': 24, 'span': '闭口粉刺'}, {'type': '修饰_产品属性', 'start': 24, 'end': 26, 'span': '果酸'}, {'type': '功能功效', 'start': 26, 'end': 28, 'span': '控油'}, {'type': '功能功效', 'start': 28, 'end': 30, 'span': '祛痘'}]\n"
          ]
        },
        {
          "output_type": "stream",
          "name": "stderr",
          "text": [
            "/usr/local/lib/python3.10/dist-packages/transformers/modeling_utils.py:884: FutureWarning: The `device` argument is deprecated and will be removed in v5 of Transformers.\n",
            "  warnings.warn(\n"
          ]
        },
        {
          "output_type": "stream",
          "name": "stdout",
          "text": [
            "[{'type': '品牌', 'start': 0, 'end': 3, 'span': '可复美'}, {'type': '产品_核心产品', 'start': 3, 'end': 6, 'span': '胶原棒'}, {'type': '修饰_产品属性', 'start': 6, 'end': 8, 'span': '次抛'}, {'type': '产品_核心产品', 'start': 8, 'end': 10, 'span': '精华'}, {'type': '功能功效', 'start': 10, 'end': 16, 'span': '重组胶原蛋白'}, {'type': '适用范围_适用人群', 'start': 19, 'end': 22, 'span': '敏感肌'}, {'type': '功能功效', 'start': 22, 'end': 24, 'span': '屏障'}, {'type': '功能功效', 'start': 24, 'end': 26, 'span': '修护'}, {'type': '产品_核心产品', 'start': 26, 'end': 29, 'span': '精华液'}]\n"
          ]
        },
        {
          "output_type": "stream",
          "name": "stderr",
          "text": [
            "/usr/local/lib/python3.10/dist-packages/transformers/modeling_utils.py:884: FutureWarning: The `device` argument is deprecated and will be removed in v5 of Transformers.\n",
            "  warnings.warn(\n"
          ]
        },
        {
          "output_type": "stream",
          "name": "stdout",
          "text": [
            "[{'type': '品牌', 'start': 7, 'end': 10, 'span': '莱珀妮'}, {'type': '产品_核心产品', 'start': 10, 'end': 12, 'span': '鱼子'}, {'type': '产品_核心产品', 'start': 12, 'end': 15, 'span': '紧颜液'}, {'type': '修饰_产品属性', 'start': 15, 'end': 18, 'span': '反重力'}, {'type': '产品_核心产品', 'start': 18, 'end': 20, 'span': '精华'}, {'type': '功能功效', 'start': 20, 'end': 22, 'span': '紧致'}, {'type': '功能功效', 'start': 22, 'end': 24, 'span': '提升'}, {'type': '功能功效', 'start': 24, 'end': 26, 'span': '补水'}, {'type': '功能功效', 'start': 26, 'end': 28, 'span': '保湿'}]\n"
          ]
        },
        {
          "output_type": "stream",
          "name": "stderr",
          "text": [
            "/usr/local/lib/python3.10/dist-packages/transformers/modeling_utils.py:884: FutureWarning: The `device` argument is deprecated and will be removed in v5 of Transformers.\n",
            "  warnings.warn(\n"
          ]
        },
        {
          "output_type": "stream",
          "name": "stdout",
          "text": [
            "[{'type': '适用范围_适用场景', 'start': 1, 'end': 4, 'span': '618'}, {'type': '品牌', 'start': 7, 'end': 16, 'span': 'EISENBERG'}, {'type': '品牌', 'start': 16, 'end': 20, 'span': '伊诗贝格'}, {'type': '功能功效', 'start': 20, 'end': 24, 'span': '轮廓紧致'}, {'type': '产品_核心产品', 'start': 24, 'end': 27, 'span': '精华液'}, {'type': '功能功效', 'start': 27, 'end': 29, 'span': 'V脸'}, {'type': '产品_核心产品', 'start': 29, 'end': 31, 'span': '精华'}, {'type': '功能功效', 'start': 31, 'end': 33, 'span': '提拉'}, {'type': '功能功效', 'start': 33, 'end': 35, 'span': '紧致'}]\n"
          ]
        },
        {
          "output_type": "stream",
          "name": "stderr",
          "text": [
            "/usr/local/lib/python3.10/dist-packages/transformers/modeling_utils.py:884: FutureWarning: The `device` argument is deprecated and will be removed in v5 of Transformers.\n",
            "  warnings.warn(\n"
          ]
        },
        {
          "output_type": "stream",
          "name": "stdout",
          "text": [
            "[{'type': '品牌', 'start': 6, 'end': 11, 'span': 'OBAGI'}, {'type': '品牌', 'start': 11, 'end': 14, 'span': '欧邦琪'}, {'type': '修饰_产品属性', 'start': 14, 'end': 16, 'span': '左旋'}, {'type': '产品_核心产品', 'start': 16, 'end': 18, 'span': 'vc'}, {'type': '功能功效', 'start': 18, 'end': 20, 'span': '抗皱'}, {'type': '功能功效', 'start': 20, 'end': 23, 'span': '抗初老'}, {'type': '功能功效', 'start': 23, 'end': 27, 'span': '改善暗沉'}, {'type': '产品_核心产品', 'start': 27, 'end': 30, 'span': 'C25'}, {'type': '产品_核心产品', 'start': 30, 'end': 33, 'span': '黄金瓶'}, {'type': '产品_核心产品', 'start': 33, 'end': 35, 'span': 'VC'}]\n"
          ]
        },
        {
          "output_type": "stream",
          "name": "stderr",
          "text": [
            "/usr/local/lib/python3.10/dist-packages/transformers/modeling_utils.py:884: FutureWarning: The `device` argument is deprecated and will be removed in v5 of Transformers.\n",
            "  warnings.warn(\n"
          ]
        },
        {
          "output_type": "stream",
          "name": "stdout",
          "text": [
            "[{'type': '适用范围_适用场景', 'start': 1, 'end': 4, 'span': '618'}, {'type': '品牌', 'start': 7, 'end': 9, 'span': '丸美'}, {'type': '系列', 'start': 9, 'end': 12, 'span': '小金针'}, {'type': '修饰_产品属性', 'start': 12, 'end': 14, 'span': '次抛'}, {'type': '适用范围_其他', 'start': 14, 'end': 16, 'span': '面部'}, {'type': '产品_核心产品', 'start': 16, 'end': 19, 'span': '精华液'}, {'type': '修饰_产品属性', 'start': 19, 'end': 23, 'span': '胶原蛋白'}, {'type': '功能功效', 'start': 23, 'end': 25, 'span': '紧致'}, {'type': '功能功效', 'start': 25, 'end': 27, 'span': '护肤'}, {'type': '功能功效', 'start': 27, 'end': 29, 'span': '修护'}, {'type': '功能功效', 'start': 29, 'end': 31, 'span': '抗皱'}]\n"
          ]
        },
        {
          "output_type": "stream",
          "name": "stderr",
          "text": [
            "/usr/local/lib/python3.10/dist-packages/transformers/modeling_utils.py:884: FutureWarning: The `device` argument is deprecated and will be removed in v5 of Transformers.\n",
            "  warnings.warn(\n"
          ]
        },
        {
          "output_type": "stream",
          "name": "stdout",
          "text": [
            "[{'type': '适用范围_适用场景', 'start': 1, 'end': 4, 'span': '618'}, {'type': '品牌', 'start': 7, 'end': 12, 'span': 'Murad'}, {'type': '品牌', 'start': 12, 'end': 16, 'span': '慕拉得早'}, {'type': '尺寸规格_售卖规格', 'start': 17, 'end': 18, 'span': '晚'}, {'type': '尺寸规格_售卖规格', 'start': 19, 'end': 21, 'span': '组合'}, {'type': '修饰_产品属性', 'start': 21, 'end': 26, 'span': '视黄醇A醇'}, {'type': '产品_核心产品', 'start': 26, 'end': 28, 'span': '精华'}, {'type': '尺寸规格_重量', 'start': 28, 'end': 32, 'span': '30ml'}, {'type': '修饰_产品属性', 'start': 33, 'end': 35, 'span': 'VC'}, {'type': '产品_核心产品', 'start': 35, 'end': 37, 'span': '精华'}, {'type': '尺寸规格_重量', 'start': 37, 'end': 41, 'span': '30ml'}]\n"
          ]
        },
        {
          "output_type": "stream",
          "name": "stderr",
          "text": [
            "/usr/local/lib/python3.10/dist-packages/transformers/modeling_utils.py:884: FutureWarning: The `device` argument is deprecated and will be removed in v5 of Transformers.\n",
            "  warnings.warn(\n"
          ]
        },
        {
          "output_type": "stream",
          "name": "stdout",
          "text": [
            "[{'type': '适用范围_适用场景', 'start': 1, 'end': 4, 'span': '618'}, {'type': '品牌', 'start': 7, 'end': 9, 'span': '兰蔻'}, {'type': '系列', 'start': 9, 'end': 11, 'span': '菁纯'}, {'type': '产品_核心产品', 'start': 11, 'end': 14, 'span': '精华水'}, {'type': '功能功效', 'start': 15, 'end': 17, 'span': '锁水'}, {'type': '功能功效', 'start': 17, 'end': 19, 'span': '保湿'}, {'type': '功能功效', 'start': 19, 'end': 21, 'span': '修护'}, {'type': '功能功效', 'start': 21, 'end': 23, 'span': '滋润'}, {'type': '功能功效', 'start': 23, 'end': 25, 'span': '焕亮'}, {'type': '功能功效', 'start': 25, 'end': 28, 'span': '抗老化'}]\n"
          ]
        },
        {
          "output_type": "stream",
          "name": "stderr",
          "text": [
            "/usr/local/lib/python3.10/dist-packages/transformers/modeling_utils.py:884: FutureWarning: The `device` argument is deprecated and will be removed in v5 of Transformers.\n",
            "  warnings.warn(\n"
          ]
        },
        {
          "output_type": "stream",
          "name": "stdout",
          "text": [
            "[{'type': '产品_核心产品', 'start': 0, 'end': 3, 'span': '盲盒2'}]\n"
          ]
        },
        {
          "output_type": "stream",
          "name": "stderr",
          "text": [
            "/usr/local/lib/python3.10/dist-packages/transformers/modeling_utils.py:884: FutureWarning: The `device` argument is deprecated and will be removed in v5 of Transformers.\n",
            "  warnings.warn(\n"
          ]
        },
        {
          "output_type": "stream",
          "name": "stdout",
          "text": [
            "[{'type': '功能功效', 'start': 8, 'end': 10, 'span': '淡斑'}, {'type': '产品_核心产品', 'start': 10, 'end': 13, 'span': '精华液'}, {'type': '功能功效', 'start': 13, 'end': 18, 'span': '分解黑色素'}, {'type': '功能功效', 'start': 18, 'end': 20, 'span': '提亮'}, {'type': '功能功效', 'start': 20, 'end': 22, 'span': '去黄'}, {'type': '功能功效', 'start': 22, 'end': 28, 'span': '改善暗沉肤色'}, {'type': '适用范围_其他', 'start': 28, 'end': 30, 'span': '面部'}]\n"
          ]
        },
        {
          "output_type": "stream",
          "name": "stderr",
          "text": [
            "/usr/local/lib/python3.10/dist-packages/transformers/modeling_utils.py:884: FutureWarning: The `device` argument is deprecated and will be removed in v5 of Transformers.\n",
            "  warnings.warn(\n"
          ]
        },
        {
          "output_type": "stream",
          "name": "stdout",
          "text": [
            "[{'type': '品牌', 'start': 6, 'end': 9, 'span': '珀莱雅'}, {'type': '修饰_产品属性', 'start': 9, 'end': 11, 'span': '双抗'}, {'type': '产品_核心产品', 'start': 11, 'end': 13, 'span': '精华'}, {'type': '系列', 'start': 14, 'end': 16, 'span': '源力'}, {'type': '产品_核心产品', 'start': 16, 'end': 18, 'span': '精华'}, {'type': '尺寸规格_售卖规格', 'start': 18, 'end': 20, 'span': '套装'}, {'type': '功能功效', 'start': 20, 'end': 22, 'span': '补水'}, {'type': '功能功效', 'start': 22, 'end': 24, 'span': '修护'}, {'type': '适用范围_适用对象', 'start': 24, 'end': 25, 'span': '女'}]\n"
          ]
        },
        {
          "output_type": "stream",
          "name": "stderr",
          "text": [
            "/usr/local/lib/python3.10/dist-packages/transformers/modeling_utils.py:884: FutureWarning: The `device` argument is deprecated and will be removed in v5 of Transformers.\n",
            "  warnings.warn(\n"
          ]
        },
        {
          "output_type": "stream",
          "name": "stdout",
          "text": [
            "[{'type': '尺寸规格_售卖规格', 'start': 3, 'end': 5, 'span': '套装'}, {'type': '品牌', 'start': 6, 'end': 9, 'span': '润百颜'}, {'type': '功能功效', 'start': 9, 'end': 11, 'span': '抗皱'}, {'type': '系列', 'start': 11, 'end': 14, 'span': '双子星'}, {'type': '修饰_产品属性', 'start': 14, 'end': 16, 'span': '水润'}, {'type': '修饰_产品属性', 'start': 16, 'end': 20, 'span': 'HACE'}, {'type': '修饰_产品属性', 'start': 20, 'end': 22, 'span': '次抛'}, {'type': '产品_核心产品', 'start': 22, 'end': 24, 'span': '精华'}, {'type': '产品_核心产品', 'start': 24, 'end': 27, 'span': '玻尿酸'}, {'type': '品牌', 'start': 27, 'end': 31, 'span': '华熙生物'}]\n"
          ]
        },
        {
          "output_type": "stream",
          "name": "stderr",
          "text": [
            "/usr/local/lib/python3.10/dist-packages/transformers/modeling_utils.py:884: FutureWarning: The `device` argument is deprecated and will be removed in v5 of Transformers.\n",
            "  warnings.warn(\n"
          ]
        },
        {
          "output_type": "stream",
          "name": "stdout",
          "text": [
            "[{'type': '适用范围_适用场景', 'start': 1, 'end': 4, 'span': '618'}, {'type': '品牌', 'start': 7, 'end': 11, 'span': '东边野兽'}, {'type': '产品_修饰产品', 'start': 11, 'end': 13, 'span': '灵芝'}, {'type': '产品_核心产品', 'start': 13, 'end': 16, 'span': '精华油'}, {'type': '适用范围_适用人群', 'start': 16, 'end': 19, 'span': '敏感肌'}, {'type': '功能功效', 'start': 19, 'end': 21, 'span': '修护'}, {'type': '功能功效', 'start': 21, 'end': 23, 'span': '抗老'}, {'type': '功能功效', 'start': 23, 'end': 25, 'span': '抗皱'}, {'type': '功能功效', 'start': 25, 'end': 29, 'span': '以油养肤'}]\n"
          ]
        },
        {
          "output_type": "stream",
          "name": "stderr",
          "text": [
            "/usr/local/lib/python3.10/dist-packages/transformers/modeling_utils.py:884: FutureWarning: The `device` argument is deprecated and will be removed in v5 of Transformers.\n",
            "  warnings.warn(\n"
          ]
        },
        {
          "output_type": "stream",
          "name": "stdout",
          "text": [
            "[{'type': '品牌', 'start': 0, 'end': 9, 'span': 'John Jeff'}, {'type': '尺寸规格_指标参数', 'start': 9, 'end': 15, 'span': '1.325%'}, {'type': '产品_修饰产品', 'start': 15, 'end': 18, 'span': '油橄榄'}, {'type': '产品_核心产品', 'start': 18, 'end': 21, 'span': '精华液'}, {'type': '款式_其他', 'start': 22, 'end': 25, 'span': '敏皮版'}, {'type': '功能功效', 'start': 26, 'end': 30, 'span': '强韧屏障'}, {'type': '功能功效', 'start': 30, 'end': 34, 'span': '改善泛红'}, {'type': '功能功效', 'start': 34, 'end': 36, 'span': '舒缓'}, {'type': '功能功效', 'start': 36, 'end': 38, 'span': '退红'}]\n"
          ]
        },
        {
          "output_type": "stream",
          "name": "stderr",
          "text": [
            "/usr/local/lib/python3.10/dist-packages/transformers/modeling_utils.py:884: FutureWarning: The `device` argument is deprecated and will be removed in v5 of Transformers.\n",
            "  warnings.warn(\n"
          ]
        },
        {
          "output_type": "stream",
          "name": "stdout",
          "text": [
            "[{'type': '品牌', 'start': 0, 'end': 3, 'span': '科优妍'}, {'type': '功能功效', 'start': 9, 'end': 11, 'span': '亮肤'}, {'type': '产品_核心产品', 'start': 11, 'end': 14, 'span': '精华液'}, {'type': '功能功效', 'start': 14, 'end': 18, 'span': '提亮肤色'}, {'type': '功能功效', 'start': 18, 'end': 22, 'span': '改善暗沉'}, {'type': '产品_核心产品', 'start': 26, 'end': 29, 'span': '精华液'}]\n"
          ]
        },
        {
          "output_type": "stream",
          "name": "stderr",
          "text": [
            "/usr/local/lib/python3.10/dist-packages/transformers/modeling_utils.py:884: FutureWarning: The `device` argument is deprecated and will be removed in v5 of Transformers.\n",
            "  warnings.warn(\n"
          ]
        },
        {
          "output_type": "stream",
          "name": "stdout",
          "text": [
            "[{'type': '品牌', 'start': 7, 'end': 9, 'span': '兰蔻'}, {'type': '系列', 'start': 9, 'end': 12, 'span': '小黑瓶'}, {'type': '适用范围_其他', 'start': 12, 'end': 14, 'span': '面部'}, {'type': '产品_核心产品', 'start': 14, 'end': 16, 'span': '精华'}, {'type': '产品_核心产品', 'start': 16, 'end': 19, 'span': '肌底液'}, {'type': '尺寸规格_重量', 'start': 19, 'end': 23, 'span': '30ml'}, {'type': '功能功效', 'start': 24, 'end': 26, 'span': '维稳'}, {'type': '功能功效', 'start': 26, 'end': 28, 'span': '修护'}, {'type': '功能功效', 'start': 28, 'end': 30, 'span': '保湿'}]\n"
          ]
        },
        {
          "output_type": "stream",
          "name": "stderr",
          "text": [
            "/usr/local/lib/python3.10/dist-packages/transformers/modeling_utils.py:884: FutureWarning: The `device` argument is deprecated and will be removed in v5 of Transformers.\n",
            "  warnings.warn(\n"
          ]
        },
        {
          "output_type": "stream",
          "name": "stdout",
          "text": [
            "[{'type': '适用范围_适用场景', 'start': 1, 'end': 4, 'span': '618'}, {'type': '品牌', 'start': 9, 'end': 12, 'span': '欧莱雅'}, {'type': '款式_其他', 'start': 12, 'end': 15, 'span': '光子瓶'}, {'type': '功能功效', 'start': 15, 'end': 17, 'span': '美白'}, {'type': '产品_核心产品', 'start': 17, 'end': 20, 'span': '精华液'}, {'type': '功能功效', 'start': 20, 'end': 22, 'span': '淡斑'}, {'type': '功能功效', 'start': 22, 'end': 26, 'span': '提亮肌肤'}]\n"
          ]
        },
        {
          "output_type": "stream",
          "name": "stderr",
          "text": [
            "/usr/local/lib/python3.10/dist-packages/transformers/modeling_utils.py:884: FutureWarning: The `device` argument is deprecated and will be removed in v5 of Transformers.\n",
            "  warnings.warn(\n"
          ]
        },
        {
          "output_type": "stream",
          "name": "stdout",
          "text": [
            "[{'type': '品牌', 'start': 0, 'end': 9, 'span': 'John Jeff'}, {'type': '尺寸规格_指标参数', 'start': 9, 'end': 15, 'span': '1.325%'}, {'type': '产品_核心产品', 'start': 15, 'end': 21, 'span': '油橄榄精萃液'}, {'type': '款式_其他', 'start': 22, 'end': 25, 'span': '痘皮版'}, {'type': '功能功效', 'start': 26, 'end': 30, 'span': '改善肌肤'}, {'type': '功能功效', 'start': 30, 'end': 32, 'span': '泛红'}, {'type': '功能功效', 'start': 32, 'end': 34, 'span': '舒缓'}, {'type': '功能功效', 'start': 34, 'end': 38, 'span': '维稳肌肤'}]\n"
          ]
        },
        {
          "output_type": "stream",
          "name": "stderr",
          "text": [
            "/usr/local/lib/python3.10/dist-packages/transformers/modeling_utils.py:884: FutureWarning: The `device` argument is deprecated and will be removed in v5 of Transformers.\n",
            "  warnings.warn(\n"
          ]
        },
        {
          "output_type": "stream",
          "name": "stdout",
          "text": [
            "[{'type': '品牌', 'start': 0, 'end': 3, 'span': 'TNN'}, {'type': '产品_核心产品', 'start': 3, 'end': 6, 'span': '熊果苷'}, {'type': '功能功效', 'start': 6, 'end': 8, 'span': '美白'}, {'type': '功能功效', 'start': 8, 'end': 10, 'span': '祛斑'}, {'type': '功能功效', 'start': 10, 'end': 12, 'span': '淡印'}, {'type': '产品_核心产品', 'start': 12, 'end': 15, 'span': '精华液'}, {'type': '系列', 'start': 18, 'end': 22, 'span': 'VC米白'}, {'type': '适用范围_适用场景', 'start': 22, 'end': 25, 'span': '旗舰店'}, {'type': '修饰_产品属性', 'start': 25, 'end': 27, 'span': '正品'}, {'type': '品牌', 'start': 27, 'end': 33, 'span': 'ZAOZER'}]\n"
          ]
        },
        {
          "output_type": "stream",
          "name": "stderr",
          "text": [
            "/usr/local/lib/python3.10/dist-packages/transformers/modeling_utils.py:884: FutureWarning: The `device` argument is deprecated and will be removed in v5 of Transformers.\n",
            "  warnings.warn(\n"
          ]
        },
        {
          "output_type": "stream",
          "name": "stdout",
          "text": [
            "[{'type': '适用范围_适用场景', 'start': 1, 'end': 4, 'span': '618'}, {'type': '品牌', 'start': 9, 'end': 23, 'span': 'TOPIX Replenix'}, {'type': '品牌', 'start': 23, 'end': 26, 'span': '珞蓓诗'}, {'type': '系列', 'start': 26, 'end': 30, 'span': '亮白璀璨'}, {'type': '产品_核心产品', 'start': 30, 'end': 32, 'span': '精华'}, {'type': '产品_核心产品', 'start': 32, 'end': 34, 'span': '乳液'}, {'type': '尺寸规格_重量', 'start': 34, 'end': 38, 'span': '30ml'}, {'type': '功能功效', 'start': 38, 'end': 40, 'span': '提亮'}]\n"
          ]
        },
        {
          "output_type": "stream",
          "name": "stderr",
          "text": [
            "/usr/local/lib/python3.10/dist-packages/transformers/modeling_utils.py:884: FutureWarning: The `device` argument is deprecated and will be removed in v5 of Transformers.\n",
            "  warnings.warn(\n"
          ]
        },
        {
          "output_type": "stream",
          "name": "stdout",
          "text": [
            "[{'type': '修饰_产品属性', 'start': 1, 'end': 3, 'span': '正品'}, {'type': '品牌', 'start': 3, 'end': 5, 'span': '速达'}, {'type': '品牌', 'start': 6, 'end': 12, 'span': 'CHANEL'}, {'type': '品牌', 'start': 12, 'end': 15, 'span': '香奈儿'}, {'type': '系列', 'start': 15, 'end': 17, 'span': '一号'}, {'type': '修饰_外观描述', 'start': 17, 'end': 21, 'span': '红山茶花'}, {'type': '产品_核心产品', 'start': 21, 'end': 24, 'span': '精华液'}, {'type': '功能功效', 'start': 24, 'end': 27, 'span': '抗初老'}, {'type': '功能功效', 'start': 27, 'end': 29, 'span': '抗氧'}, {'type': '功能功效', 'start': 29, 'end': 31, 'span': '淡纹'}]\n"
          ]
        },
        {
          "output_type": "stream",
          "name": "stderr",
          "text": [
            "/usr/local/lib/python3.10/dist-packages/transformers/modeling_utils.py:884: FutureWarning: The `device` argument is deprecated and will be removed in v5 of Transformers.\n",
            "  warnings.warn(\n"
          ]
        },
        {
          "output_type": "stream",
          "name": "stdout",
          "text": [
            "[{'type': '适用范围_适用场景', 'start': 1, 'end': 4, 'span': '618'}, {'type': '品牌', 'start': 9, 'end': 12, 'span': '雪花秀'}, {'type': '型号', 'start': 12, 'end': 15, 'span': '第六代'}, {'type': '系列', 'start': 15, 'end': 19, 'span': '润致焕活'}, {'type': '产品_修饰产品', 'start': 19, 'end': 21, 'span': '人参'}, {'type': '修饰_产品属性', 'start': 21, 'end': 23, 'span': '肌底'}, {'type': '产品_核心产品', 'start': 23, 'end': 25, 'span': '精华'}, {'type': '尺寸规格_重量', 'start': 25, 'end': 29, 'span': '90ml'}, {'type': '功能功效', 'start': 29, 'end': 31, 'span': '维稳'}, {'type': '功能功效', 'start': 31, 'end': 33, 'span': '修护'}]\n"
          ]
        },
        {
          "output_type": "stream",
          "name": "stderr",
          "text": [
            "/usr/local/lib/python3.10/dist-packages/transformers/modeling_utils.py:884: FutureWarning: The `device` argument is deprecated and will be removed in v5 of Transformers.\n",
            "  warnings.warn(\n"
          ]
        },
        {
          "output_type": "stream",
          "name": "stdout",
          "text": [
            "[{'type': '人名_真实人名', 'start': 1, 'end': 4, 'span': '王一博'}, {'type': '品牌', 'start': 7, 'end': 10, 'span': '百雀羚'}, {'type': '系列', 'start': 10, 'end': 12, 'span': '聚光'}, {'type': '产品_核心产品', 'start': 12, 'end': 14, 'span': '精华'}, {'type': '修饰_产品属性', 'start': 17, 'end': 19, 'span': '通透'}, {'type': '功能功效', 'start': 19, 'end': 21, 'span': '补水'}, {'type': '功能功效', 'start': 21, 'end': 23, 'span': '紧致'}, {'type': '功能功效', 'start': 25, 'end': 27, 'span': '焕亮'}, {'type': '产品_核心产品', 'start': 27, 'end': 30, 'span': '精华液'}]\n"
          ]
        },
        {
          "output_type": "stream",
          "name": "stderr",
          "text": [
            "/usr/local/lib/python3.10/dist-packages/transformers/modeling_utils.py:884: FutureWarning: The `device` argument is deprecated and will be removed in v5 of Transformers.\n",
            "  warnings.warn(\n"
          ]
        },
        {
          "output_type": "stream",
          "name": "stdout",
          "text": [
            "[{'type': '适用范围_适用场景', 'start': 1, 'end': 4, 'span': '618'}, {'type': '品牌', 'start': 7, 'end': 11, 'span': '城野医生'}, {'type': '修饰_产品属性', 'start': 11, 'end': 16, 'span': '169A醇'}, {'type': '功能功效', 'start': 16, 'end': 18, 'span': '抗老'}, {'type': '产品_核心产品', 'start': 18, 'end': 20, 'span': '精华'}, {'type': '修饰_产品属性', 'start': 20, 'end': 22, 'span': '超A'}, {'type': '功能功效', 'start': 22, 'end': 24, 'span': '紧致'}, {'type': '适用范围_其他', 'start': 24, 'end': 26, 'span': '面部'}, {'type': '产品_核心产品', 'start': 26, 'end': 28, 'span': '精华'}, {'type': '功能功效', 'start': 28, 'end': 30, 'span': '抗皱'}, {'type': '修饰_产品属性', 'start': 30, 'end': 32, 'span': '温和'}, {'type': '功能功效', 'start': 32, 'end': 34, 'span': '淡纹'}]\n"
          ]
        },
        {
          "output_type": "stream",
          "name": "stderr",
          "text": [
            "/usr/local/lib/python3.10/dist-packages/transformers/modeling_utils.py:884: FutureWarning: The `device` argument is deprecated and will be removed in v5 of Transformers.\n",
            "  warnings.warn(\n"
          ]
        },
        {
          "output_type": "stream",
          "name": "stdout",
          "text": [
            "[{'type': '适用范围_适用场景', 'start': 1, 'end': 4, 'span': '618'}, {'type': '品牌', 'start': 9, 'end': 12, 'span': 'YSL'}, {'type': '品牌', 'start': 12, 'end': 15, 'span': '圣罗兰'}, {'type': '适用范围_适用场景', 'start': 15, 'end': 17, 'span': '熬夜'}, {'type': '产品_核心产品', 'start': 17, 'end': 20, 'span': '双精华'}, {'type': '系列', 'start': 21, 'end': 24, 'span': '夜皇后'}, {'type': '功能功效', 'start': 27, 'end': 29, 'span': '淡纹'}, {'type': '功能功效', 'start': 29, 'end': 31, 'span': '修护'}, {'type': '功能功效', 'start': 31, 'end': 33, 'span': '透亮'}]\n"
          ]
        },
        {
          "output_type": "stream",
          "name": "stderr",
          "text": [
            "/usr/local/lib/python3.10/dist-packages/transformers/modeling_utils.py:884: FutureWarning: The `device` argument is deprecated and will be removed in v5 of Transformers.\n",
            "  warnings.warn(\n"
          ]
        },
        {
          "output_type": "stream",
          "name": "stdout",
          "text": [
            "[{'type': '品牌', 'start': 0, 'end': 24, 'span': 'PE THE QUEEN MASSAGE GEL'}, {'type': '品牌', 'start': 24, 'end': 26, 'span': '宙斯'}, {'type': '产品_核心产品', 'start': 26, 'end': 28, 'span': '精华'}, {'type': '适用范围_适用对象', 'start': 28, 'end': 31, 'span': '美容仪'}, {'type': '功能功效', 'start': 31, 'end': 33, 'span': '按摩'}, {'type': '产品_核心产品', 'start': 33, 'end': 35, 'span': '啫喱'}, {'type': '产品_核心产品', 'start': 35, 'end': 38, 'span': '美容液'}, {'type': '尺寸规格_重量', 'start': 38, 'end': 42, 'span': '200g'}, {'type': '修饰_其他', 'start': 42, 'end': 44, 'span': '保税'}]\n"
          ]
        },
        {
          "output_type": "stream",
          "name": "stderr",
          "text": [
            "/usr/local/lib/python3.10/dist-packages/transformers/modeling_utils.py:884: FutureWarning: The `device` argument is deprecated and will be removed in v5 of Transformers.\n",
            "  warnings.warn(\n"
          ]
        },
        {
          "output_type": "stream",
          "name": "stdout",
          "text": [
            "[{'type': '品牌', 'start': 9, 'end': 12, 'span': '修丽可'}, {'type': '系列', 'start': 12, 'end': 14, 'span': '紫米'}, {'type': '产品_核心产品', 'start': 14, 'end': 16, 'span': '精华'}, {'type': '尺寸规格_指标参数', 'start': 16, 'end': 19, 'span': '10%'}, {'type': '功能功效', 'start': 22, 'end': 24, 'span': '提拉'}, {'type': '功能功效', 'start': 24, 'end': 26, 'span': '紧致'}, {'type': '功能功效', 'start': 26, 'end': 29, 'span': '抗老化'}]\n"
          ]
        },
        {
          "output_type": "stream",
          "name": "stderr",
          "text": [
            "/usr/local/lib/python3.10/dist-packages/transformers/modeling_utils.py:884: FutureWarning: The `device` argument is deprecated and will be removed in v5 of Transformers.\n",
            "  warnings.warn(\n"
          ]
        },
        {
          "output_type": "stream",
          "name": "stdout",
          "text": [
            "[{'type': '品牌', 'start': 0, 'end': 3, 'span': '绽媄娅'}, {'type': '品牌', 'start': 3, 'end': 9, 'span': 'JUMIYA'}, {'type': '功能功效', 'start': 9, 'end': 11, 'span': '抗老'}, {'type': '功能功效', 'start': 11, 'end': 13, 'span': '抗皱'}, {'type': '功能功效', 'start': 13, 'end': 17, 'span': '紧致淡纹'}, {'type': '功能功效', 'start': 17, 'end': 19, 'span': '补水'}, {'type': '功能功效', 'start': 19, 'end': 21, 'span': '保湿'}, {'type': '功能功效', 'start': 21, 'end': 23, 'span': '修护'}, {'type': '功能功效', 'start': 23, 'end': 25, 'span': '面部'}, {'type': '功能功效', 'start': 25, 'end': 27, 'span': '贴骨'}, {'type': '产品_核心产品', 'start': 27, 'end': 30, 'span': '精华液'}, {'type': '适用范围_适用人群', 'start': 30, 'end': 33, 'span': '敏感肌'}]\n"
          ]
        },
        {
          "output_type": "stream",
          "name": "stderr",
          "text": [
            "/usr/local/lib/python3.10/dist-packages/transformers/modeling_utils.py:884: FutureWarning: The `device` argument is deprecated and will be removed in v5 of Transformers.\n",
            "  warnings.warn(\n"
          ]
        },
        {
          "output_type": "stream",
          "name": "stdout",
          "text": [
            "[{'type': '适用范围_适用场景', 'start': 1, 'end': 4, 'span': '618'}, {'type': '品牌', 'start': 9, 'end': 11, 'span': '颐莲'}, {'type': '系列', 'start': 11, 'end': 13, 'span': '元气'}, {'type': '产品_核心产品', 'start': 13, 'end': 15, 'span': '精华'}, {'type': '功能功效', 'start': 15, 'end': 18, 'span': '抗初老'}, {'type': '修饰_产品属性', 'start': 18, 'end': 21, 'span': '玻尿酸'}, {'type': '功能功效', 'start': 21, 'end': 23, 'span': '修护'}, {'type': '功能功效', 'start': 23, 'end': 25, 'span': '保湿'}, {'type': '修饰_产品属性', 'start': 25, 'end': 28, 'span': '富勒烯'}, {'type': '产品_核心产品', 'start': 28, 'end': 31, 'span': '精华液'}]\n"
          ]
        },
        {
          "output_type": "stream",
          "name": "stderr",
          "text": [
            "/usr/local/lib/python3.10/dist-packages/transformers/modeling_utils.py:884: FutureWarning: The `device` argument is deprecated and will be removed in v5 of Transformers.\n",
            "  warnings.warn(\n"
          ]
        },
        {
          "output_type": "stream",
          "name": "stdout",
          "text": [
            "[{'type': '适用范围_适用场景', 'start': 1, 'end': 4, 'span': '618'}, {'type': '品牌', 'start': 9, 'end': 12, 'span': '大水滴'}, {'type': '修饰_产品属性', 'start': 12, 'end': 14, 'span': '3点'}, {'type': '功能功效', 'start': 14, 'end': 16, 'span': '祛痘'}, {'type': '产品_核心产品', 'start': 16, 'end': 18, 'span': '精华'}, {'type': '适用范围_适用场景', 'start': 19, 'end': 21, 'span': '熬夜'}, {'type': '功能功效', 'start': 21, 'end': 23, 'span': '祛痘'}, {'type': '功能功效', 'start': 23, 'end': 25, 'span': '淡印'}, {'type': '产品_修饰产品', 'start': 25, 'end': 28, 'span': '水杨酸'}, {'type': '功能功效', 'start': 28, 'end': 30, 'span': '净痘'}, {'type': '功能功效', 'start': 30, 'end': 32, 'span': '瘪痘'}]\n"
          ]
        },
        {
          "output_type": "stream",
          "name": "stderr",
          "text": [
            "/usr/local/lib/python3.10/dist-packages/transformers/modeling_utils.py:884: FutureWarning: The `device` argument is deprecated and will be removed in v5 of Transformers.\n",
            "  warnings.warn(\n"
          ]
        },
        {
          "output_type": "stream",
          "name": "stdout",
          "text": [
            "[{'type': '适用范围_适用场景', 'start': 1, 'end': 4, 'span': '618'}, {'type': '品牌', 'start': 9, 'end': 12, 'span': '修丽可'}, {'type': '系列', 'start': 12, 'end': 15, 'span': 'SCF'}, {'type': '适用范围_适用人群', 'start': 15, 'end': 17, 'span': '油皮'}, {'type': '功能功效', 'start': 17, 'end': 20, 'span': '抗氧化'}, {'type': '产品_核心产品', 'start': 20, 'end': 22, 'span': '精华'}, {'type': '功能功效', 'start': 22, 'end': 24, 'span': '修护'}, {'type': '功能功效', 'start': 24, 'end': 27, 'span': '抗老化'}, {'type': '功能功效', 'start': 27, 'end': 29, 'span': '控油'}, {'type': '功能功效', 'start': 29, 'end': 33, 'span': '水油平衡'}]\n"
          ]
        },
        {
          "output_type": "stream",
          "name": "stderr",
          "text": [
            "/usr/local/lib/python3.10/dist-packages/transformers/modeling_utils.py:884: FutureWarning: The `device` argument is deprecated and will be removed in v5 of Transformers.\n",
            "  warnings.warn(\n"
          ]
        },
        {
          "output_type": "stream",
          "name": "stdout",
          "text": [
            "[{'type': '品牌', 'start': 0, 'end': 3, 'span': '博乐达'}, {'type': '功能功效', 'start': 11, 'end': 15, 'span': '淡化痘印'}, {'type': '功能功效', 'start': 15, 'end': 17, 'span': '维稳'}, {'type': '功能功效', 'start': 17, 'end': 19, 'span': '舒缓'}, {'type': '功能功效', 'start': 19, 'end': 21, 'span': '保湿'}, {'type': '适用范围_其他', 'start': 21, 'end': 23, 'span': '泛红'}, {'type': '适用范围_适用人群', 'start': 23, 'end': 26, 'span': '敏感肌'}, {'type': '功能功效', 'start': 26, 'end': 28, 'span': '修护'}, {'type': '产品_核心产品', 'start': 28, 'end': 30, 'span': '精华'}]\n"
          ]
        },
        {
          "output_type": "stream",
          "name": "stderr",
          "text": [
            "/usr/local/lib/python3.10/dist-packages/transformers/modeling_utils.py:884: FutureWarning: The `device` argument is deprecated and will be removed in v5 of Transformers.\n",
            "  warnings.warn(\n"
          ]
        },
        {
          "output_type": "stream",
          "name": "stdout",
          "text": [
            "[{'type': '适用范围_适用场景', 'start': 1, 'end': 4, 'span': '618'}, {'type': '品牌', 'start': 7, 'end': 9, 'span': '黛珂'}, {'type': '系列', 'start': 9, 'end': 11, 'span': '肌源'}, {'type': '功能功效', 'start': 11, 'end': 13, 'span': '修护'}, {'type': '产品_核心产品', 'start': 13, 'end': 16, 'span': '精华液'}, {'type': '型号', 'start': 16, 'end': 19, 'span': '第二代'}, {'type': '系列', 'start': 19, 'end': 22, 'span': '小紫瓶'}, {'type': '产品_核心产品', 'start': 22, 'end': 25, 'span': '肌底液'}, {'type': '功能功效', 'start': 25, 'end': 27, 'span': '保湿'}, {'type': '功能功效', 'start': 27, 'end': 29, 'span': '维稳'}, {'type': '功能功效', 'start': 29, 'end': 31, 'span': '淡纹'}]\n"
          ]
        },
        {
          "output_type": "stream",
          "name": "stderr",
          "text": [
            "/usr/local/lib/python3.10/dist-packages/transformers/modeling_utils.py:884: FutureWarning: The `device` argument is deprecated and will be removed in v5 of Transformers.\n",
            "  warnings.warn(\n"
          ]
        },
        {
          "output_type": "stream",
          "name": "stdout",
          "text": [
            "[{'type': '品牌', 'start': 0, 'end': 4, 'span': '瑷尔博士'}, {'type': '产品_核心产品', 'start': 4, 'end': 6, 'span': '前导'}, {'type': '产品_核心产品', 'start': 6, 'end': 8, 'span': '精华'}, {'type': '功能功效', 'start': 8, 'end': 10, 'span': '补水'}, {'type': '功能功效', 'start': 10, 'end': 12, 'span': '保湿'}, {'type': '适用范围_适用对象', 'start': 12, 'end': 13, 'span': '女'}, {'type': '功能功效', 'start': 13, 'end': 15, 'span': '维稳'}, {'type': '功能功效', 'start': 15, 'end': 18, 'span': '修泛红'}, {'type': '功能功效', 'start': 19, 'end': 23, 'span': '促进吸收'}, {'type': '修饰_产品属性', 'start': 23, 'end': 25, 'span': '清爽'}, {'type': '修饰_产品属性', 'start': 25, 'end': 27, 'span': '肌底'}, {'type': '产品_核心产品', 'start': 27, 'end': 30, 'span': '精华液'}]\n"
          ]
        },
        {
          "output_type": "stream",
          "name": "stderr",
          "text": [
            "/usr/local/lib/python3.10/dist-packages/transformers/modeling_utils.py:884: FutureWarning: The `device` argument is deprecated and will be removed in v5 of Transformers.\n",
            "  warnings.warn(\n"
          ]
        },
        {
          "output_type": "stream",
          "name": "stdout",
          "text": [
            "[{'type': '系列', 'start': 0, 'end': 5, 'span': '雏菊的天空'}, {'type': '系列', 'start': 5, 'end': 8, 'span': '翡冷翠'}, {'type': '功能功效', 'start': 8, 'end': 10, 'span': '修护'}, {'type': '产品_核心产品', 'start': 10, 'end': 13, 'span': '精华油'}, {'type': '适用范围_其他', 'start': 13, 'end': 15, 'span': '面部'}, {'type': '功能功效', 'start': 15, 'end': 17, 'span': '护肤'}, {'type': '产品_核心产品', 'start': 17, 'end': 18, 'span': '油'}, {'type': '适用范围_其他', 'start': 18, 'end': 20, 'span': '脸部'}, {'type': '产品_核心产品', 'start': 20, 'end': 22, 'span': '精油'}, {'type': '功能功效', 'start': 22, 'end': 24, 'span': '以油'}, {'type': '功能功效', 'start': 24, 'end': 26, 'span': '养肤'}, {'type': '功能功效', 'start': 26, 'end': 28, 'span': '舒缓'}, {'type': '功能功效', 'start': 28, 'end': 30, 'span': '保湿'}]\n"
          ]
        },
        {
          "output_type": "stream",
          "name": "stderr",
          "text": [
            "/usr/local/lib/python3.10/dist-packages/transformers/modeling_utils.py:884: FutureWarning: The `device` argument is deprecated and will be removed in v5 of Transformers.\n",
            "  warnings.warn(\n"
          ]
        },
        {
          "output_type": "stream",
          "name": "stdout",
          "text": [
            "[{'type': '适用范围_适用场景', 'start': 1, 'end': 4, 'span': '618'}, {'type': '品牌', 'start': 7, 'end': 11, 'span': 'PMPM'}, {'type': '产品_修饰产品', 'start': 11, 'end': 13, 'span': '玫瑰'}, {'type': '产品_核心产品', 'start': 13, 'end': 16, 'span': '精华油'}, {'type': '功能功效', 'start': 16, 'end': 18, 'span': '舒缓'}, {'type': '功能功效', 'start': 18, 'end': 20, 'span': '修护'}, {'type': '功能功效', 'start': 20, 'end': 22, 'span': '抗皱'}, {'type': '功能功效', 'start': 22, 'end': 24, 'span': '紧致'}, {'type': '产品_核心产品', 'start': 24, 'end': 26, 'span': '精油'}, {'type': '适用范围_其他', 'start': 26, 'end': 28, 'span': '面部'}, {'type': '功能功效', 'start': 28, 'end': 30, 'span': '护肤'}, {'type': '产品_核心产品', 'start': 30, 'end': 33, 'span': '精华油'}]\n"
          ]
        },
        {
          "output_type": "stream",
          "name": "stderr",
          "text": [
            "/usr/local/lib/python3.10/dist-packages/transformers/modeling_utils.py:884: FutureWarning: The `device` argument is deprecated and will be removed in v5 of Transformers.\n",
            "  warnings.warn(\n"
          ]
        },
        {
          "output_type": "stream",
          "name": "stdout",
          "text": [
            "[{'type': '品牌', 'start': 0, 'end': 3, 'span': '优资莱'}, {'type': '系列', 'start': 3, 'end': 5, 'span': '金致'}, {'type': '功能功效', 'start': 5, 'end': 7, 'span': '塑颜'}, {'type': '功能功效', 'start': 7, 'end': 9, 'span': '抗皱'}, {'type': '修饰_产品属性', 'start': 9, 'end': 11, 'span': '精萃'}, {'type': '产品_核心产品', 'start': 11, 'end': 14, 'span': '精华液'}, {'type': '尺寸规格_重量', 'start': 14, 'end': 18, 'span': '30ml'}]\n"
          ]
        },
        {
          "output_type": "stream",
          "name": "stderr",
          "text": [
            "/usr/local/lib/python3.10/dist-packages/transformers/modeling_utils.py:884: FutureWarning: The `device` argument is deprecated and will be removed in v5 of Transformers.\n",
            "  warnings.warn(\n"
          ]
        },
        {
          "output_type": "stream",
          "name": "stdout",
          "text": [
            "[{'type': '品牌', 'start': 9, 'end': 12, 'span': '资生堂'}, {'type': '系列', 'start': 12, 'end': 15, 'span': '红腰子'}, {'type': '产品_核心产品', 'start': 15, 'end': 18, 'span': '精华液'}, {'type': '功能功效', 'start': 18, 'end': 20, 'span': '修护'}, {'type': '功能功效', 'start': 20, 'end': 22, 'span': '补水'}, {'type': '功能功效', 'start': 22, 'end': 24, 'span': '保湿'}, {'type': '功能功效', 'start': 24, 'end': 26, 'span': '维稳'}, {'type': '产品_其他', 'start': 26, 'end': 29, 'span': '护肤品'}, {'type': '适用范围_其他', 'start': 29, 'end': 31, 'span': '面部'}]\n"
          ]
        },
        {
          "output_type": "stream",
          "name": "stderr",
          "text": [
            "/usr/local/lib/python3.10/dist-packages/transformers/modeling_utils.py:884: FutureWarning: The `device` argument is deprecated and will be removed in v5 of Transformers.\n",
            "  warnings.warn(\n"
          ]
        },
        {
          "output_type": "stream",
          "name": "stdout",
          "text": [
            "[{'type': '适用范围_适用场景', 'start': 1, 'end': 6, 'span': '88VIP'}, {'type': '品牌', 'start': 9, 'end': 13, 'span': '修丽可色'}, {'type': '产品_核心产品', 'start': 14, 'end': 16, 'span': '精华'}, {'type': '功能功效', 'start': 21, 'end': 23, 'span': '修护'}, {'type': '功能功效', 'start': 23, 'end': 25, 'span': '保湿'}, {'type': '功能功效', 'start': 25, 'end': 27, 'span': '补水'}, {'type': '功能功效', 'start': 27, 'end': 29, 'span': '修红'}, {'type': '功能功效', 'start': 29, 'end': 31, 'span': '提亮'}]\n"
          ]
        },
        {
          "output_type": "stream",
          "name": "stderr",
          "text": [
            "/usr/local/lib/python3.10/dist-packages/transformers/modeling_utils.py:884: FutureWarning: The `device` argument is deprecated and will be removed in v5 of Transformers.\n",
            "  warnings.warn(\n"
          ]
        },
        {
          "output_type": "stream",
          "name": "stdout",
          "text": [
            "[{'type': '品牌', 'start': 0, 'end': 3, 'span': '油橄榄'}, {'type': '修饰_外观描述', 'start': 3, 'end': 6, 'span': '小绿瓶'}, {'type': '功能功效', 'start': 8, 'end': 10, 'span': '祛痘'}, {'type': '产品_核心产品', 'start': 10, 'end': 12, 'span': '精华'}, {'type': '适用范围_其他', 'start': 12, 'end': 14, 'span': '痘印'}, {'type': '适用范围_其他', 'start': 14, 'end': 16, 'span': '痘坑'}, {'type': '产品_核心产品', 'start': 16, 'end': 17, 'span': '膏'}, {'type': '功能功效', 'start': 17, 'end': 19, 'span': '淡化'}, {'type': '功能功效', 'start': 19, 'end': 22, 'span': '去痘疤'}, {'type': '适用范围_适用对象', 'start': 22, 'end': 23, 'span': '男'}, {'type': '修饰_产品属性', 'start': 23, 'end': 26, 'span': '非修复'}, {'type': '功能功效', 'start': 26, 'end': 28, 'span': '消炎'}, {'type': '功能功效', 'start': 28, 'end': 30, 'span': '红肿'}]\n"
          ]
        },
        {
          "output_type": "stream",
          "name": "stderr",
          "text": [
            "/usr/local/lib/python3.10/dist-packages/transformers/modeling_utils.py:884: FutureWarning: The `device` argument is deprecated and will be removed in v5 of Transformers.\n",
            "  warnings.warn(\n"
          ]
        },
        {
          "output_type": "stream",
          "name": "stdout",
          "text": [
            "[{'type': '适用范围_适用场景', 'start': 1, 'end': 4, 'span': '618'}, {'type': '品牌', 'start': 7, 'end': 9, 'span': '羽西'}, {'type': '修饰_外观描述', 'start': 9, 'end': 12, 'span': '鎏金瓶'}, {'type': '颜色_色彩', 'start': 12, 'end': 14, 'span': '玻色'}, {'type': '功能功效', 'start': 15, 'end': 17, 'span': '修护'}, {'type': '功能功效', 'start': 17, 'end': 20, 'span': '抗老化'}, {'type': '功能功效', 'start': 20, 'end': 22, 'span': '抗皱'}, {'type': '功能功效', 'start': 22, 'end': 24, 'span': '紧致'}, {'type': '适用范围_其他', 'start': 24, 'end': 26, 'span': '面部'}, {'type': '产品_核心产品', 'start': 26, 'end': 29, 'span': '精华液'}]\n"
          ]
        },
        {
          "output_type": "stream",
          "name": "stderr",
          "text": [
            "/usr/local/lib/python3.10/dist-packages/transformers/modeling_utils.py:884: FutureWarning: The `device` argument is deprecated and will be removed in v5 of Transformers.\n",
            "  warnings.warn(\n"
          ]
        },
        {
          "output_type": "stream",
          "name": "stdout",
          "text": [
            "[{'type': '功能功效', 'start': 6, 'end': 8, 'span': '修护'}, {'type': '产品_核心产品', 'start': 8, 'end': 11, 'span': '肌底液'}, {'type': '功能功效', 'start': 11, 'end': 13, 'span': '维稳'}, {'type': '适用范围_适用场景', 'start': 13, 'end': 15, 'span': '换季'}, {'type': '适用范围_其他', 'start': 15, 'end': 17, 'span': '发红'}, {'type': '适用范围_其他', 'start': 17, 'end': 19, 'span': '薄皮'}, {'type': '适用范围_其他', 'start': 24, 'end': 26, 'span': '面部'}, {'type': '产品_核心产品', 'start': 26, 'end': 29, 'span': '精华液'}]\n"
          ]
        },
        {
          "output_type": "stream",
          "name": "stderr",
          "text": [
            "/usr/local/lib/python3.10/dist-packages/transformers/modeling_utils.py:884: FutureWarning: The `device` argument is deprecated and will be removed in v5 of Transformers.\n",
            "  warnings.warn(\n"
          ]
        },
        {
          "output_type": "stream",
          "name": "stdout",
          "text": [
            "[{'type': '品牌', 'start': 6, 'end': 9, 'span': '娇韵诗'}, {'type': '系列', 'start': 9, 'end': 15, 'span': '青春赋活焕采'}, {'type': '产品_核心产品', 'start': 15, 'end': 18, 'span': '精华水'}, {'type': '风格', 'start': 18, 'end': 20, 'span': '少女'}, {'type': '产品_核心产品', 'start': 20, 'end': 21, 'span': '水'}, {'type': '功能功效', 'start': 21, 'end': 24, 'span': '抗初老'}, {'type': '修饰_产品属性', 'start': 24, 'end': 26, 'span': '平水'}]\n"
          ]
        },
        {
          "output_type": "stream",
          "name": "stderr",
          "text": [
            "/usr/local/lib/python3.10/dist-packages/transformers/modeling_utils.py:884: FutureWarning: The `device` argument is deprecated and will be removed in v5 of Transformers.\n",
            "  warnings.warn(\n"
          ]
        },
        {
          "output_type": "stream",
          "name": "stdout",
          "text": [
            "[{'type': '品牌', 'start': 0, 'end': 9, 'span': 'John Jeff'}, {'type': '尺寸规格_指标参数', 'start': 9, 'end': 17, 'span': '10%维生素B5'}, {'type': '产品_核心产品', 'start': 17, 'end': 20, 'span': '精华液'}, {'type': '品牌', 'start': 20, 'end': 23, 'span': '积雪草'}, {'type': '功能功效', 'start': 23, 'end': 27, 'span': '改善肌肤'}, {'type': '功能功效', 'start': 27, 'end': 29, 'span': '泛红'}, {'type': '功能功效', 'start': 29, 'end': 31, 'span': '补水'}, {'type': '功能功效', 'start': 31, 'end': 33, 'span': '保湿'}, {'type': '功能功效', 'start': 35, 'end': 37, 'span': '舒缓'}]\n"
          ]
        },
        {
          "output_type": "stream",
          "name": "stderr",
          "text": [
            "/usr/local/lib/python3.10/dist-packages/transformers/modeling_utils.py:884: FutureWarning: The `device` argument is deprecated and will be removed in v5 of Transformers.\n",
            "  warnings.warn(\n"
          ]
        },
        {
          "output_type": "stream",
          "name": "stdout",
          "text": [
            "[{'type': '适用范围_适用场景', 'start': 1, 'end': 4, 'span': '618'}, {'type': '品牌', 'start': 9, 'end': 14, 'span': 'Fresh'}, {'type': '品牌', 'start': 14, 'end': 17, 'span': '馥蕾诗'}, {'type': '产品_修饰产品', 'start': 17, 'end': 19, 'span': '红茶'}, {'type': '修饰_产品属性', 'start': 19, 'end': 21, 'span': '酵母'}, {'type': '修饰_产品属性', 'start': 21, 'end': 23, 'span': '酵萃'}, {'type': '产品_核心产品', 'start': 23, 'end': 25, 'span': '精华'}, {'type': '修饰_产品属性', 'start': 25, 'end': 27, 'span': '双酵'}, {'type': '产品_修饰产品', 'start': 27, 'end': 29, 'span': '红茶'}, {'type': '产品_核心产品', 'start': 29, 'end': 32, 'span': '精华水'}]\n"
          ]
        },
        {
          "output_type": "stream",
          "name": "stderr",
          "text": [
            "/usr/local/lib/python3.10/dist-packages/transformers/modeling_utils.py:884: FutureWarning: The `device` argument is deprecated and will be removed in v5 of Transformers.\n",
            "  warnings.warn(\n"
          ]
        },
        {
          "output_type": "stream",
          "name": "stdout",
          "text": [
            "[{'type': '适用范围_适用人群', 'start': 0, 'end': 2, 'span': '明星'}, {'type': '品牌', 'start': 4, 'end': 7, 'span': 'afu'}, {'type': '品牌', 'start': 7, 'end': 9, 'span': '阿芙'}, {'type': '适用范围_适用人群', 'start': 16, 'end': 18, 'span': '干皮'}, {'type': '适用范围_其他', 'start': 18, 'end': 20, 'span': '面部'}, {'type': '产品_核心产品', 'start': 20, 'end': 23, 'span': '精华油'}, {'type': '功能功效', 'start': 23, 'end': 25, 'span': '以油'}, {'type': '功能功效', 'start': 25, 'end': 27, 'span': '养肤'}, {'type': '功能功效', 'start': 27, 'end': 29, 'span': '修护'}, {'type': '功能功效', 'start': 29, 'end': 31, 'span': '抗皱'}]\n"
          ]
        },
        {
          "output_type": "stream",
          "name": "stderr",
          "text": [
            "/usr/local/lib/python3.10/dist-packages/transformers/modeling_utils.py:884: FutureWarning: The `device` argument is deprecated and will be removed in v5 of Transformers.\n",
            "  warnings.warn(\n"
          ]
        },
        {
          "output_type": "stream",
          "name": "stdout",
          "text": [
            "[{'type': '功能功效', 'start': 7, 'end': 9, 'span': '美白'}, {'type': '功能功效', 'start': 9, 'end': 11, 'span': '淡斑'}, {'type': '产品_核心产品', 'start': 11, 'end': 14, 'span': '精华液'}, {'type': '尺寸规格_售卖规格', 'start': 14, 'end': 16, 'span': '3支'}, {'type': '功能功效', 'start': 19, 'end': 21, 'span': '补水'}, {'type': '功能功效', 'start': 21, 'end': 23, 'span': '保湿'}, {'type': '功能功效', 'start': 23, 'end': 27, 'span': '提亮肤色'}, {'type': '功能功效', 'start': 27, 'end': 31, 'span': '改善暗沉'}, {'type': '适用范围_适用对象', 'start': 31, 'end': 32, 'span': '女'}]\n"
          ]
        },
        {
          "output_type": "stream",
          "name": "stderr",
          "text": [
            "/usr/local/lib/python3.10/dist-packages/transformers/modeling_utils.py:884: FutureWarning: The `device` argument is deprecated and will be removed in v5 of Transformers.\n",
            "  warnings.warn(\n"
          ]
        },
        {
          "output_type": "stream",
          "name": "stdout",
          "text": [
            "[{'type': '适用范围_适用场景', 'start': 1, 'end': 4, 'span': '618'}, {'type': '品牌', 'start': 9, 'end': 13, 'span': '修丽可色'}, {'type': '产品_核心产品', 'start': 14, 'end': 16, 'span': '精华'}, {'type': '功能功效', 'start': 17, 'end': 19, 'span': '舒缓'}, {'type': '功能功效', 'start': 19, 'end': 21, 'span': '修护'}, {'type': '功能功效', 'start': 21, 'end': 23, 'span': '补水'}, {'type': '功能功效', 'start': 23, 'end': 25, 'span': '保湿'}, {'type': '功能功效', 'start': 25, 'end': 27, 'span': '修红'}, {'type': '功能功效', 'start': 27, 'end': 29, 'span': '面部'}, {'type': '功能功效', 'start': 29, 'end': 31, 'span': '提亮'}]\n"
          ]
        },
        {
          "output_type": "stream",
          "name": "stderr",
          "text": [
            "/usr/local/lib/python3.10/dist-packages/transformers/modeling_utils.py:884: FutureWarning: The `device` argument is deprecated and will be removed in v5 of Transformers.\n",
            "  warnings.warn(\n"
          ]
        },
        {
          "output_type": "stream",
          "name": "stdout",
          "text": [
            "[{'type': '品牌', 'start': 7, 'end': 9, 'span': '兰蔻'}, {'type': '系列', 'start': 9, 'end': 12, 'span': '小黑瓶'}, {'type': '适用范围_其他', 'start': 12, 'end': 14, 'span': '面部'}, {'type': '产品_核心产品', 'start': 14, 'end': 16, 'span': '精华'}, {'type': '产品_核心产品', 'start': 16, 'end': 19, 'span': '肌底液'}, {'type': '功能功效', 'start': 20, 'end': 22, 'span': '维稳'}, {'type': '功能功效', 'start': 22, 'end': 24, 'span': '修护'}, {'type': '修饰_其他', 'start': 24, 'end': 26, 'span': '年轻'}, {'type': '修饰_产品属性', 'start': 26, 'end': 28, 'span': '细腻'}, {'type': '功能功效', 'start': 28, 'end': 30, 'span': '保湿'}]\n"
          ]
        },
        {
          "output_type": "stream",
          "name": "stderr",
          "text": [
            "/usr/local/lib/python3.10/dist-packages/transformers/modeling_utils.py:884: FutureWarning: The `device` argument is deprecated and will be removed in v5 of Transformers.\n",
            "  warnings.warn(\n"
          ]
        },
        {
          "output_type": "stream",
          "name": "stdout",
          "text": [
            "[{'type': '适用范围_适用场景', 'start': 1, 'end': 4, 'span': '618'}, {'type': '品牌', 'start': 9, 'end': 16, 'span': 'Phyto-c'}, {'type': '品牌', 'start': 16, 'end': 19, 'span': '欧玛油'}, {'type': '产品_修饰产品', 'start': 19, 'end': 21, 'span': '橄榄'}, {'type': '产品_核心产品', 'start': 21, 'end': 23, 'span': '精华'}, {'type': '功能功效', 'start': 23, 'end': 25, 'span': '退红'}, {'type': '功能功效', 'start': 25, 'end': 27, 'span': '舒缓'}, {'type': '功能功效', 'start': 27, 'end': 29, 'span': '修护'}, {'type': '功能功效', 'start': 29, 'end': 31, 'span': '抗火'}, {'type': '产品_核心产品', 'start': 32, 'end': 34, 'span': '精华'}]\n"
          ]
        },
        {
          "output_type": "stream",
          "name": "stderr",
          "text": [
            "/usr/local/lib/python3.10/dist-packages/transformers/modeling_utils.py:884: FutureWarning: The `device` argument is deprecated and will be removed in v5 of Transformers.\n",
            "  warnings.warn(\n"
          ]
        },
        {
          "output_type": "stream",
          "name": "stdout",
          "text": [
            "[{'type': '适用范围_适用场景', 'start': 1, 'end': 4, 'span': '618'}, {'type': '品牌', 'start': 7, 'end': 11, 'span': 'PMPM'}, {'type': '系列', 'start': 11, 'end': 13, 'span': '松露'}, {'type': '款式_其他', 'start': 13, 'end': 16, 'span': '胶原瓶'}, {'type': '功能功效', 'start': 16, 'end': 18, 'span': '抗老'}, {'type': '功能功效', 'start': 18, 'end': 20, 'span': '紧致'}, {'type': '功能功效', 'start': 20, 'end': 22, 'span': '修护'}, {'type': '功能功效', 'start': 22, 'end': 24, 'span': '抗皱'}, {'type': '功能功效', 'start': 24, 'end': 28, 'span': '提亮肤色'}, {'type': '产品_核心产品', 'start': 28, 'end': 30, 'span': '油液'}, {'type': '产品_核心产品', 'start': 30, 'end': 32, 'span': '精华'}]\n"
          ]
        },
        {
          "output_type": "stream",
          "name": "stderr",
          "text": [
            "/usr/local/lib/python3.10/dist-packages/transformers/modeling_utils.py:884: FutureWarning: The `device` argument is deprecated and will be removed in v5 of Transformers.\n",
            "  warnings.warn(\n"
          ]
        },
        {
          "output_type": "stream",
          "name": "stdout",
          "text": [
            "[{'type': '品牌', 'start': 6, 'end': 11, 'span': 'OBAGI'}, {'type': '品牌', 'start': 11, 'end': 14, 'span': '欧邦琪'}, {'type': '修饰_产品属性', 'start': 14, 'end': 18, 'span': '左旋vc'}, {'type': '产品_核心产品', 'start': 18, 'end': 21, 'span': '精华液'}, {'type': '功能功效', 'start': 21, 'end': 23, 'span': '紧致'}, {'type': '功能功效', 'start': 23, 'end': 25, 'span': '抗皱'}, {'type': '功能功效', 'start': 25, 'end': 27, 'span': '提亮'}, {'type': '功能功效', 'start': 27, 'end': 29, 'span': '保湿'}, {'type': '功能功效', 'start': 29, 'end': 31, 'span': '补水'}]\n"
          ]
        },
        {
          "output_type": "stream",
          "name": "stderr",
          "text": [
            "/usr/local/lib/python3.10/dist-packages/transformers/modeling_utils.py:884: FutureWarning: The `device` argument is deprecated and will be removed in v5 of Transformers.\n",
            "  warnings.warn(\n"
          ]
        },
        {
          "output_type": "stream",
          "name": "stdout",
          "text": [
            "[{'type': '品牌', 'start': 9, 'end': 13, 'span': '海蓝之谜'}, {'type': '修饰_产品属性', 'start': 13, 'end': 15, 'span': '浓缩'}, {'type': '功能功效', 'start': 15, 'end': 17, 'span': '修护'}, {'type': '产品_核心产品', 'start': 17, 'end': 20, 'span': '精华露'}, {'type': '功能功效', 'start': 21, 'end': 25, 'span': '密集修护'}, {'type': '功能功效', 'start': 26, 'end': 30, 'span': '强韧屏障'}]\n"
          ]
        },
        {
          "output_type": "stream",
          "name": "stderr",
          "text": [
            "/usr/local/lib/python3.10/dist-packages/transformers/modeling_utils.py:884: FutureWarning: The `device` argument is deprecated and will be removed in v5 of Transformers.\n",
            "  warnings.warn(\n"
          ]
        },
        {
          "output_type": "stream",
          "name": "stdout",
          "text": [
            "[{'type': '适用范围_适用场景', 'start': 1, 'end': 4, 'span': '618'}, {'type': '品牌', 'start': 7, 'end': 10, 'span': '珀莱雅'}, {'type': '修饰_产品属性', 'start': 10, 'end': 12, 'span': '双抗'}, {'type': '产品_核心产品', 'start': 12, 'end': 15, 'span': '精华液'}, {'type': '尺寸规格_指标参数', 'start': 15, 'end': 18, 'span': '3.0'}, {'type': '功能功效', 'start': 18, 'end': 21, 'span': '抗氧化'}, {'type': '功能功效', 'start': 21, 'end': 23, 'span': '抗糖'}, {'type': '适用范围_其他', 'start': 23, 'end': 25, 'span': '面部'}, {'type': '功能功效', 'start': 25, 'end': 27, 'span': '提亮'}, {'type': '功能功效', 'start': 27, 'end': 29, 'span': '补水'}, {'type': '功能功效', 'start': 29, 'end': 31, 'span': '保湿'}]\n"
          ]
        },
        {
          "output_type": "stream",
          "name": "stderr",
          "text": [
            "/usr/local/lib/python3.10/dist-packages/transformers/modeling_utils.py:884: FutureWarning: The `device` argument is deprecated and will be removed in v5 of Transformers.\n",
            "  warnings.warn(\n"
          ]
        },
        {
          "output_type": "stream",
          "name": "stdout",
          "text": [
            "[{'type': '品牌', 'start': 7, 'end': 10, 'span': '莱珀妮'}, {'type': '系列', 'start': 10, 'end': 12, 'span': '纯皙'}, {'type': '产品_核心产品', 'start': 12, 'end': 15, 'span': '珍珠囊'}, {'type': '产品_核心产品', 'start': 15, 'end': 17, 'span': '精华'}, {'type': '功能功效', 'start': 17, 'end': 19, 'span': '补水'}, {'type': '功能功效', 'start': 19, 'end': 21, 'span': '提亮'}, {'type': '功能功效', 'start': 22, 'end': 24, 'span': '匀肤'}, {'type': '功能功效', 'start': 24, 'end': 26, 'span': '紧致'}, {'type': '功能功效', 'start': 26, 'end': 28, 'span': '提升'}]\n"
          ]
        },
        {
          "output_type": "stream",
          "name": "stderr",
          "text": [
            "/usr/local/lib/python3.10/dist-packages/transformers/modeling_utils.py:884: FutureWarning: The `device` argument is deprecated and will be removed in v5 of Transformers.\n",
            "  warnings.warn(\n"
          ]
        },
        {
          "output_type": "stream",
          "name": "stdout",
          "text": [
            "[{'type': '适用范围_适用场景', 'start': 1, 'end': 4, 'span': '618'}, {'type': '品牌', 'start': 7, 'end': 11, 'span': 'PMPM'}, {'type': '系列', 'start': 11, 'end': 13, 'span': '光盾'}, {'type': '产品_核心产品', 'start': 13, 'end': 15, 'span': '精华'}, {'type': '功能功效', 'start': 15, 'end': 18, 'span': '抗光老'}, {'type': '功能功效', 'start': 18, 'end': 20, 'span': '修护'}, {'type': '功能功效', 'start': 20, 'end': 22, 'span': '提亮'}, {'type': '功能功效', 'start': 22, 'end': 26, 'span': '舒缓屏障'}, {'type': '功能功效', 'start': 26, 'end': 29, 'span': '促胶原'}, {'type': '产品_核心产品', 'start': 29, 'end': 32, 'span': '精华液'}]\n"
          ]
        },
        {
          "output_type": "stream",
          "name": "stderr",
          "text": [
            "/usr/local/lib/python3.10/dist-packages/transformers/modeling_utils.py:884: FutureWarning: The `device` argument is deprecated and will be removed in v5 of Transformers.\n",
            "  warnings.warn(\n"
          ]
        },
        {
          "output_type": "stream",
          "name": "stdout",
          "text": [
            "[{'type': '适用范围_适用场景', 'start': 1, 'end': 5, 'span': '5周年庆'}, {'type': '品牌', 'start': 6, 'end': 8, 'span': '华熙'}, {'type': '系列', 'start': 8, 'end': 12, 'span': '生物夸迪'}, {'type': '修饰_产品属性', 'start': 12, 'end': 17, 'span': '5D玻尿酸'}, {'type': '修饰_产品属性', 'start': 17, 'end': 19, 'span': '清润'}, {'type': '修饰_产品属性', 'start': 19, 'end': 21, 'span': '次抛'}, {'type': '功能功效', 'start': 21, 'end': 23, 'span': '补水'}, {'type': '功能功效', 'start': 23, 'end': 25, 'span': '保湿'}, {'type': '产品_核心产品', 'start': 25, 'end': 28, 'span': '精华液'}]\n"
          ]
        },
        {
          "output_type": "stream",
          "name": "stderr",
          "text": [
            "/usr/local/lib/python3.10/dist-packages/transformers/modeling_utils.py:884: FutureWarning: The `device` argument is deprecated and will be removed in v5 of Transformers.\n",
            "  warnings.warn(\n"
          ]
        },
        {
          "output_type": "stream",
          "name": "stdout",
          "text": [
            "[{'type': '适用范围_适用场景', 'start': 1, 'end': 4, 'span': '618'}, {'type': '品牌', 'start': 7, 'end': 10, 'span': '珀莱雅'}, {'type': '系列', 'start': 10, 'end': 13, 'span': '红宝石'}, {'type': '产品_核心产品', 'start': 13, 'end': 15, 'span': '精华'}, {'type': '尺寸规格_指标参数', 'start': 15, 'end': 20, 'span': '2.0A醇'}, {'type': '产品_核心产品', 'start': 20, 'end': 23, 'span': '精华液'}, {'type': '适用范围_其他', 'start': 23, 'end': 25, 'span': '面部'}, {'type': '功能功效', 'start': 25, 'end': 27, 'span': '提拉'}, {'type': '功能功效', 'start': 27, 'end': 29, 'span': '紧致'}, {'type': '功能功效', 'start': 29, 'end': 31, 'span': '抗皱'}]\n"
          ]
        },
        {
          "output_type": "stream",
          "name": "stderr",
          "text": [
            "/usr/local/lib/python3.10/dist-packages/transformers/modeling_utils.py:884: FutureWarning: The `device` argument is deprecated and will be removed in v5 of Transformers.\n",
            "  warnings.warn(\n"
          ]
        },
        {
          "output_type": "stream",
          "name": "stdout",
          "text": [
            "[{'type': '品牌', 'start': 0, 'end': 4, 'span': '寡肽倍护'}, {'type': '产品_核心产品', 'start': 4, 'end': 7, 'span': '冻干粉'}, {'type': '尺寸规格_售卖规格', 'start': 7, 'end': 9, 'span': '套装'}, {'type': '功能功效', 'start': 9, 'end': 12, 'span': '去淡化'}, {'type': '功能功效', 'start': 12, 'end': 15, 'span': '祛痘印'}, {'type': '功能功效', 'start': 15, 'end': 17, 'span': '痘坑'}, {'type': '功能功效', 'start': 17, 'end': 19, 'span': '修护'}, {'type': '功能功效', 'start': 19, 'end': 23, 'span': '收缩毛孔'}, {'type': '产品_核心产品', 'start': 23, 'end': 27, 'span': '精华水液'}, {'type': '修饰_产品属性', 'start': 27, 'end': 29, 'span': '正品'}, {'type': '适用范围_适用对象', 'start': 29, 'end': 30, 'span': '女'}]\n"
          ]
        },
        {
          "output_type": "stream",
          "name": "stderr",
          "text": [
            "/usr/local/lib/python3.10/dist-packages/transformers/modeling_utils.py:884: FutureWarning: The `device` argument is deprecated and will be removed in v5 of Transformers.\n",
            "  warnings.warn(\n"
          ]
        },
        {
          "output_type": "stream",
          "name": "stdout",
          "text": [
            "[{'type': '品牌', 'start': 0, 'end': 5, 'span': 'Vinas'}, {'type': '系列', 'start': 5, 'end': 7, 'span': '月光'}, {'type': '产品_核心产品', 'start': 7, 'end': 10, 'span': '精华液'}, {'type': '修饰_产品属性', 'start': 10, 'end': 15, 'span': '四氢姜黄素'}, {'type': '功能功效', 'start': 15, 'end': 19, 'span': '去黑色素'}, {'type': '功能功效', 'start': 19, 'end': 21, 'span': '美白'}, {'type': '功能功效', 'start': 21, 'end': 23, 'span': '淡斑'}, {'type': '适用范围_适用对象', 'start': 23, 'end': 24, 'span': '女'}, {'type': '产品_核心产品', 'start': 24, 'end': 30, 'span': 'tanita'}, {'type': '产品_核心产品', 'start': 30, 'end': 32, 'span': '精华'}, {'type': '地点地域_产地', 'start': 32, 'end': 35, 'span': '西班牙'}]\n"
          ]
        },
        {
          "output_type": "stream",
          "name": "stderr",
          "text": [
            "/usr/local/lib/python3.10/dist-packages/transformers/modeling_utils.py:884: FutureWarning: The `device` argument is deprecated and will be removed in v5 of Transformers.\n",
            "  warnings.warn(\n"
          ]
        },
        {
          "output_type": "stream",
          "name": "stdout",
          "text": [
            "[{'type': '适用范围_适用场景', 'start': 1, 'end': 4, 'span': '直播间'}, {'type': '品牌', 'start': 7, 'end': 9, 'span': '倩碧'}, {'type': '型号', 'start': 9, 'end': 13, 'span': '1870'}, {'type': '款式_其他', 'start': 15, 'end': 18, 'span': '紫光瓶'}, {'type': '功能功效', 'start': 18, 'end': 20, 'span': '抗老'}, {'type': '产品_核心产品', 'start': 20, 'end': 22, 'span': '精华'}, {'type': '功能功效', 'start': 32, 'end': 34, 'span': '紧致'}]\n"
          ]
        },
        {
          "output_type": "stream",
          "name": "stderr",
          "text": [
            "/usr/local/lib/python3.10/dist-packages/transformers/modeling_utils.py:884: FutureWarning: The `device` argument is deprecated and will be removed in v5 of Transformers.\n",
            "  warnings.warn(\n"
          ]
        },
        {
          "output_type": "stream",
          "name": "stdout",
          "text": [
            "[{'type': '品牌', 'start': 6, 'end': 8, 'span': '兰芝'}, {'type': '系列', 'start': 8, 'end': 10, 'span': '致美'}, {'type': '款式_其他', 'start': 10, 'end': 14, 'span': '黄金三管'}, {'type': '产品_核心产品', 'start': 14, 'end': 16, 'span': '精华'}, {'type': '修饰_产品属性', 'start': 16, 'end': 19, 'span': '视黄醇'}, {'type': '功能功效', 'start': 19, 'end': 21, 'span': '分层'}, {'type': '功能功效', 'start': 21, 'end': 23, 'span': '抗老'}, {'type': '功能功效', 'start': 23, 'end': 25, 'span': '淡纹'}, {'type': '功能功效', 'start': 25, 'end': 27, 'span': '紧致'}, {'type': '修饰_产品属性', 'start': 27, 'end': 29, 'span': '滋润'}]\n"
          ]
        },
        {
          "output_type": "stream",
          "name": "stderr",
          "text": [
            "/usr/local/lib/python3.10/dist-packages/transformers/modeling_utils.py:884: FutureWarning: The `device` argument is deprecated and will be removed in v5 of Transformers.\n",
            "  warnings.warn(\n"
          ]
        },
        {
          "output_type": "stream",
          "name": "stdout",
          "text": [
            "[{'type': '品牌', 'start': 5, 'end': 10, 'span': 'SK-II'}, {'type': '系列', 'start': 10, 'end': 13, 'span': '神仙水'}, {'type': '产品_核心产品', 'start': 13, 'end': 16, 'span': '精华液'}, {'type': '功能功效', 'start': 16, 'end': 18, 'span': '保湿'}, {'type': '功能功效', 'start': 18, 'end': 20, 'span': '紧致'}, {'type': '功能功效', 'start': 20, 'end': 22, 'span': '修护'}, {'type': '功能功效', 'start': 22, 'end': 24, 'span': '抗皱'}, {'type': '尺寸规格_重量', 'start': 24, 'end': 28, 'span': '10ml'}, {'type': '适用范围_适用人群', 'start': 29, 'end': 31, 'span': '会员'}]\n"
          ]
        },
        {
          "output_type": "stream",
          "name": "stderr",
          "text": [
            "/usr/local/lib/python3.10/dist-packages/transformers/modeling_utils.py:884: FutureWarning: The `device` argument is deprecated and will be removed in v5 of Transformers.\n",
            "  warnings.warn(\n"
          ]
        },
        {
          "output_type": "stream",
          "name": "stdout",
          "text": [
            "[{'type': '适用范围_适用场景', 'start': 1, 'end': 4, 'span': '618'}, {'type': '品牌', 'start': 9, 'end': 12, 'span': '天露芬'}, {'type': '产品_修饰产品', 'start': 12, 'end': 14, 'span': '沙棘'}, {'type': '系列', 'start': 14, 'end': 18, 'span': '黄金双萃'}, {'type': '产品_核心产品', 'start': 18, 'end': 22, 'span': '精华液油'}, {'type': '功能功效', 'start': 22, 'end': 25, 'span': '抗氧化'}, {'type': '功能功效', 'start': 25, 'end': 27, 'span': '暗沉'}, {'type': '功能功效', 'start': 27, 'end': 29, 'span': '焕亮'}, {'type': '功能功效', 'start': 29, 'end': 31, 'span': '修护'}]\n"
          ]
        },
        {
          "output_type": "stream",
          "name": "stderr",
          "text": [
            "/usr/local/lib/python3.10/dist-packages/transformers/modeling_utils.py:884: FutureWarning: The `device` argument is deprecated and will be removed in v5 of Transformers.\n",
            "  warnings.warn(\n"
          ]
        },
        {
          "output_type": "stream",
          "name": "stdout",
          "text": [
            "[{'type': '适用范围_适用场景', 'start': 1, 'end': 4, 'span': '618'}, {'type': '品牌', 'start': 9, 'end': 12, 'span': '润百颜'}, {'type': '颜色_色彩', 'start': 12, 'end': 15, 'span': '白纱布'}, {'type': '功能功效', 'start': 15, 'end': 17, 'span': '屏障'}, {'type': '修饰_产品属性', 'start': 17, 'end': 19, 'span': '次抛'}, {'type': '产品_核心产品', 'start': 19, 'end': 22, 'span': '精华液'}, {'type': '修饰_产品属性', 'start': 22, 'end': 25, 'span': '玻尿酸'}, {'type': '功能功效', 'start': 25, 'end': 27, 'span': '修护'}, {'type': '品牌', 'start': 27, 'end': 31, 'span': '华熙生物'}]\n"
          ]
        },
        {
          "output_type": "stream",
          "name": "stderr",
          "text": [
            "/usr/local/lib/python3.10/dist-packages/transformers/modeling_utils.py:884: FutureWarning: The `device` argument is deprecated and will be removed in v5 of Transformers.\n",
            "  warnings.warn(\n"
          ]
        },
        {
          "output_type": "stream",
          "name": "stdout",
          "text": [
            "[{'type': '适用范围_适用场景', 'start': 1, 'end': 4, 'span': '618'}, {'type': '品牌', 'start': 7, 'end': 9, 'span': '兰蔻'}, {'type': '系列', 'start': 9, 'end': 11, 'span': '菁纯'}, {'type': '产品_核心产品', 'start': 11, 'end': 15, 'span': '精华凝乳'}, {'type': '功能功效', 'start': 16, 'end': 18, 'span': '淡纹'}, {'type': '功能功效', 'start': 18, 'end': 20, 'span': '紧致'}, {'type': '功能功效', 'start': 20, 'end': 23, 'span': '抗老化'}, {'type': '功能功效', 'start': 23, 'end': 27, 'span': '改善暗沉'}]\n"
          ]
        },
        {
          "output_type": "stream",
          "name": "stderr",
          "text": [
            "/usr/local/lib/python3.10/dist-packages/transformers/modeling_utils.py:884: FutureWarning: The `device` argument is deprecated and will be removed in v5 of Transformers.\n",
            "  warnings.warn(\n"
          ]
        },
        {
          "output_type": "stream",
          "name": "stdout",
          "text": [
            "[{'type': '品牌', 'start': 6, 'end': 10, 'span': '悦诗风吟'}, {'type': '系列', 'start': 10, 'end': 13, 'span': '第四代'}, {'type': '系列', 'start': 13, 'end': 16, 'span': '小绿瓶'}, {'type': '功能功效', 'start': 16, 'end': 18, 'span': '补水'}, {'type': '功能功效', 'start': 18, 'end': 20, 'span': '保湿'}, {'type': '功能功效', 'start': 20, 'end': 22, 'span': '舒缓'}, {'type': '产品_核心产品', 'start': 22, 'end': 25, 'span': '精华液'}, {'type': '功能功效', 'start': 25, 'end': 27, 'span': '修缮'}, {'type': '产品_核心产品', 'start': 27, 'end': 30, 'span': '肌底液'}]\n"
          ]
        },
        {
          "output_type": "stream",
          "name": "stderr",
          "text": [
            "/usr/local/lib/python3.10/dist-packages/transformers/modeling_utils.py:884: FutureWarning: The `device` argument is deprecated and will be removed in v5 of Transformers.\n",
            "  warnings.warn(\n"
          ]
        },
        {
          "output_type": "stream",
          "name": "stdout",
          "text": [
            "[{'type': '修饰_产品属性', 'start': 5, 'end': 7, 'span': '分级'}, {'type': '修饰_产品属性', 'start': 7, 'end': 10, 'span': '水杨酸'}, {'type': '产品_核心产品', 'start': 10, 'end': 13, 'span': '精华液'}, {'type': '功能功效', 'start': 14, 'end': 16, 'span': '祛痘'}, {'type': '功能功效', 'start': 16, 'end': 20, 'span': '淡化痘印'}, {'type': '功能功效', 'start': 20, 'end': 23, 'span': '去闭口'}, {'type': '功能功效', 'start': 23, 'end': 27, 'span': '粉刺黑头'}, {'type': '功能功效', 'start': 27, 'end': 31, 'span': '控油毛孔'}]\n"
          ]
        },
        {
          "output_type": "stream",
          "name": "stderr",
          "text": [
            "/usr/local/lib/python3.10/dist-packages/transformers/modeling_utils.py:884: FutureWarning: The `device` argument is deprecated and will be removed in v5 of Transformers.\n",
            "  warnings.warn(\n"
          ]
        },
        {
          "output_type": "stream",
          "name": "stdout",
          "text": [
            "[{'type': '品牌', 'start': 0, 'end': 3, 'span': 'ddg'}, {'type': '系列', 'start': 8, 'end': 10, 'span': '焕活'}, {'type': '功能功效', 'start': 10, 'end': 12, 'span': '补水'}, {'type': '功能功效', 'start': 12, 'end': 14, 'span': '保湿'}, {'type': '产品_核心产品', 'start': 14, 'end': 16, 'span': '精华'}, {'type': '功能功效', 'start': 16, 'end': 18, 'span': '维稳'}, {'type': '功能功效', 'start': 18, 'end': 20, 'span': '修护'}, {'type': '适用范围_其他', 'start': 20, 'end': 24, 'span': '敏感泛红'}, {'type': '产品_修饰产品', 'start': 24, 'end': 27, 'span': '玻尿酸'}, {'type': '修饰_产品属性', 'start': 30, 'end': 32, 'span': '水感'}, {'type': '产品_核心产品', 'start': 32, 'end': 34, 'span': '精华'}]\n"
          ]
        },
        {
          "output_type": "stream",
          "name": "stderr",
          "text": [
            "/usr/local/lib/python3.10/dist-packages/transformers/modeling_utils.py:884: FutureWarning: The `device` argument is deprecated and will be removed in v5 of Transformers.\n",
            "  warnings.warn(\n"
          ]
        },
        {
          "output_type": "stream",
          "name": "stdout",
          "text": [
            "[{'type': '品牌', 'start': 6, 'end': 10, 'span': '雅诗兰黛'}, {'type': '系列', 'start': 10, 'end': 13, 'span': '小棕瓶'}, {'type': '产品_核心产品', 'start': 13, 'end': 15, 'span': '精华'}, {'type': '适用范围_其他', 'start': 15, 'end': 17, 'span': '面部'}, {'type': '产品_核心产品', 'start': 17, 'end': 20, 'span': '精华液'}, {'type': '功能功效', 'start': 20, 'end': 22, 'span': '淡纹'}, {'type': '产品_核心产品', 'start': 22, 'end': 25, 'span': '律波肽'}, {'type': '尺寸规格_售卖规格', 'start': 25, 'end': 27, 'span': '礼盒'}]\n"
          ]
        },
        {
          "output_type": "stream",
          "name": "stderr",
          "text": [
            "/usr/local/lib/python3.10/dist-packages/transformers/modeling_utils.py:884: FutureWarning: The `device` argument is deprecated and will be removed in v5 of Transformers.\n",
            "  warnings.warn(\n"
          ]
        },
        {
          "output_type": "stream",
          "name": "stdout",
          "text": [
            "[{'type': '品牌', 'start': 6, 'end': 8, 'span': '甄然'}, {'type': '修饰_产品属性', 'start': 8, 'end': 11, 'span': '高保湿'}, {'type': '产品_核心产品', 'start': 11, 'end': 16, 'span': '玻尿酸原液'}, {'type': '修饰_产品属性', 'start': 16, 'end': 18, 'span': '次抛'}, {'type': '功能功效', 'start': 18, 'end': 20, 'span': '补水'}, {'type': '款式_其他', 'start': 20, 'end': 22, 'span': '安瓶'}, {'type': '产品_核心产品', 'start': 22, 'end': 25, 'span': '精华液'}, {'type': '尺寸规格_售卖规格', 'start': 25, 'end': 29, 'span': '100支'}]\n"
          ]
        },
        {
          "output_type": "stream",
          "name": "stderr",
          "text": [
            "/usr/local/lib/python3.10/dist-packages/transformers/modeling_utils.py:884: FutureWarning: The `device` argument is deprecated and will be removed in v5 of Transformers.\n",
            "  warnings.warn(\n"
          ]
        },
        {
          "output_type": "stream",
          "name": "stdout",
          "text": [
            "[{'type': '品牌', 'start': 0, 'end': 4, 'span': '瑷尔博士'}, {'type': '修饰_产品属性', 'start': 4, 'end': 6, 'span': '精研'}, {'type': '修饰_产品属性', 'start': 6, 'end': 8, 'span': '弹润'}, {'type': '修饰_产品属性', 'start': 8, 'end': 10, 'span': '次抛'}, {'type': '材质_金属材质', 'start': 10, 'end': 12, 'span': '蓝铜'}, {'type': '产品_核心产品', 'start': 12, 'end': 14, 'span': '胜肽'}, {'type': '产品_核心产品', 'start': 14, 'end': 17, 'span': '精华液'}, {'type': '功能功效', 'start': 17, 'end': 21, 'span': '修护屏障'}, {'type': '功能功效', 'start': 21, 'end': 23, 'span': '提拉'}, {'type': '功能功效', 'start': 23, 'end': 25, 'span': '紧致'}, {'type': '功能功效', 'start': 25, 'end': 28, 'span': '抗初老'}, {'type': '尺寸规格_售卖规格', 'start': 28, 'end': 31, 'span': '30支'}]\n"
          ]
        },
        {
          "output_type": "stream",
          "name": "stderr",
          "text": [
            "/usr/local/lib/python3.10/dist-packages/transformers/modeling_utils.py:884: FutureWarning: The `device` argument is deprecated and will be removed in v5 of Transformers.\n",
            "  warnings.warn(\n"
          ]
        },
        {
          "output_type": "stream",
          "name": "stdout",
          "text": [
            "[{'type': '适用范围_适用场景', 'start': 1, 'end': 6, 'span': '官方旗舰店'}, {'type': '品牌', 'start': 7, 'end': 10, 'span': 'CSS'}, {'type': '品牌', 'start': 10, 'end': 13, 'span': '希妍萃'}, {'type': '系列', 'start': 13, 'end': 18, 'span': '橄榄积雪草'}, {'type': '产品_核心产品', 'start': 18, 'end': 20, 'span': '精华'}, {'type': '功能功效', 'start': 20, 'end': 22, 'span': '修红'}, {'type': '功能功效', 'start': 22, 'end': 24, 'span': '舒缓'}, {'type': '适用范围_其他', 'start': 24, 'end': 26, 'span': '敏感'}, {'type': '功能功效', 'start': 26, 'end': 30, 'span': '修护屏障'}]\n"
          ]
        },
        {
          "output_type": "stream",
          "name": "stderr",
          "text": [
            "/usr/local/lib/python3.10/dist-packages/transformers/modeling_utils.py:884: FutureWarning: The `device` argument is deprecated and will be removed in v5 of Transformers.\n",
            "  warnings.warn(\n"
          ]
        },
        {
          "output_type": "stream",
          "name": "stdout",
          "text": [
            "[{'type': '适用范围_适用场景', 'start': 1, 'end': 4, 'span': '618'}, {'type': '品牌', 'start': 9, 'end': 12, 'span': '雪花秀'}, {'type': '系列', 'start': 12, 'end': 15, 'span': '第六代'}, {'type': '系列', 'start': 15, 'end': 19, 'span': '润致焕活'}, {'type': '产品_修饰产品', 'start': 19, 'end': 21, 'span': '人参'}, {'type': '修饰_产品属性', 'start': 21, 'end': 23, 'span': '肌底'}, {'type': '产品_核心产品', 'start': 23, 'end': 25, 'span': '精华'}, {'type': '功能功效', 'start': 25, 'end': 27, 'span': '维稳'}, {'type': '功能功效', 'start': 27, 'end': 29, 'span': '修护'}, {'type': '尺寸规格_重量', 'start': 29, 'end': 33, 'span': '30ml'}]\n"
          ]
        },
        {
          "output_type": "stream",
          "name": "stderr",
          "text": [
            "/usr/local/lib/python3.10/dist-packages/transformers/modeling_utils.py:884: FutureWarning: The `device` argument is deprecated and will be removed in v5 of Transformers.\n",
            "  warnings.warn(\n"
          ]
        },
        {
          "output_type": "stream",
          "name": "stdout",
          "text": [
            "[{'type': '适用范围_适用场景', 'start': 1, 'end': 5, 'span': '5周年庆'}, {'type': '品牌', 'start': 6, 'end': 12, 'span': '华熙生物夸迪'}, {'type': '修饰_产品属性', 'start': 12, 'end': 17, 'span': '5D玻尿酸'}, {'type': '功能功效', 'start': 17, 'end': 19, 'span': '战痘'}, {'type': '修饰_产品属性', 'start': 19, 'end': 21, 'span': '次抛'}, {'type': '功能功效', 'start': 21, 'end': 23, 'span': '控油'}, {'type': '修饰_产品属性', 'start': 23, 'end': 26, 'span': '水杨酸'}, {'type': '功能功效', 'start': 26, 'end': 28, 'span': '祛痘'}, {'type': '产品_核心产品', 'start': 28, 'end': 31, 'span': '精华液'}]\n"
          ]
        },
        {
          "output_type": "stream",
          "name": "stderr",
          "text": [
            "/usr/local/lib/python3.10/dist-packages/transformers/modeling_utils.py:884: FutureWarning: The `device` argument is deprecated and will be removed in v5 of Transformers.\n",
            "  warnings.warn(\n"
          ]
        },
        {
          "output_type": "stream",
          "name": "stdout",
          "text": [
            "[{'type': '品牌', 'start': 0, 'end': 5, 'span': 'ONCUR'}, {'type': '品牌', 'start': 5, 'end': 8, 'span': '安修泽'}, {'type': '尺寸规格_指标参数', 'start': 8, 'end': 16, 'span': '40%油橄榄因子'}, {'type': '产品_核心产品', 'start': 16, 'end': 19, 'span': '精华液'}, {'type': '功能功效', 'start': 19, 'end': 21, 'span': '祛痘'}, {'type': '功能功效', 'start': 21, 'end': 23, 'span': '修护'}, {'type': '功能功效', 'start': 23, 'end': 25, 'span': '舒缓'}, {'type': '功能功效', 'start': 25, 'end': 29, 'span': '淡化痘印'}, {'type': '适用范围_其他', 'start': 29, 'end': 31, 'span': '面部'}, {'type': '产品_核心产品', 'start': 31, 'end': 33, 'span': '精华'}]\n"
          ]
        },
        {
          "output_type": "stream",
          "name": "stderr",
          "text": [
            "/usr/local/lib/python3.10/dist-packages/transformers/modeling_utils.py:884: FutureWarning: The `device` argument is deprecated and will be removed in v5 of Transformers.\n",
            "  warnings.warn(\n"
          ]
        },
        {
          "output_type": "stream",
          "name": "stdout",
          "text": [
            "[{'type': '适用范围_适用场景', 'start': 1, 'end': 4, 'span': '618'}, {'type': '品牌', 'start': 7, 'end': 12, 'span': 'DR.WU'}, {'type': '品牌', 'start': 12, 'end': 15, 'span': '达尔肤'}, {'type': '修饰_产品属性', 'start': 15, 'end': 18, 'span': '杏仁酸'}, {'type': '产品_核心产品', 'start': 18, 'end': 20, 'span': '精华'}, {'type': '尺寸规格_指标参数', 'start': 20, 'end': 23, 'span': '8% '}, {'type': '产品_修饰产品', 'start': 23, 'end': 25, 'span': '果酸'}, {'type': '产品_修饰产品', 'start': 25, 'end': 28, 'span': '水杨酸'}, {'type': '功能功效', 'start': 28, 'end': 30, 'span': '祛痘'}, {'type': '功能功效', 'start': 30, 'end': 33, 'span': '去闭口'}, {'type': '功能功效', 'start': 33, 'end': 35, 'span': '粉刺'}]\n"
          ]
        },
        {
          "output_type": "stream",
          "name": "stderr",
          "text": [
            "/usr/local/lib/python3.10/dist-packages/transformers/modeling_utils.py:884: FutureWarning: The `device` argument is deprecated and will be removed in v5 of Transformers.\n",
            "  warnings.warn(\n"
          ]
        },
        {
          "output_type": "stream",
          "name": "stdout",
          "text": [
            "[{'type': '品牌', 'start': 0, 'end': 4, 'span': '海蓝之谜'}, {'type': '修饰_产品属性', 'start': 4, 'end': 6, 'span': '双抗'}, {'type': '产品_核心产品', 'start': 6, 'end': 8, 'span': '精华'}, {'type': '功能功效', 'start': 8, 'end': 10, 'span': '美白'}, {'type': '产品_核心产品', 'start': 10, 'end': 12, 'span': '精华'}, {'type': '修饰_产品属性', 'start': 12, 'end': 14, 'span': '浓缩'}, {'type': '功能功效', 'start': 14, 'end': 16, 'span': '修护'}, {'type': '产品_核心产品', 'start': 16, 'end': 19, 'span': '精华露'}, {'type': '功能功效', 'start': 19, 'end': 21, 'span': '紧致'}, {'type': '功能功效', 'start': 21, 'end': 23, 'span': '修护'}, {'type': '适用范围_适用人群', 'start': 23, 'end': 26, 'span': '敏感肌'}, {'type': '修饰_其他', 'start': 26, 'end': 28, 'span': '护肤'}]\n"
          ]
        },
        {
          "output_type": "stream",
          "name": "stderr",
          "text": [
            "/usr/local/lib/python3.10/dist-packages/transformers/modeling_utils.py:884: FutureWarning: The `device` argument is deprecated and will be removed in v5 of Transformers.\n",
            "  warnings.warn(\n"
          ]
        },
        {
          "output_type": "stream",
          "name": "stdout",
          "text": [
            "[{'type': '适用范围_适用场景', 'start': 1, 'end': 6, 'span': '618直播'}, {'type': '品牌', 'start': 10, 'end': 14, 'span': '海蓝之谜'}, {'type': '功能功效', 'start': 14, 'end': 16, 'span': '修护'}, {'type': '产品_核心产品', 'start': 16, 'end': 19, 'span': '精萃水'}, {'type': '功能功效', 'start': 20, 'end': 22, 'span': '补水'}, {'type': '功能功效', 'start': 22, 'end': 24, 'span': '保湿'}, {'type': '功能功效', 'start': 24, 'end': 27, 'span': '抗初老'}, {'type': '产品_核心产品', 'start': 27, 'end': 30, 'span': '精华水'}]\n"
          ]
        },
        {
          "output_type": "stream",
          "name": "stderr",
          "text": [
            "/usr/local/lib/python3.10/dist-packages/transformers/modeling_utils.py:884: FutureWarning: The `device` argument is deprecated and will be removed in v5 of Transformers.\n",
            "  warnings.warn(\n"
          ]
        },
        {
          "output_type": "stream",
          "name": "stdout",
          "text": [
            "[{'type': '功能功效', 'start': 7, 'end': 9, 'span': '祛痘'}, {'type': '产品_其他', 'start': 9, 'end': 11, 'span': '产品'}, {'type': '适用范围_其他', 'start': 11, 'end': 13, 'span': '痘痘'}, {'type': '产品_核心产品', 'start': 13, 'end': 16, 'span': '精华液'}, {'type': '尺寸规格_售卖规格', 'start': 16, 'end': 18, 'span': '组合'}, {'type': '尺寸规格_售卖规格', 'start': 18, 'end': 22, 'span': '神器组合'}]\n"
          ]
        },
        {
          "output_type": "stream",
          "name": "stderr",
          "text": [
            "/usr/local/lib/python3.10/dist-packages/transformers/modeling_utils.py:884: FutureWarning: The `device` argument is deprecated and will be removed in v5 of Transformers.\n",
            "  warnings.warn(\n"
          ]
        },
        {
          "output_type": "stream",
          "name": "stdout",
          "text": [
            "[{'type': '品牌', 'start': 6, 'end': 9, 'span': '资生堂'}, {'type': '系列', 'start': 9, 'end': 13, 'span': '光透耀白'}, {'type': '功能功效', 'start': 13, 'end': 15, 'span': '祛斑'}, {'type': '功能功效', 'start': 15, 'end': 17, 'span': '焕颜'}, {'type': '产品_核心产品', 'start': 17, 'end': 20, 'span': '精华液'}, {'type': '功能功效', 'start': 21, 'end': 23, 'span': '美白'}, {'type': '功能功效', 'start': 23, 'end': 25, 'span': '淡斑'}, {'type': '修饰_外观描述', 'start': 25, 'end': 28, 'span': '樱花瓶'}, {'type': '产品_核心产品', 'start': 28, 'end': 30, 'span': '精华'}]\n"
          ]
        },
        {
          "output_type": "stream",
          "name": "stderr",
          "text": [
            "/usr/local/lib/python3.10/dist-packages/transformers/modeling_utils.py:884: FutureWarning: The `device` argument is deprecated and will be removed in v5 of Transformers.\n",
            "  warnings.warn(\n"
          ]
        },
        {
          "output_type": "stream",
          "name": "stdout",
          "text": [
            "[{'type': '适用范围_适用场景', 'start': 1, 'end': 4, 'span': '618'}, {'type': '品牌', 'start': 7, 'end': 10, 'span': '林清轩'}, {'type': '款式_其他', 'start': 10, 'end': 13, 'span': '山茶花'}, {'type': '适用范围_其他', 'start': 13, 'end': 15, 'span': '面部'}, {'type': '产品_核心产品', 'start': 15, 'end': 18, 'span': '精华油'}, {'type': '功能功效', 'start': 18, 'end': 20, 'span': '修护'}, {'type': '功能功效', 'start': 20, 'end': 22, 'span': '抗老'}, {'type': '功能功效', 'start': 22, 'end': 24, 'span': '以油'}, {'type': '功能功效', 'start': 24, 'end': 26, 'span': '养肤'}, {'type': '尺寸规格_外观尺寸', 'start': 26, 'end': 27, 'span': '小'}, {'type': '款式_其他', 'start': 27, 'end': 29, 'span': '皇瓶'}]\n"
          ]
        },
        {
          "output_type": "stream",
          "name": "stderr",
          "text": [
            "/usr/local/lib/python3.10/dist-packages/transformers/modeling_utils.py:884: FutureWarning: The `device` argument is deprecated and will be removed in v5 of Transformers.\n",
            "  warnings.warn(\n"
          ]
        },
        {
          "output_type": "stream",
          "name": "stdout",
          "text": [
            "[{'type': '品牌', 'start': 9, 'end': 14, 'span': 'SK-II'}, {'type': '系列', 'start': 14, 'end': 17, 'span': '小灯泡'}, {'type': '功能功效', 'start': 17, 'end': 19, 'span': '美白'}, {'type': '功能功效', 'start': 19, 'end': 21, 'span': '修护'}, {'type': '产品_核心产品', 'start': 21, 'end': 23, 'span': '精华'}, {'type': '功能功效', 'start': 23, 'end': 25, 'span': '淡斑'}, {'type': '功能功效', 'start': 25, 'end': 29, 'span': '改善肌肤'}, {'type': '型号', 'start': 29, 'end': 36, 'span': 'skllsk2'}]\n"
          ]
        },
        {
          "output_type": "stream",
          "name": "stderr",
          "text": [
            "/usr/local/lib/python3.10/dist-packages/transformers/modeling_utils.py:884: FutureWarning: The `device` argument is deprecated and will be removed in v5 of Transformers.\n",
            "  warnings.warn(\n"
          ]
        },
        {
          "output_type": "stream",
          "name": "stdout",
          "text": [
            "[{'type': '适用范围_适用场景', 'start': 1, 'end': 4, 'span': '618'}, {'type': '品牌', 'start': 7, 'end': 12, 'span': 'Murad'}, {'type': '品牌', 'start': 12, 'end': 15, 'span': '慕拉得'}, {'type': '修饰_产品属性', 'start': 15, 'end': 17, 'span': 'A醇'}, {'type': '适用范围_其他', 'start': 17, 'end': 19, 'span': '面部'}, {'type': '产品_核心产品', 'start': 19, 'end': 21, 'span': '精华'}, {'type': '尺寸规格_重量', 'start': 21, 'end': 25, 'span': '50ml'}, {'type': '功能功效', 'start': 25, 'end': 27, 'span': '紧致'}, {'type': '功能功效', 'start': 27, 'end': 29, 'span': '抗皱'}, {'type': '功能功效', 'start': 29, 'end': 32, 'span': '抗初老'}]\n"
          ]
        },
        {
          "output_type": "stream",
          "name": "stderr",
          "text": [
            "/usr/local/lib/python3.10/dist-packages/transformers/modeling_utils.py:884: FutureWarning: The `device` argument is deprecated and will be removed in v5 of Transformers.\n",
            "  warnings.warn(\n"
          ]
        },
        {
          "output_type": "stream",
          "name": "stdout",
          "text": [
            "[{'type': '品牌', 'start': 6, 'end': 10, 'span': '悦诗风吟'}, {'type': '款式_其他', 'start': 11, 'end': 13, 'span': '白瓶'}, {'type': '修饰_产品属性', 'start': 13, 'end': 16, 'span': '视黄醇'}, {'type': '产品_核心产品', 'start': 16, 'end': 19, 'span': '精华液'}, {'type': '适用范围_适用人群', 'start': 19, 'end': 21, 'span': '油皮'}, {'type': '功能功效', 'start': 21, 'end': 23, 'span': '紧致'}, {'type': '功能功效', 'start': 23, 'end': 26, 'span': '细毛孔'}, {'type': '功能功效', 'start': 26, 'end': 28, 'span': '控油'}, {'type': '功能功效', 'start': 28, 'end': 30, 'span': '祛痘'}]\n"
          ]
        },
        {
          "output_type": "stream",
          "name": "stderr",
          "text": [
            "/usr/local/lib/python3.10/dist-packages/transformers/modeling_utils.py:884: FutureWarning: The `device` argument is deprecated and will be removed in v5 of Transformers.\n",
            "  warnings.warn(\n"
          ]
        },
        {
          "output_type": "stream",
          "name": "stdout",
          "text": [
            "[{'type': '尺寸规格_售卖规格', 'start': 1, 'end': 3, 'span': '套组'}, {'type': '品牌', 'start': 4, 'end': 16, 'span': 'The Ordinary'}, {'type': '产品_修饰产品', 'start': 17, 'end': 20, 'span': '熊果苷'}, {'type': '修饰_产品属性', 'start': 23, 'end': 25, 'span': '三控'}, {'type': '产品_核心产品', 'start': 25, 'end': 27, 'span': '精华'}, {'type': '功能功效', 'start': 27, 'end': 29, 'span': '控油'}, {'type': '功能功效', 'start': 29, 'end': 31, 'span': '提亮'}, {'type': '功能功效', 'start': 31, 'end': 33, 'span': '焕白'}]\n"
          ]
        },
        {
          "output_type": "stream",
          "name": "stderr",
          "text": [
            "/usr/local/lib/python3.10/dist-packages/transformers/modeling_utils.py:884: FutureWarning: The `device` argument is deprecated and will be removed in v5 of Transformers.\n",
            "  warnings.warn(\n"
          ]
        },
        {
          "output_type": "stream",
          "name": "stdout",
          "text": [
            "[{'type': '尺寸规格_售卖规格', 'start': 10, 'end': 14, 'span': '任选3件'}, {'type': '品牌', 'start': 21, 'end': 23, 'span': '夸迪'}, {'type': '产品_核心产品', 'start': 23, 'end': 25, 'span': '精华'}, {'type': '产品_核心产品', 'start': 25, 'end': 27, 'span': '面膜'}, {'type': '产品_核心产品', 'start': 27, 'end': 29, 'span': '面霜'}, {'type': '产品_核心产品', 'start': 29, 'end': 32, 'span': '体验礼'}]\n"
          ]
        },
        {
          "output_type": "stream",
          "name": "stderr",
          "text": [
            "/usr/local/lib/python3.10/dist-packages/transformers/modeling_utils.py:884: FutureWarning: The `device` argument is deprecated and will be removed in v5 of Transformers.\n",
            "  warnings.warn(\n"
          ]
        },
        {
          "output_type": "stream",
          "name": "stdout",
          "text": [
            "[{'type': '品牌', 'start': 6, 'end': 10, 'span': '华熙生物'}, {'type': '尺寸规格_售卖规格', 'start': 18, 'end': 21, 'span': '10支'}, {'type': '产品_修饰产品', 'start': 21, 'end': 25, 'span': '玻尿酸钠'}, {'type': '修饰_产品属性', 'start': 25, 'end': 27, 'span': '次抛'}, {'type': '产品_核心产品', 'start': 27, 'end': 30, 'span': '精华液'}]\n"
          ]
        },
        {
          "output_type": "stream",
          "name": "stderr",
          "text": [
            "/usr/local/lib/python3.10/dist-packages/transformers/modeling_utils.py:884: FutureWarning: The `device` argument is deprecated and will be removed in v5 of Transformers.\n",
            "  warnings.warn(\n"
          ]
        },
        {
          "output_type": "stream",
          "name": "stdout",
          "text": [
            "[{'type': '品牌', 'start': 0, 'end': 3, 'span': '珀莱雅'}, {'type': '款式_其他', 'start': 3, 'end': 6, 'span': '双白瓶'}, {'type': '产品_核心产品', 'start': 6, 'end': 8, 'span': '精华'}, {'type': '功能功效', 'start': 8, 'end': 10, 'span': '美白'}, {'type': '功能功效', 'start': 10, 'end': 12, 'span': '淡斑'}, {'type': '功能功效', 'start': 12, 'end': 16, 'span': '淡化痘印'}, {'type': '功能功效', 'start': 16, 'end': 18, 'span': '提亮'}]\n"
          ]
        },
        {
          "output_type": "stream",
          "name": "stderr",
          "text": [
            "/usr/local/lib/python3.10/dist-packages/transformers/modeling_utils.py:884: FutureWarning: The `device` argument is deprecated and will be removed in v5 of Transformers.\n",
            "  warnings.warn(\n"
          ]
        },
        {
          "output_type": "stream",
          "name": "stdout",
          "text": [
            "[{'type': '品牌', 'start': 6, 'end': 10, 'span': '修丽可色'}, {'type': '适用范围_其他', 'start': 11, 'end': 13, 'span': '面部'}, {'type': '产品_核心产品', 'start': 13, 'end': 15, 'span': '精华'}, {'type': '系列', 'start': 16, 'end': 18, 'span': '植萃'}, {'type': '功能功效', 'start': 18, 'end': 22, 'span': '舒缓泛红'}, {'type': '功能功效', 'start': 22, 'end': 26, 'span': '提亮肤色'}, {'type': '功能功效', 'start': 26, 'end': 28, 'span': '保湿'}]\n"
          ]
        },
        {
          "output_type": "stream",
          "name": "stderr",
          "text": [
            "/usr/local/lib/python3.10/dist-packages/transformers/modeling_utils.py:884: FutureWarning: The `device` argument is deprecated and will be removed in v5 of Transformers.\n",
            "  warnings.warn(\n"
          ]
        },
        {
          "output_type": "stream",
          "name": "stdout",
          "text": [
            "[{'type': '适用范围_适用场景', 'start': 1, 'end': 4, 'span': '618'}, {'type': '品牌', 'start': 7, 'end': 11, 'span': 'Dior'}, {'type': '品牌', 'start': 11, 'end': 13, 'span': '迪奥'}, {'type': '系列', 'start': 13, 'end': 22, 'span': '花秘瑰萃玫瑰微凝珠'}, {'type': '产品_核心产品', 'start': 22, 'end': 25, 'span': '精华水'}, {'type': '产品_核心产品', 'start': 25, 'end': 28, 'span': '气泡水'}, {'type': '功能功效', 'start': 29, 'end': 31, 'span': '保湿'}]\n"
          ]
        },
        {
          "output_type": "stream",
          "name": "stderr",
          "text": [
            "/usr/local/lib/python3.10/dist-packages/transformers/modeling_utils.py:884: FutureWarning: The `device` argument is deprecated and will be removed in v5 of Transformers.\n",
            "  warnings.warn(\n"
          ]
        },
        {
          "output_type": "stream",
          "name": "stdout",
          "text": [
            "[{'type': '品牌', 'start': 7, 'end': 10, 'span': '莱珀妮'}, {'type': '款式_其他', 'start': 10, 'end': 12, 'span': '铂金'}, {'type': '适用范围_适用场景', 'start': 12, 'end': 14, 'span': '夜间'}, {'type': '产品_核心产品', 'start': 14, 'end': 17, 'span': '精华露'}, {'type': '适用范围_适用场景', 'start': 18, 'end': 20, 'span': '夜间'}, {'type': '功能功效', 'start': 20, 'end': 22, 'span': '焕活'}, {'type': '产品_核心产品', 'start': 22, 'end': 24, 'span': '精华'}, {'type': '功能功效', 'start': 25, 'end': 27, 'span': '紧致'}]\n"
          ]
        },
        {
          "output_type": "stream",
          "name": "stderr",
          "text": [
            "/usr/local/lib/python3.10/dist-packages/transformers/modeling_utils.py:884: FutureWarning: The `device` argument is deprecated and will be removed in v5 of Transformers.\n",
            "  warnings.warn(\n"
          ]
        },
        {
          "output_type": "stream",
          "name": "stdout",
          "text": [
            "[{'type': '适用范围_适用场景', 'start': 1, 'end': 4, 'span': '618'}, {'type': '品牌', 'start': 9, 'end': 15, 'span': 'freiol'}, {'type': '品牌', 'start': 15, 'end': 17, 'span': '福来'}, {'type': '适用范围_其他', 'start': 17, 'end': 19, 'span': '面部'}, {'type': '产品_核心产品', 'start': 19, 'end': 22, 'span': '精华油'}, {'type': '适用范围_适用场景', 'start': 22, 'end': 24, 'span': '刮痧'}, {'type': '产品_核心产品', 'start': 24, 'end': 26, 'span': '精油'}, {'type': '地点地域_产地', 'start': 26, 'end': 28, 'span': '德国'}, {'type': '品牌', 'start': 28, 'end': 30, 'span': '倍润'}, {'type': '系列', 'start': 30, 'end': 32, 'span': '福来'}, {'type': '产品_核心产品', 'start': 32, 'end': 34, 'span': '精油'}]\n"
          ]
        },
        {
          "output_type": "stream",
          "name": "stderr",
          "text": [
            "/usr/local/lib/python3.10/dist-packages/transformers/modeling_utils.py:884: FutureWarning: The `device` argument is deprecated and will be removed in v5 of Transformers.\n",
            "  warnings.warn(\n"
          ]
        },
        {
          "output_type": "stream",
          "name": "stdout",
          "text": [
            "[{'type': '适用范围_适用场景', 'start': 1, 'end': 4, 'span': '618'}, {'type': '品牌', 'start': 8, 'end': 11, 'span': '科颜氏'}, {'type': '系列', 'start': 11, 'end': 14, 'span': '安白瓶'}, {'type': '功能功效', 'start': 14, 'end': 16, 'span': '淡斑'}, {'type': '产品_核心产品', 'start': 16, 'end': 19, 'span': '精华液'}, {'type': '功能功效', 'start': 19, 'end': 23, 'span': '淡化痘印'}, {'type': '功能功效', 'start': 25, 'end': 27, 'span': '抗氧'}, {'type': '功能功效', 'start': 27, 'end': 29, 'span': '美白'}, {'type': '功能功效', 'start': 33, 'end': 35, 'span': '抗老'}]\n"
          ]
        },
        {
          "output_type": "stream",
          "name": "stderr",
          "text": [
            "/usr/local/lib/python3.10/dist-packages/transformers/modeling_utils.py:884: FutureWarning: The `device` argument is deprecated and will be removed in v5 of Transformers.\n",
            "  warnings.warn(\n"
          ]
        },
        {
          "output_type": "stream",
          "name": "stdout",
          "text": [
            "[{'type': '品牌', 'start': 9, 'end': 12, 'span': '薇诺娜'}, {'type': '功能功效', 'start': 12, 'end': 14, 'span': '舒缓'}, {'type': '功能功效', 'start': 14, 'end': 16, 'span': '保湿'}, {'type': '修饰_产品属性', 'start': 16, 'end': 18, 'span': '特护'}, {'type': '产品_核心产品', 'start': 18, 'end': 20, 'span': '精华'}, {'type': '适用范围_适用人群', 'start': 21, 'end': 25, 'span': '敏感肌肤'}, {'type': '功能功效', 'start': 25, 'end': 27, 'span': '舒缓'}, {'type': '功能功效', 'start': 27, 'end': 29, 'span': '修护'}]\n"
          ]
        },
        {
          "output_type": "stream",
          "name": "stderr",
          "text": [
            "/usr/local/lib/python3.10/dist-packages/transformers/modeling_utils.py:884: FutureWarning: The `device` argument is deprecated and will be removed in v5 of Transformers.\n",
            "  warnings.warn(\n"
          ]
        },
        {
          "output_type": "stream",
          "name": "stdout",
          "text": [
            "[{'type': '品牌', 'start': 0, 'end': 4, 'span': '至本特安'}, {'type': '功能功效', 'start': 4, 'end': 6, 'span': '修护'}, {'type': '产品_核心产品', 'start': 6, 'end': 9, 'span': '肌底液'}, {'type': '尺寸规格_重量', 'start': 9, 'end': 13, 'span': '50ml'}, {'type': '修饰_产品属性', 'start': 13, 'end': 15, 'span': '即效'}, {'type': '功能功效', 'start': 15, 'end': 19, 'span': '舒缓褪红'}, {'type': '功能功效', 'start': 19, 'end': 23, 'span': '强韧屏障'}, {'type': '功能功效', 'start': 23, 'end': 25, 'span': '保湿'}, {'type': '功能功效', 'start': 25, 'end': 27, 'span': '补水'}, {'type': '适用范围_其他', 'start': 27, 'end': 29, 'span': '面部'}, {'type': '产品_核心产品', 'start': 29, 'end': 32, 'span': '精华液'}]\n"
          ]
        },
        {
          "output_type": "stream",
          "name": "stderr",
          "text": [
            "/usr/local/lib/python3.10/dist-packages/transformers/modeling_utils.py:884: FutureWarning: The `device` argument is deprecated and will be removed in v5 of Transformers.\n",
            "  warnings.warn(\n"
          ]
        },
        {
          "output_type": "stream",
          "name": "stdout",
          "text": [
            "[{'type': '品牌', 'start': 0, 'end': 4, 'span': 'NING'}, {'type': '功能功效', 'start': 4, 'end': 6, 'span': '美白'}, {'type': '产品_核心产品', 'start': 6, 'end': 8, 'span': '精华'}, {'type': '修饰_产品属性', 'start': 8, 'end': 11, 'span': '烟酰胺'}, {'type': '产品_核心产品', 'start': 11, 'end': 13, 'span': '原液'}, {'type': '适用范围_其他', 'start': 13, 'end': 15, 'span': '面部'}, {'type': '功能功效', 'start': 15, 'end': 17, 'span': '提亮'}, {'type': '功能功效', 'start': 17, 'end': 19, 'span': '去黄'}, {'type': '功能功效', 'start': 19, 'end': 25, 'span': '改善暗沉肤色'}, {'type': '功能功效', 'start': 25, 'end': 27, 'span': '补水'}, {'type': '功能功效', 'start': 27, 'end': 29, 'span': '淡斑'}, {'type': '产品_核心产品', 'start': 29, 'end': 32, 'span': '精华液'}]\n"
          ]
        },
        {
          "output_type": "stream",
          "name": "stderr",
          "text": [
            "/usr/local/lib/python3.10/dist-packages/transformers/modeling_utils.py:884: FutureWarning: The `device` argument is deprecated and will be removed in v5 of Transformers.\n",
            "  warnings.warn(\n"
          ]
        },
        {
          "output_type": "stream",
          "name": "stdout",
          "text": [
            "[{'type': '品牌', 'start': 0, 'end': 2, 'span': '仙瑟'}, {'type': '产品_核心产品', 'start': 6, 'end': 9, 'span': '精华液'}, {'type': '修饰_产品属性', 'start': 15, 'end': 17, 'span': '晶透'}, {'type': '功能功效', 'start': 17, 'end': 19, 'span': '美肌'}, {'type': '适用范围_适用人群', 'start': 19, 'end': 22, 'span': '敏感肌'}, {'type': '功能功效', 'start': 22, 'end': 24, 'span': '舒缓'}, {'type': '功能功效', 'start': 24, 'end': 28, 'span': '保湿肌肤'}]\n"
          ]
        },
        {
          "output_type": "stream",
          "name": "stderr",
          "text": [
            "/usr/local/lib/python3.10/dist-packages/transformers/modeling_utils.py:884: FutureWarning: The `device` argument is deprecated and will be removed in v5 of Transformers.\n",
            "  warnings.warn(\n"
          ]
        },
        {
          "output_type": "stream",
          "name": "stdout",
          "text": [
            "[{'type': '适用范围_适用场景', 'start': 1, 'end': 4, 'span': '618'}, {'type': '品牌', 'start': 7, 'end': 10, 'span': '科颜氏'}, {'type': '修饰_产品属性', 'start': 10, 'end': 12, 'span': 'A醇'}, {'type': '产品_核心产品', 'start': 12, 'end': 15, 'span': '精华乳'}, {'type': '功能功效', 'start': 15, 'end': 17, 'span': '抗老'}, {'type': '功能功效', 'start': 17, 'end': 19, 'span': '淡纹'}, {'type': '功能功效', 'start': 19, 'end': 21, 'span': '紧致'}, {'type': '功能功效', 'start': 21, 'end': 23, 'span': '抗皱'}, {'type': '功能功效', 'start': 26, 'end': 28, 'span': '护肤'}]\n"
          ]
        },
        {
          "output_type": "stream",
          "name": "stderr",
          "text": [
            "/usr/local/lib/python3.10/dist-packages/transformers/modeling_utils.py:884: FutureWarning: The `device` argument is deprecated and will be removed in v5 of Transformers.\n",
            "  warnings.warn(\n"
          ]
        },
        {
          "output_type": "stream",
          "name": "stdout",
          "text": [
            "[{'type': '适用范围_适用场景', 'start': 1, 'end': 4, 'span': '618'}, {'type': '品牌', 'start': 9, 'end': 12, 'span': '雪花秀'}, {'type': '修饰_产品属性', 'start': 12, 'end': 14, 'span': '参养'}, {'type': '产品_核心产品', 'start': 14, 'end': 16, 'span': '精华'}, {'type': '尺寸规格_重量', 'start': 16, 'end': 20, 'span': '30ml'}, {'type': '适用范围_其他', 'start': 20, 'end': 22, 'span': '面部'}, {'type': '产品_核心产品', 'start': 22, 'end': 24, 'span': '精华'}, {'type': '功能功效', 'start': 24, 'end': 26, 'span': '淡纹'}, {'type': '功能功效', 'start': 26, 'end': 28, 'span': '提拉'}, {'type': '功能功效', 'start': 28, 'end': 30, 'span': '紧致'}, {'type': '功能功效', 'start': 30, 'end': 32, 'span': '修护'}]\n"
          ]
        },
        {
          "output_type": "stream",
          "name": "stderr",
          "text": [
            "/usr/local/lib/python3.10/dist-packages/transformers/modeling_utils.py:884: FutureWarning: The `device` argument is deprecated and will be removed in v5 of Transformers.\n",
            "  warnings.warn(\n"
          ]
        },
        {
          "output_type": "stream",
          "name": "stdout",
          "text": [
            "[{'type': '适用范围_适用场景', 'start': 1, 'end': 4, 'span': '618'}, {'type': '品牌', 'start': 9, 'end': 12, 'span': '欧莱雅'}, {'type': '系列', 'start': 12, 'end': 16, 'span': '金致臻颜'}, {'type': '系列', 'start': 16, 'end': 18, 'span': '松露'}, {'type': '颜色_色彩', 'start': 18, 'end': 20, 'span': '黑金'}, {'type': '产品_核心产品', 'start': 20, 'end': 22, 'span': '精华'}, {'type': '颜色_色彩', 'start': 22, 'end': 24, 'span': '玻色'}, {'type': '功能功效', 'start': 25, 'end': 27, 'span': '紧致'}, {'type': '功能功效', 'start': 27, 'end': 29, 'span': '抗皱'}, {'type': '功能功效', 'start': 29, 'end': 31, 'span': '保湿'}]\n"
          ]
        },
        {
          "output_type": "stream",
          "name": "stderr",
          "text": [
            "/usr/local/lib/python3.10/dist-packages/transformers/modeling_utils.py:884: FutureWarning: The `device` argument is deprecated and will be removed in v5 of Transformers.\n",
            "  warnings.warn(\n"
          ]
        },
        {
          "output_type": "stream",
          "name": "stdout",
          "text": [
            "[{'type': '品牌', 'start': 0, 'end': 2, 'span': 'vc'}, {'type': '修饰_产品属性', 'start': 2, 'end': 4, 'span': '次抛'}, {'type': '产品_核心产品', 'start': 4, 'end': 7, 'span': '精华液'}, {'type': '尺寸规格_售卖规格', 'start': 11, 'end': 13, 'span': '组合'}, {'type': '修饰_产品属性', 'start': 13, 'end': 15, 'span': 'a醇'}, {'type': '功能功效', 'start': 16, 'end': 18, 'span': '美白'}, {'type': '功能功效', 'start': 18, 'end': 20, 'span': '抗皱'}, {'type': '适用范围_其他', 'start': 20, 'end': 22, 'span': '衰老'}, {'type': '适用范围_其他', 'start': 22, 'end': 24, 'span': '氧化'}, {'type': '适用范围_其他', 'start': 24, 'end': 26, 'span': '初老'}, {'type': '适用范围_其他', 'start': 26, 'end': 28, 'span': '面部'}, {'type': '功能功效', 'start': 28, 'end': 30, 'span': '去黄'}, {'type': '功能功效', 'start': 30, 'end': 32, 'span': '提亮'}]\n"
          ]
        },
        {
          "output_type": "stream",
          "name": "stderr",
          "text": [
            "/usr/local/lib/python3.10/dist-packages/transformers/modeling_utils.py:884: FutureWarning: The `device` argument is deprecated and will be removed in v5 of Transformers.\n",
            "  warnings.warn(\n"
          ]
        },
        {
          "output_type": "stream",
          "name": "stdout",
          "text": [
            "[{'type': '适用范围_适用场景', 'start': 1, 'end': 4, 'span': '618'}, {'type': '品牌', 'start': 7, 'end': 11, 'span': '宝拉珍选'}, {'type': '尺寸规格_指标参数', 'start': 11, 'end': 16, 'span': '2%水杨酸'}, {'type': '产品_核心产品', 'start': 16, 'end': 19, 'span': '精华液'}, {'type': '功能功效', 'start': 19, 'end': 23, 'span': '改善黑头'}, {'type': '功能功效', 'start': 23, 'end': 25, 'span': '闭口'}, {'type': '功能功效', 'start': 25, 'end': 29, 'span': '收缩毛孔'}, {'type': '功能功效', 'start': 29, 'end': 31, 'span': '祛痘'}]\n"
          ]
        },
        {
          "output_type": "stream",
          "name": "stderr",
          "text": [
            "/usr/local/lib/python3.10/dist-packages/transformers/modeling_utils.py:884: FutureWarning: The `device` argument is deprecated and will be removed in v5 of Transformers.\n",
            "  warnings.warn(\n"
          ]
        },
        {
          "output_type": "stream",
          "name": "stdout",
          "text": [
            "[{'type': '品牌', 'start': 6, 'end': 11, 'span': 'OBAGI'}, {'type': '品牌', 'start': 11, 'end': 14, 'span': '欧邦琪'}, {'type': '功能功效', 'start': 14, 'end': 16, 'span': '亮白'}, {'type': '功能功效', 'start': 16, 'end': 18, 'span': '淡斑'}, {'type': '产品_核心产品', 'start': 18, 'end': 20, 'span': '精华'}, {'type': '尺寸规格_售卖规格', 'start': 20, 'end': 26, 'span': '410小白瓶'}, {'type': '产品_修饰产品', 'start': 26, 'end': 29, 'span': '熊果苷'}, {'type': '修饰_产品属性', 'start': 29, 'end': 31, 'span': '源头'}, {'type': '功能功效', 'start': 31, 'end': 33, 'span': '抑黑'}]\n"
          ]
        },
        {
          "output_type": "stream",
          "name": "stderr",
          "text": [
            "/usr/local/lib/python3.10/dist-packages/transformers/modeling_utils.py:884: FutureWarning: The `device` argument is deprecated and will be removed in v5 of Transformers.\n",
            "  warnings.warn(\n"
          ]
        },
        {
          "output_type": "stream",
          "name": "stdout",
          "text": [
            "[{'type': '品牌', 'start': 0, 'end': 2, 'span': '至本'}, {'type': '产品_核心产品', 'start': 6, 'end': 9, 'span': '精华露'}, {'type': '尺寸规格_重量', 'start': 9, 'end': 13, 'span': '50ml'}, {'type': '功能功效', 'start': 13, 'end': 15, 'span': '紧致'}, {'type': '功能功效', 'start': 15, 'end': 17, 'span': '抗皱'}, {'type': '功能功效', 'start': 17, 'end': 19, 'span': '淡纹'}, {'type': '修饰_产品属性', 'start': 19, 'end': 23, 'span': '水光焕采'}, {'type': '功能功效', 'start': 23, 'end': 25, 'span': '抗氧'}, {'type': '功能功效', 'start': 25, 'end': 27, 'span': '抗糖'}, {'type': '适用范围_其他', 'start': 27, 'end': 29, 'span': '面部'}, {'type': '产品_核心产品', 'start': 29, 'end': 32, 'span': '精华液'}]\n"
          ]
        },
        {
          "output_type": "stream",
          "name": "stderr",
          "text": [
            "/usr/local/lib/python3.10/dist-packages/transformers/modeling_utils.py:884: FutureWarning: The `device` argument is deprecated and will be removed in v5 of Transformers.\n",
            "  warnings.warn(\n"
          ]
        },
        {
          "output_type": "stream",
          "name": "stdout",
          "text": [
            "[{'type': '适用范围_适用场景', 'start': 1, 'end': 4, 'span': '618'}, {'type': '品牌', 'start': 7, 'end': 10, 'span': '欧诗漫'}, {'type': '系列', 'start': 10, 'end': 13, 'span': '小白灯'}, {'type': '功能功效', 'start': 13, 'end': 15, 'span': '美白'}, {'type': '功能功效', 'start': 15, 'end': 17, 'span': '淡斑'}, {'type': '适用范围_其他', 'start': 17, 'end': 19, 'span': '面部'}, {'type': '产品_核心产品', 'start': 19, 'end': 22, 'span': '精华液'}, {'type': '功能功效', 'start': 22, 'end': 26, 'span': '提亮肤色'}, {'type': '修饰_产品属性', 'start': 26, 'end': 29, 'span': '烟酰胺'}]\n"
          ]
        },
        {
          "output_type": "stream",
          "name": "stderr",
          "text": [
            "/usr/local/lib/python3.10/dist-packages/transformers/modeling_utils.py:884: FutureWarning: The `device` argument is deprecated and will be removed in v5 of Transformers.\n",
            "  warnings.warn(\n"
          ]
        },
        {
          "output_type": "stream",
          "name": "stdout",
          "text": [
            "[{'type': '品牌', 'start': 0, 'end': 4, 'span': '植物医生'}, {'type': '适用范围_适用场景', 'start': 4, 'end': 7, 'span': '旗舰店'}, {'type': '系列', 'start': 7, 'end': 10, 'span': '积雪草'}, {'type': '功能功效', 'start': 10, 'end': 12, 'span': '舒缓'}, {'type': '修饰_产品属性', 'start': 12, 'end': 14, 'span': '特护'}, {'type': '产品_核心产品', 'start': 14, 'end': 17, 'span': '精华液'}, {'type': '功能功效', 'start': 17, 'end': 21, 'span': '密集修护'}, {'type': '功能功效', 'start': 21, 'end': 23, 'span': '滋润'}, {'type': '功能功效', 'start': 23, 'end': 25, 'span': '保湿'}, {'type': '修饰_产品属性', 'start': 27, 'end': 29, 'span': '正品'}, {'type': '适用范围_适用对象', 'start': 29, 'end': 30, 'span': '女'}]\n"
          ]
        },
        {
          "output_type": "stream",
          "name": "stderr",
          "text": [
            "/usr/local/lib/python3.10/dist-packages/transformers/modeling_utils.py:884: FutureWarning: The `device` argument is deprecated and will be removed in v5 of Transformers.\n",
            "  warnings.warn(\n"
          ]
        },
        {
          "output_type": "stream",
          "name": "stdout",
          "text": [
            "[{'type': '品牌', 'start': 9, 'end': 12, 'span': '修丽可'}, {'type': '修饰_产品属性', 'start': 12, 'end': 17, 'span': '维生素B5'}, {'type': '修饰_产品属性', 'start': 17, 'end': 21, 'span': '透明质酸'}, {'type': '功能功效', 'start': 22, 'end': 24, 'span': '补水'}, {'type': '功能功效', 'start': 24, 'end': 26, 'span': '保湿'}, {'type': '产品_核心产品', 'start': 26, 'end': 29, 'span': '精华液'}]\n"
          ]
        },
        {
          "output_type": "stream",
          "name": "stderr",
          "text": [
            "/usr/local/lib/python3.10/dist-packages/transformers/modeling_utils.py:884: FutureWarning: The `device` argument is deprecated and will be removed in v5 of Transformers.\n",
            "  warnings.warn(\n"
          ]
        },
        {
          "output_type": "stream",
          "name": "stdout",
          "text": [
            "[{'type': '适用范围_适用场景', 'start': 1, 'end': 4, 'span': '直播间'}, {'type': '品牌', 'start': 7, 'end': 9, 'span': '倩碧'}, {'type': '型号', 'start': 9, 'end': 12, 'span': '302'}, {'type': '款式_其他', 'start': 12, 'end': 15, 'span': '镭射瓶'}, {'type': '功能功效', 'start': 15, 'end': 17, 'span': '美白'}, {'type': '产品_核心产品', 'start': 17, 'end': 20, 'span': '精华液'}, {'type': '适用范围_其他', 'start': 21, 'end': 23, 'span': '面部'}, {'type': '功能功效', 'start': 23, 'end': 25, 'span': '淡斑'}, {'type': '功能功效', 'start': 25, 'end': 28, 'span': '淡痘印'}, {'type': '适用范围_适用人群', 'start': 28, 'end': 31, 'span': '敏感肌'}]\n"
          ]
        },
        {
          "output_type": "stream",
          "name": "stderr",
          "text": [
            "/usr/local/lib/python3.10/dist-packages/transformers/modeling_utils.py:884: FutureWarning: The `device` argument is deprecated and will be removed in v5 of Transformers.\n",
            "  warnings.warn(\n"
          ]
        },
        {
          "output_type": "stream",
          "name": "stdout",
          "text": [
            "[{'type': '适用范围_适用场景', 'start': 1, 'end': 4, 'span': '618'}, {'type': '品牌', 'start': 9, 'end': 12, 'span': '欧莱雅'}, {'type': '产品_核心产品', 'start': 12, 'end': 15, 'span': '夜精华'}, {'type': '修饰_产品属性', 'start': 15, 'end': 17, 'span': 'A醇'}, {'type': '产品_核心产品', 'start': 17, 'end': 20, 'span': '精华液'}, {'type': '功能功效', 'start': 20, 'end': 22, 'span': '抗皱'}, {'type': '功能功效', 'start': 22, 'end': 24, 'span': '提拉'}, {'type': '功能功效', 'start': 24, 'end': 26, 'span': '紧致'}, {'type': '功能功效', 'start': 26, 'end': 28, 'span': '补水'}, {'type': '功能功效', 'start': 28, 'end': 30, 'span': '保湿'}, {'type': '功能功效', 'start': 30, 'end': 32, 'span': '护肤'}]\n"
          ]
        },
        {
          "output_type": "stream",
          "name": "stderr",
          "text": [
            "/usr/local/lib/python3.10/dist-packages/transformers/modeling_utils.py:884: FutureWarning: The `device` argument is deprecated and will be removed in v5 of Transformers.\n",
            "  warnings.warn(\n"
          ]
        },
        {
          "output_type": "stream",
          "name": "stdout",
          "text": [
            "[{'type': '功能功效', 'start': 8, 'end': 10, 'span': '美白'}, {'type': '功能功效', 'start': 10, 'end': 12, 'span': '淡斑'}, {'type': '产品_核心产品', 'start': 12, 'end': 15, 'span': '精华液'}, {'type': '功能功效', 'start': 15, 'end': 20, 'span': '分解黑色素'}, {'type': '功能功效', 'start': 20, 'end': 22, 'span': '提亮'}, {'type': '功能功效', 'start': 22, 'end': 24, 'span': '去黄'}, {'type': '功能功效', 'start': 24, 'end': 30, 'span': '改善暗沉肤色'}]\n"
          ]
        },
        {
          "output_type": "stream",
          "name": "stderr",
          "text": [
            "/usr/local/lib/python3.10/dist-packages/transformers/modeling_utils.py:884: FutureWarning: The `device` argument is deprecated and will be removed in v5 of Transformers.\n",
            "  warnings.warn(\n"
          ]
        },
        {
          "output_type": "stream",
          "name": "stdout",
          "text": [
            "[{'type': '品牌', 'start': 7, 'end': 9, 'span': '兰蔻'}, {'type': '系列', 'start': 9, 'end': 12, 'span': '小黑瓶'}, {'type': '适用范围_其他', 'start': 12, 'end': 14, 'span': '面部'}, {'type': '产品_核心产品', 'start': 14, 'end': 16, 'span': '精华'}, {'type': '产品_核心产品', 'start': 16, 'end': 19, 'span': '肌底液'}, {'type': '尺寸规格_重量', 'start': 19, 'end': 24, 'span': '115ml'}, {'type': '功能功效', 'start': 26, 'end': 28, 'span': '维稳'}, {'type': '功能功效', 'start': 28, 'end': 30, 'span': '修护'}, {'type': '功能功效', 'start': 30, 'end': 32, 'span': '细嫩'}]\n"
          ]
        },
        {
          "output_type": "stream",
          "name": "stderr",
          "text": [
            "/usr/local/lib/python3.10/dist-packages/transformers/modeling_utils.py:884: FutureWarning: The `device` argument is deprecated and will be removed in v5 of Transformers.\n",
            "  warnings.warn(\n"
          ]
        },
        {
          "output_type": "stream",
          "name": "stdout",
          "text": [
            "[{'type': '适用范围_适用场景', 'start': 1, 'end': 4, 'span': '618'}, {'type': '品牌', 'start': 7, 'end': 10, 'span': '珀莱雅'}, {'type': '修饰_产品属性', 'start': 10, 'end': 12, 'span': '能量'}, {'type': '产品_核心产品', 'start': 12, 'end': 15, 'span': '精华油'}, {'type': '适用范围_其他', 'start': 15, 'end': 17, 'span': '面部'}, {'type': '功能功效', 'start': 17, 'end': 19, 'span': '护肤'}, {'type': '产品_核心产品', 'start': 19, 'end': 20, 'span': '油'}, {'type': '功能功效', 'start': 20, 'end': 22, 'span': '抗皱'}, {'type': '功能功效', 'start': 22, 'end': 24, 'span': '滋养'}, {'type': '功能功效', 'start': 24, 'end': 26, 'span': '以油'}, {'type': '功能功效', 'start': 26, 'end': 28, 'span': '养肤'}]\n"
          ]
        },
        {
          "output_type": "stream",
          "name": "stderr",
          "text": [
            "/usr/local/lib/python3.10/dist-packages/transformers/modeling_utils.py:884: FutureWarning: The `device` argument is deprecated and will be removed in v5 of Transformers.\n",
            "  warnings.warn(\n"
          ]
        },
        {
          "output_type": "stream",
          "name": "stdout",
          "text": [
            "[{'type': '适用范围_适用场景', 'start': 1, 'end': 5, 'span': '5周年庆'}, {'type': '品牌', 'start': 6, 'end': 12, 'span': '华熙生物夸迪'}, {'type': '修饰_产品属性', 'start': 12, 'end': 17, 'span': '5D玻尿酸'}, {'type': '修饰_产品属性', 'start': 17, 'end': 19, 'span': '悬油'}, {'type': '修饰_产品属性', 'start': 19, 'end': 21, 'span': '次抛'}, {'type': '功能功效', 'start': 21, 'end': 23, 'span': '屏障'}, {'type': '功能功效', 'start': 23, 'end': 25, 'span': '修护'}, {'type': '功能功效', 'start': 25, 'end': 27, 'span': '舒缓'}, {'type': '产品_核心产品', 'start': 27, 'end': 30, 'span': '精华液'}]\n"
          ]
        },
        {
          "output_type": "stream",
          "name": "stderr",
          "text": [
            "/usr/local/lib/python3.10/dist-packages/transformers/modeling_utils.py:884: FutureWarning: The `device` argument is deprecated and will be removed in v5 of Transformers.\n",
            "  warnings.warn(\n"
          ]
        },
        {
          "output_type": "stream",
          "name": "stdout",
          "text": [
            "[{'type': '适用范围_适用场景', 'start': 1, 'end': 4, 'span': '618'}, {'type': '品牌', 'start': 9, 'end': 12, 'span': '欧莱雅'}, {'type': '系列', 'start': 12, 'end': 14, 'span': '逆时'}, {'type': '产品_核心产品', 'start': 14, 'end': 16, 'span': '精华'}, {'type': '修饰_产品属性', 'start': 16, 'end': 18, 'span': 'A醇'}, {'type': '产品_核心产品', 'start': 18, 'end': 21, 'span': '精华液'}, {'type': '功能功效', 'start': 21, 'end': 23, 'span': '抗皱'}, {'type': '功能功效', 'start': 23, 'end': 25, 'span': '紧致'}, {'type': '功能功效', 'start': 25, 'end': 27, 'span': '抗老'}, {'type': '功能功效', 'start': 27, 'end': 29, 'span': '保湿'}, {'type': '功能功效', 'start': 29, 'end': 31, 'span': '淡纹'}]\n"
          ]
        },
        {
          "output_type": "stream",
          "name": "stderr",
          "text": [
            "/usr/local/lib/python3.10/dist-packages/transformers/modeling_utils.py:884: FutureWarning: The `device` argument is deprecated and will be removed in v5 of Transformers.\n",
            "  warnings.warn(\n"
          ]
        },
        {
          "output_type": "stream",
          "name": "stdout",
          "text": [
            "[{'type': '适用范围_适用场景', 'start': 1, 'end': 4, 'span': '618'}, {'type': '品牌', 'start': 9, 'end': 24, 'span': 'FanBeauty Diary'}, {'type': '人名_真实人名', 'start': 24, 'end': 27, 'span': '范冰冰'}, {'type': '系列', 'start': 29, 'end': 31, 'span': '贻贝'}, {'type': '款式_其他', 'start': 31, 'end': 33, 'span': '安瓶'}, {'type': '修饰_产品属性', 'start': 33, 'end': 35, 'span': '冻干'}, {'type': '产品_核心产品', 'start': 35, 'end': 38, 'span': '精华液'}]\n"
          ]
        },
        {
          "output_type": "stream",
          "name": "stderr",
          "text": [
            "/usr/local/lib/python3.10/dist-packages/transformers/modeling_utils.py:884: FutureWarning: The `device` argument is deprecated and will be removed in v5 of Transformers.\n",
            "  warnings.warn(\n"
          ]
        },
        {
          "output_type": "stream",
          "name": "stdout",
          "text": [
            "[{'type': '品牌', 'start': 0, 'end': 2, 'span': '青木'}, {'type': '修饰_产品属性', 'start': 2, 'end': 5, 'span': '冻干粉'}, {'type': '适用范围_适用场景', 'start': 5, 'end': 7, 'span': '睡眠'}, {'type': '产品_核心产品', 'start': 7, 'end': 9, 'span': '面膜'}, {'type': '修饰_产品属性', 'start': 9, 'end': 11, 'span': '免洗'}, {'type': '适用范围_适用场景', 'start': 11, 'end': 14, 'span': '旗舰店'}, {'type': '修饰_产品属性', 'start': 16, 'end': 18, 'span': '正品'}, {'type': '产品_核心产品', 'start': 18, 'end': 20, 'span': '精华'}, {'type': '功能功效', 'start': 20, 'end': 22, 'span': '补水'}, {'type': '功能功效', 'start': 22, 'end': 24, 'span': '保湿'}, {'type': '适用范围_适用场景', 'start': 24, 'end': 26, 'span': '夜间'}, {'type': '款式_其他', 'start': 26, 'end': 29, 'span': '涂抹式'}]\n"
          ]
        },
        {
          "output_type": "stream",
          "name": "stderr",
          "text": [
            "/usr/local/lib/python3.10/dist-packages/transformers/modeling_utils.py:884: FutureWarning: The `device` argument is deprecated and will be removed in v5 of Transformers.\n",
            "  warnings.warn(\n"
          ]
        },
        {
          "output_type": "stream",
          "name": "stdout",
          "text": [
            "[{'type': '品牌', 'start': 6, 'end': 12, 'span': 'takami'}, {'type': '系列', 'start': 12, 'end': 15, 'span': '小蓝瓶'}, {'type': '功能功效', 'start': 15, 'end': 17, 'span': '祛痘'}, {'type': '产品_核心产品', 'start': 17, 'end': 20, 'span': '精华液'}, {'type': '功能功效', 'start': 20, 'end': 24, 'span': '角质养护'}, {'type': '功能功效', 'start': 24, 'end': 27, 'span': '去闭口'}, {'type': '功能功效', 'start': 27, 'end': 31, 'span': '收缩毛孔'}]\n"
          ]
        },
        {
          "output_type": "stream",
          "name": "stderr",
          "text": [
            "/usr/local/lib/python3.10/dist-packages/transformers/modeling_utils.py:884: FutureWarning: The `device` argument is deprecated and will be removed in v5 of Transformers.\n",
            "  warnings.warn(\n"
          ]
        },
        {
          "output_type": "stream",
          "name": "stdout",
          "text": [
            "[{'type': '适用范围_适用场景', 'start': 1, 'end': 4, 'span': '618'}, {'type': '品牌', 'start': 9, 'end': 12, 'span': '欧莱雅'}, {'type': '颜色_色彩', 'start': 12, 'end': 13, 'span': '黑'}, {'type': '产品_核心产品', 'start': 13, 'end': 15, 'span': '精华'}, {'type': '功能功效', 'start': 15, 'end': 17, 'span': '紧致'}, {'type': '功能功效', 'start': 17, 'end': 20, 'span': '抗初老'}, {'type': '产品_核心产品', 'start': 20, 'end': 23, 'span': '精华液'}, {'type': '功能功效', 'start': 23, 'end': 25, 'span': '抗皱'}, {'type': '功能功效', 'start': 25, 'end': 27, 'span': '修护'}, {'type': '功能功效', 'start': 27, 'end': 31, 'span': '收缩毛孔'}]\n"
          ]
        },
        {
          "output_type": "stream",
          "name": "stderr",
          "text": [
            "/usr/local/lib/python3.10/dist-packages/transformers/modeling_utils.py:884: FutureWarning: The `device` argument is deprecated and will be removed in v5 of Transformers.\n",
            "  warnings.warn(\n"
          ]
        },
        {
          "output_type": "stream",
          "name": "stdout",
          "text": [
            "[{'type': '品牌', 'start': 0, 'end': 2, 'span': '羽素'}, {'type': '修饰_外观描述', 'start': 2, 'end': 5, 'span': '大灯泡'}, {'type': '功能功效', 'start': 5, 'end': 7, 'span': '祛痘'}, {'type': '产品_核心产品', 'start': 7, 'end': 10, 'span': '精华液'}, {'type': '功能功效', 'start': 11, 'end': 15, 'span': '快速瘪痘'}, {'type': '功能功效', 'start': 15, 'end': 17, 'span': '褪红'}, {'type': '功能功效', 'start': 17, 'end': 22, 'span': '去闭口粉刺'}, {'type': '功能功效', 'start': 22, 'end': 24, 'span': '舒缓'}, {'type': '功能功效', 'start': 24, 'end': 26, 'span': '控油'}, {'type': '功能功效', 'start': 26, 'end': 30, 'span': '改善痘肌'}]\n"
          ]
        },
        {
          "output_type": "stream",
          "name": "stderr",
          "text": [
            "/usr/local/lib/python3.10/dist-packages/transformers/modeling_utils.py:884: FutureWarning: The `device` argument is deprecated and will be removed in v5 of Transformers.\n",
            "  warnings.warn(\n"
          ]
        },
        {
          "output_type": "stream",
          "name": "stdout",
          "text": [
            "[{'type': '适用范围_适用场景', 'start': 1, 'end': 4, 'span': '618'}, {'type': '品牌', 'start': 7, 'end': 11, 'span': '肌肤之钥'}, {'type': '修饰_产品属性', 'start': 11, 'end': 14, 'span': 'CPB'}, {'type': '修饰_产品属性', 'start': 14, 'end': 16, 'span': '钻光'}, {'type': '产品_核心产品', 'start': 16, 'end': 18, 'span': '精华'}, {'type': '修饰_产品属性', 'start': 19, 'end': 23, 'span': '光嫩透亮'}, {'type': '功能功效', 'start': 23, 'end': 25, 'span': '抗老'}, {'type': '功能功效', 'start': 25, 'end': 27, 'span': '修护'}, {'type': '产品_其他', 'start': 27, 'end': 30, 'span': '护肤品'}]\n"
          ]
        },
        {
          "output_type": "stream",
          "name": "stderr",
          "text": [
            "/usr/local/lib/python3.10/dist-packages/transformers/modeling_utils.py:884: FutureWarning: The `device` argument is deprecated and will be removed in v5 of Transformers.\n",
            "  warnings.warn(\n"
          ]
        },
        {
          "output_type": "stream",
          "name": "stdout",
          "text": [
            "[{'type': '品牌', 'start': 0, 'end': 4, 'span': '毕生之研'}, {'type': '系列', 'start': 4, 'end': 9, 'span': '五环Air'}, {'type': '产品_核心产品', 'start': 9, 'end': 11, 'span': '精华'}, {'type': '功能功效', 'start': 11, 'end': 13, 'span': '舒缓'}, {'type': '功能功效', 'start': 13, 'end': 15, 'span': '修护'}, {'type': '功能功效', 'start': 15, 'end': 17, 'span': '祛痘'}, {'type': '功能功效', 'start': 17, 'end': 19, 'span': '控油'}, {'type': '功能功效', 'start': 19, 'end': 21, 'span': '维稳'}, {'type': '功能功效', 'start': 21, 'end': 23, 'span': '保湿'}, {'type': '颜色_色彩', 'start': 23, 'end': 26, 'span': '淡红油'}, {'type': '适用范围_适用人群', 'start': 26, 'end': 30, 'span': '橄榄油皮'}]\n"
          ]
        },
        {
          "output_type": "stream",
          "name": "stderr",
          "text": [
            "/usr/local/lib/python3.10/dist-packages/transformers/modeling_utils.py:884: FutureWarning: The `device` argument is deprecated and will be removed in v5 of Transformers.\n",
            "  warnings.warn(\n"
          ]
        },
        {
          "output_type": "stream",
          "name": "stdout",
          "text": [
            "[{'type': '功能功效', 'start': 13, 'end': 18, 'span': '排出脏东西'}, {'type': '功能功效', 'start': 19, 'end': 26, 'span': '去面部毛孔垃圾'}, {'type': '适用范围_适用对象', 'start': 27, 'end': 28, 'span': '男'}, {'type': '适用范围_适用对象', 'start': 28, 'end': 29, 'span': '女'}]\n"
          ]
        },
        {
          "output_type": "stream",
          "name": "stderr",
          "text": [
            "/usr/local/lib/python3.10/dist-packages/transformers/modeling_utils.py:884: FutureWarning: The `device` argument is deprecated and will be removed in v5 of Transformers.\n",
            "  warnings.warn(\n"
          ]
        },
        {
          "output_type": "stream",
          "name": "stdout",
          "text": [
            "[{'type': '尺寸规格_售卖规格', 'start': 1, 'end': 4, 'span': '拍3件'}, {'type': '品牌', 'start': 5, 'end': 7, 'span': '潘达'}, {'type': '修饰_外观描述', 'start': 7, 'end': 10, 'span': '蓝帽子'}, {'type': '修饰_产品属性', 'start': 10, 'end': 13, 'span': '玻尿酸'}, {'type': '产品_核心产品', 'start': 13, 'end': 16, 'span': '精华液'}, {'type': '功能功效', 'start': 17, 'end': 19, 'span': '补水'}, {'type': '功能功效', 'start': 19, 'end': 21, 'span': '保湿'}, {'type': '功能功效', 'start': 21, 'end': 23, 'span': '水润'}, {'type': '产品_核心产品', 'start': 23, 'end': 26, 'span': '精华液'}, {'type': '适用范围_适用场景', 'start': 26, 'end': 29, 'span': '旗舰店'}, {'type': '修饰_产品属性', 'start': 29, 'end': 31, 'span': '正品'}]\n"
          ]
        },
        {
          "output_type": "stream",
          "name": "stderr",
          "text": [
            "/usr/local/lib/python3.10/dist-packages/transformers/modeling_utils.py:884: FutureWarning: The `device` argument is deprecated and will be removed in v5 of Transformers.\n",
            "  warnings.warn(\n"
          ]
        },
        {
          "output_type": "stream",
          "name": "stdout",
          "text": [
            "[{'type': '适用范围_适用场景', 'start': 1, 'end': 4, 'span': '618'}, {'type': '品牌', 'start': 7, 'end': 10, 'span': '林清轩'}, {'type': '款式_其他', 'start': 10, 'end': 13, 'span': '山茶花'}, {'type': '产品_核心产品', 'start': 13, 'end': 16, 'span': '精华油'}, {'type': '功能功效', 'start': 16, 'end': 18, 'span': '修护'}, {'type': '功能功效', 'start': 18, 'end': 20, 'span': '抗老'}, {'type': '功能功效', 'start': 20, 'end': 22, 'span': '以油'}, {'type': '功能功效', 'start': 22, 'end': 24, 'span': '养肤'}, {'type': '尺寸规格_重量', 'start': 24, 'end': 28, 'span': '30ml'}, {'type': '尺寸规格_外观尺寸', 'start': 28, 'end': 29, 'span': '小'}, {'type': '款式_其他', 'start': 29, 'end': 31, 'span': '皇瓶'}]\n"
          ]
        },
        {
          "output_type": "stream",
          "name": "stderr",
          "text": [
            "/usr/local/lib/python3.10/dist-packages/transformers/modeling_utils.py:884: FutureWarning: The `device` argument is deprecated and will be removed in v5 of Transformers.\n",
            "  warnings.warn(\n"
          ]
        },
        {
          "output_type": "stream",
          "name": "stdout",
          "text": [
            "[{'type': '品牌', 'start': 0, 'end': 2, 'span': '优色'}, {'type': '系列', 'start': 2, 'end': 5, 'span': '林光引'}, {'type': '产品_核心产品', 'start': 5, 'end': 7, 'span': '精华'}, {'type': '尺寸规格_重量', 'start': 7, 'end': 11, 'span': '30ml'}, {'type': '功能功效', 'start': 11, 'end': 13, 'span': '焕亮'}, {'type': '功能功效', 'start': 13, 'end': 15, 'span': '淡斑'}, {'type': '功能功效', 'start': 15, 'end': 18, 'span': '祛痘印'}, {'type': '适用范围_其他', 'start': 18, 'end': 20, 'span': '色斑'}, {'type': '适用范围_其他', 'start': 20, 'end': 22, 'span': '面部'}, {'type': '功能功效', 'start': 22, 'end': 24, 'span': '提亮'}, {'type': '产品_核心产品', 'start': 24, 'end': 26, 'span': '精华'}, {'type': '产品_核心产品', 'start': 26, 'end': 28, 'span': '乳液'}, {'type': '功能功效', 'start': 28, 'end': 30, 'span': '修护'}, {'type': '功能功效', 'start': 30, 'end': 32, 'span': '保湿'}]\n"
          ]
        },
        {
          "output_type": "stream",
          "name": "stderr",
          "text": [
            "/usr/local/lib/python3.10/dist-packages/transformers/modeling_utils.py:884: FutureWarning: The `device` argument is deprecated and will be removed in v5 of Transformers.\n",
            "  warnings.warn(\n"
          ]
        },
        {
          "output_type": "stream",
          "name": "stdout",
          "text": [
            "[{'type': '品牌', 'start': 0, 'end': 2, 'span': '冬禾'}, {'type': '功能功效', 'start': 2, 'end': 4, 'span': '祛斑'}, {'type': '产品_核心产品', 'start': 4, 'end': 6, 'span': '精华'}, {'type': '产品_核心产品', 'start': 6, 'end': 10, 'span': 'dsmk'}, {'type': '功能功效', 'start': 10, 'end': 12, 'span': '祛斑'}, {'type': '产品_核心产品', 'start': 12, 'end': 15, 'span': '精华液'}, {'type': '品牌', 'start': 15, 'end': 17, 'span': '东禾'}, {'type': '功能功效', 'start': 17, 'end': 19, 'span': '美白'}, {'type': '功能功效', 'start': 22, 'end': 29, 'span': '淡黄暗提亮肤色'}, {'type': '适用范围_适用场景', 'start': 30, 'end': 32, 'span': '旗舰'}]\n"
          ]
        },
        {
          "output_type": "stream",
          "name": "stderr",
          "text": [
            "/usr/local/lib/python3.10/dist-packages/transformers/modeling_utils.py:884: FutureWarning: The `device` argument is deprecated and will be removed in v5 of Transformers.\n",
            "  warnings.warn(\n"
          ]
        },
        {
          "output_type": "stream",
          "name": "stdout",
          "text": [
            "[{'type': '适用范围_适用场景', 'start': 1, 'end': 4, 'span': '618'}, {'type': '品牌', 'start': 9, 'end': 11, 'span': '羽西'}, {'type': '修饰_外观描述', 'start': 11, 'end': 14, 'span': '鎏金瓶'}, {'type': '颜色_色彩', 'start': 14, 'end': 16, 'span': '玻色'}, {'type': '功能功效', 'start': 17, 'end': 19, 'span': '修护'}, {'type': '功能功效', 'start': 19, 'end': 22, 'span': '抗老化'}, {'type': '功能功效', 'start': 22, 'end': 24, 'span': '抗皱'}, {'type': '功能功效', 'start': 24, 'end': 26, 'span': '紧致'}, {'type': '适用范围_其他', 'start': 26, 'end': 28, 'span': '面部'}, {'type': '产品_核心产品', 'start': 28, 'end': 31, 'span': '精华液'}]\n"
          ]
        },
        {
          "output_type": "stream",
          "name": "stderr",
          "text": [
            "/usr/local/lib/python3.10/dist-packages/transformers/modeling_utils.py:884: FutureWarning: The `device` argument is deprecated and will be removed in v5 of Transformers.\n",
            "  warnings.warn(\n"
          ]
        },
        {
          "output_type": "stream",
          "name": "stdout",
          "text": [
            "[{'type': '品牌', 'start': 9, 'end': 12, 'span': '修丽可'}, {'type': '系列', 'start': 12, 'end': 14, 'span': 'CF'}, {'type': '修饰_产品属性', 'start': 14, 'end': 16, 'span': '日间'}, {'type': '产品_核心产品', 'start': 16, 'end': 18, 'span': '精华'}, {'type': '尺寸规格_指标参数', 'start': 18, 'end': 23, 'span': '10%VC'}, {'type': '功能功效', 'start': 23, 'end': 25, 'span': '抗氧'}, {'type': '功能功效', 'start': 25, 'end': 28, 'span': '抗老化'}, {'type': '功能功效', 'start': 28, 'end': 30, 'span': '美白'}, {'type': '功能功效', 'start': 30, 'end': 32, 'span': '淡斑'}]\n"
          ]
        },
        {
          "output_type": "stream",
          "name": "stderr",
          "text": [
            "/usr/local/lib/python3.10/dist-packages/transformers/modeling_utils.py:884: FutureWarning: The `device` argument is deprecated and will be removed in v5 of Transformers.\n",
            "  warnings.warn(\n"
          ]
        },
        {
          "output_type": "stream",
          "name": "stdout",
          "text": [
            "[{'type': '品牌', 'start': 0, 'end': 4, 'span': '至本特安'}, {'type': '功能功效', 'start': 4, 'end': 6, 'span': '修护'}, {'type': '修饰_产品属性', 'start': 6, 'end': 8, 'span': '密集'}, {'type': '产品_核心产品', 'start': 8, 'end': 11, 'span': '精华液'}, {'type': '尺寸规格_重量', 'start': 11, 'end': 15, 'span': '20ml'}, {'type': '修饰_产品属性', 'start': 15, 'end': 17, 'span': '即效'}, {'type': '功能功效', 'start': 17, 'end': 19, 'span': '舒缓'}, {'type': '功能功效', 'start': 19, 'end': 21, 'span': '保湿'}, {'type': '功能功效', 'start': 21, 'end': 23, 'span': '维稳'}, {'type': '功能功效', 'start': 23, 'end': 27, 'span': '强韧屏障'}, {'type': '尺寸规格_外观尺寸', 'start': 29, 'end': 30, 'span': '小'}, {'type': '修饰_外观描述', 'start': 30, 'end': 32, 'span': '滴管'}]\n"
          ]
        },
        {
          "output_type": "stream",
          "name": "stderr",
          "text": [
            "/usr/local/lib/python3.10/dist-packages/transformers/modeling_utils.py:884: FutureWarning: The `device` argument is deprecated and will be removed in v5 of Transformers.\n",
            "  warnings.warn(\n"
          ]
        },
        {
          "output_type": "stream",
          "name": "stdout",
          "text": [
            "[{'type': '品牌', 'start': 6, 'end': 9, 'span': '丝塔芙'}, {'type': '修饰_产品属性', 'start': 9, 'end': 11, 'span': '自修'}, {'type': '产品_核心产品', 'start': 11, 'end': 14, 'span': '精华液'}, {'type': '修饰_产品属性', 'start': 14, 'end': 19, 'span': '神经酰胺B'}, {'type': '系列', 'start': 20, 'end': 23, 'span': '积雪草'}, {'type': '功能功效', 'start': 23, 'end': 25, 'span': '舒缓'}, {'type': '适用范围_适用人群', 'start': 25, 'end': 28, 'span': '敏感肌'}, {'type': '适用范围_适用对象', 'start': 28, 'end': 29, 'span': '男'}, {'type': '适用范围_适用对象', 'start': 29, 'end': 30, 'span': '女'}]\n"
          ]
        },
        {
          "output_type": "stream",
          "name": "stderr",
          "text": [
            "/usr/local/lib/python3.10/dist-packages/transformers/modeling_utils.py:884: FutureWarning: The `device` argument is deprecated and will be removed in v5 of Transformers.\n",
            "  warnings.warn(\n"
          ]
        },
        {
          "output_type": "stream",
          "name": "stdout",
          "text": [
            "[{'type': '品牌', 'start': 8, 'end': 11, 'span': '珀莱雅'}, {'type': '修饰_产品属性', 'start': 11, 'end': 13, 'span': '双抗'}, {'type': '产品_核心产品', 'start': 13, 'end': 15, 'span': '精华'}, {'type': '尺寸规格_重量', 'start': 15, 'end': 22, 'span': '3.0 4ml'}]\n"
          ]
        },
        {
          "output_type": "stream",
          "name": "stderr",
          "text": [
            "/usr/local/lib/python3.10/dist-packages/transformers/modeling_utils.py:884: FutureWarning: The `device` argument is deprecated and will be removed in v5 of Transformers.\n",
            "  warnings.warn(\n"
          ]
        },
        {
          "output_type": "stream",
          "name": "stdout",
          "text": [
            "[{'type': '品牌', 'start': 7, 'end': 12, 'span': 'DR.WU'}, {'type': '品牌', 'start': 12, 'end': 15, 'span': '达尔肤'}, {'type': '修饰_产品属性', 'start': 15, 'end': 18, 'span': '杏仁酸'}, {'type': '产品_核心产品', 'start': 18, 'end': 20, 'span': '精华'}, {'type': '尺寸规格_指标参数', 'start': 20, 'end': 22, 'span': '8%'}, {'type': '功能功效', 'start': 22, 'end': 25, 'span': '去闭口'}]\n"
          ]
        },
        {
          "output_type": "stream",
          "name": "stderr",
          "text": [
            "/usr/local/lib/python3.10/dist-packages/transformers/modeling_utils.py:884: FutureWarning: The `device` argument is deprecated and will be removed in v5 of Transformers.\n",
            "  warnings.warn(\n"
          ]
        },
        {
          "output_type": "stream",
          "name": "stdout",
          "text": [
            "[{'type': '品牌', 'start': 0, 'end': 2, 'span': 'CJ'}, {'type': '功能功效', 'start': 2, 'end': 4, 'span': '淡斑'}, {'type': '产品_核心产品', 'start': 4, 'end': 7, 'span': '精华液'}, {'type': '型号', 'start': 7, 'end': 10, 'span': '377'}, {'type': '功能功效', 'start': 10, 'end': 14, 'span': '淡化色斑'}, {'type': '功能功效', 'start': 14, 'end': 16, 'span': '祛斑'}, {'type': '功能功效', 'start': 16, 'end': 18, 'span': '美白'}, {'type': '功能功效', 'start': 18, 'end': 20, 'span': '保湿'}, {'type': '功能功效', 'start': 20, 'end': 24, 'span': '面部提亮'}, {'type': '功能功效', 'start': 24, 'end': 26, 'span': 'VC'}, {'type': '功能功效', 'start': 26, 'end': 28, 'span': '减黄'}, {'type': '适用范围_适用场景', 'start': 28, 'end': 33, 'span': '官方旗舰店'}]\n"
          ]
        },
        {
          "output_type": "stream",
          "name": "stderr",
          "text": [
            "/usr/local/lib/python3.10/dist-packages/transformers/modeling_utils.py:884: FutureWarning: The `device` argument is deprecated and will be removed in v5 of Transformers.\n",
            "  warnings.warn(\n"
          ]
        },
        {
          "output_type": "stream",
          "name": "stdout",
          "text": [
            "[{'type': '品牌', 'start': 7, 'end': 9, 'span': '娇兰'}, {'type': '系列', 'start': 9, 'end': 13, 'span': '帝皇蜂姿'}, {'type': '功能功效', 'start': 13, 'end': 15, 'span': '修护'}, {'type': '功能功效', 'start': 15, 'end': 17, 'span': '复原'}, {'type': '产品_核心产品', 'start': 17, 'end': 18, 'span': '蜜'}, {'type': '产品_核心产品', 'start': 18, 'end': 21, 'span': '精华液'}, {'type': '尺寸规格_重量', 'start': 21, 'end': 25, 'span': '50ml'}, {'type': '尺寸规格_重量', 'start': 26, 'end': 30, 'span': '30ml'}, {'type': '功能功效', 'start': 30, 'end': 32, 'span': '保湿'}]\n"
          ]
        },
        {
          "output_type": "stream",
          "name": "stderr",
          "text": [
            "/usr/local/lib/python3.10/dist-packages/transformers/modeling_utils.py:884: FutureWarning: The `device` argument is deprecated and will be removed in v5 of Transformers.\n",
            "  warnings.warn(\n"
          ]
        },
        {
          "output_type": "stream",
          "name": "stdout",
          "text": [
            "[{'type': '品牌', 'start': 0, 'end': 5, 'span': 'SKINO'}, {'type': '品牌', 'start': 5, 'end': 7, 'span': '肌漾'}, {'type': '功能功效', 'start': 7, 'end': 9, 'span': '修印'}, {'type': '产品_核心产品', 'start': 9, 'end': 11, 'span': '精华'}, {'type': '功能功效', 'start': 11, 'end': 17, 'span': '修护痘后瑕疵'}, {'type': '修饰_产品属性', 'start': 17, 'end': 22, 'span': '烟酰胺源头'}, {'type': '功能功效', 'start': 22, 'end': 24, 'span': '阻黑'}, {'type': '功能功效', 'start': 24, 'end': 26, 'span': '舒缓'}, {'type': '功能功效', 'start': 26, 'end': 28, 'span': '修红'}, {'type': '功能功效', 'start': 28, 'end': 32, 'span': '改善痘肌'}]\n"
          ]
        },
        {
          "output_type": "stream",
          "name": "stderr",
          "text": [
            "/usr/local/lib/python3.10/dist-packages/transformers/modeling_utils.py:884: FutureWarning: The `device` argument is deprecated and will be removed in v5 of Transformers.\n",
            "  warnings.warn(\n"
          ]
        },
        {
          "output_type": "stream",
          "name": "stdout",
          "text": [
            "[{'type': '修饰_外观描述', 'start': 1, 'end': 4, 'span': '甄嬛传'}, {'type': '品牌', 'start': 7, 'end': 9, 'span': '迷奇'}, {'type': '产品_核心产品', 'start': 10, 'end': 14, 'span': '金六胜肽'}, {'type': '产品_核心产品', 'start': 14, 'end': 16, 'span': '原液'}, {'type': '功能功效', 'start': 16, 'end': 18, 'span': '提拉'}, {'type': '功能功效', 'start': 18, 'end': 20, 'span': '紧致'}, {'type': '功能功效', 'start': 20, 'end': 25, 'span': '法令纹复颜'}, {'type': '适用范围_其他', 'start': 25, 'end': 27, 'span': '面部'}, {'type': '产品_核心产品', 'start': 27, 'end': 30, 'span': '精华液'}]\n"
          ]
        },
        {
          "output_type": "stream",
          "name": "stderr",
          "text": [
            "/usr/local/lib/python3.10/dist-packages/transformers/modeling_utils.py:884: FutureWarning: The `device` argument is deprecated and will be removed in v5 of Transformers.\n",
            "  warnings.warn(\n"
          ]
        },
        {
          "output_type": "stream",
          "name": "stdout",
          "text": [
            "[{'type': '适用范围_适用场景', 'start': 1, 'end': 4, 'span': '618'}, {'type': '品牌', 'start': 7, 'end': 12, 'span': 'Murad'}, {'type': '品牌', 'start': 12, 'end': 15, 'span': '慕拉得'}, {'type': '修饰_产品属性', 'start': 15, 'end': 17, 'span': 'a醇'}, {'type': '适用范围_其他', 'start': 17, 'end': 19, 'span': '面部'}, {'type': '产品_核心产品', 'start': 19, 'end': 21, 'span': '精华'}, {'type': '尺寸规格_重量', 'start': 21, 'end': 25, 'span': '30ml'}, {'type': '产品_核心产品', 'start': 25, 'end': 28, 'span': '视黄醇'}, {'type': '功能功效', 'start': 28, 'end': 30, 'span': '紧致'}, {'type': '功能功效', 'start': 30, 'end': 33, 'span': '抗初老'}]\n"
          ]
        },
        {
          "output_type": "stream",
          "name": "stderr",
          "text": [
            "/usr/local/lib/python3.10/dist-packages/transformers/modeling_utils.py:884: FutureWarning: The `device` argument is deprecated and will be removed in v5 of Transformers.\n",
            "  warnings.warn(\n"
          ]
        },
        {
          "output_type": "stream",
          "name": "stdout",
          "text": [
            "[{'type': '适用范围_适用场景', 'start': 1, 'end': 4, 'span': '618'}, {'type': '品牌', 'start': 7, 'end': 9, 'span': '丸美'}, {'type': '系列', 'start': 9, 'end': 12, 'span': '小金针'}, {'type': '款式_其他', 'start': 12, 'end': 14, 'span': '次抛'}, {'type': '产品_核心产品', 'start': 14, 'end': 17, 'span': '精华液'}, {'type': '功能功效', 'start': 17, 'end': 19, 'span': '修护'}, {'type': '功能功效', 'start': 19, 'end': 21, 'span': '舒缓'}, {'type': '功能功效', 'start': 21, 'end': 23, 'span': '淡纹'}, {'type': '功能功效', 'start': 23, 'end': 25, 'span': '抗皱'}, {'type': '功能功效', 'start': 25, 'end': 27, 'span': '紧致'}, {'type': '功能功效', 'start': 27, 'end': 31, 'span': '胶原蛋白'}]\n"
          ]
        },
        {
          "output_type": "stream",
          "name": "stderr",
          "text": [
            "/usr/local/lib/python3.10/dist-packages/transformers/modeling_utils.py:884: FutureWarning: The `device` argument is deprecated and will be removed in v5 of Transformers.\n",
            "  warnings.warn(\n"
          ]
        },
        {
          "output_type": "stream",
          "name": "stdout",
          "text": [
            "[{'type': '修饰_产品属性', 'start': 1, 'end': 3, 'span': '正品'}, {'type': '品牌', 'start': 3, 'end': 5, 'span': '速达'}, {'type': '品牌', 'start': 6, 'end': 12, 'span': 'CHANEL'}, {'type': '品牌', 'start': 12, 'end': 15, 'span': '香奈儿'}, {'type': '系列', 'start': 15, 'end': 17, 'span': '奢华'}, {'type': '修饰_产品属性', 'start': 17, 'end': 19, 'span': '精萃'}, {'type': '功能功效', 'start': 19, 'end': 21, 'span': '密集'}, {'type': '功能功效', 'start': 21, 'end': 23, 'span': '修护'}, {'type': '产品_核心产品', 'start': 23, 'end': 24, 'span': '油'}, {'type': '产品_核心产品', 'start': 24, 'end': 26, 'span': '精华'}, {'type': '功能功效', 'start': 26, 'end': 30, 'span': '紧致毛孔'}]\n"
          ]
        },
        {
          "output_type": "stream",
          "name": "stderr",
          "text": [
            "/usr/local/lib/python3.10/dist-packages/transformers/modeling_utils.py:884: FutureWarning: The `device` argument is deprecated and will be removed in v5 of Transformers.\n",
            "  warnings.warn(\n"
          ]
        },
        {
          "output_type": "stream",
          "name": "stdout",
          "text": [
            "[{'type': '适用范围_适用场景', 'start': 1, 'end': 4, 'span': '618'}, {'type': '品牌', 'start': 7, 'end': 10, 'span': '佰草集'}, {'type': '系列', 'start': 10, 'end': 13, 'span': '新七白'}, {'type': '款式_其他', 'start': 13, 'end': 15, 'span': '灯管'}, {'type': '产品_核心产品', 'start': 15, 'end': 17, 'span': '精华'}, {'type': '功能功效', 'start': 17, 'end': 19, 'span': '美白'}, {'type': '功能功效', 'start': 19, 'end': 21, 'span': '淡斑'}, {'type': '功能功效', 'start': 21, 'end': 23, 'span': '焕白'}, {'type': '功能功效', 'start': 28, 'end': 30, 'span': '水润'}]\n"
          ]
        },
        {
          "output_type": "stream",
          "name": "stderr",
          "text": [
            "/usr/local/lib/python3.10/dist-packages/transformers/modeling_utils.py:884: FutureWarning: The `device` argument is deprecated and will be removed in v5 of Transformers.\n",
            "  warnings.warn(\n"
          ]
        },
        {
          "output_type": "stream",
          "name": "stdout",
          "text": [
            "[{'type': '适用范围_适用场景', 'start': 1, 'end': 4, 'span': '618'}, {'type': '品牌', 'start': 9, 'end': 12, 'span': 'LAN'}, {'type': '品牌', 'start': 12, 'end': 16, 'span': '兰时光油'}, {'type': '产品_核心产品', 'start': 16, 'end': 19, 'span': '气泡油'}, {'type': '适用范围_其他', 'start': 19, 'end': 21, 'span': '面部'}, {'type': '产品_核心产品', 'start': 21, 'end': 24, 'span': '精华油'}, {'type': '功能功效', 'start': 24, 'end': 26, 'span': '以油'}, {'type': '功能功效', 'start': 26, 'end': 28, 'span': '养肤'}]\n"
          ]
        },
        {
          "output_type": "stream",
          "name": "stderr",
          "text": [
            "/usr/local/lib/python3.10/dist-packages/transformers/modeling_utils.py:884: FutureWarning: The `device` argument is deprecated and will be removed in v5 of Transformers.\n",
            "  warnings.warn(\n"
          ]
        },
        {
          "output_type": "stream",
          "name": "stdout",
          "text": [
            "[{'type': '品牌', 'start': 0, 'end': 8, 'span': 'MOOKLOOK'}, {'type': '品牌', 'start': 9, 'end': 11, 'span': '茉珂'}, {'type': '产品_核心产品', 'start': 11, 'end': 14, 'span': '精华油'}, {'type': '功能功效', 'start': 14, 'end': 16, 'span': '修护'}, {'type': '功能功效', 'start': 16, 'end': 20, 'span': '肌底屏障'}, {'type': '功能功效', 'start': 20, 'end': 22, 'span': '保湿'}, {'type': '修饰_产品属性', 'start': 22, 'end': 24, 'span': '清爽'}, {'type': '产品_修饰产品', 'start': 24, 'end': 27, 'span': '角鲨烷'}, {'type': '适用范围_其他', 'start': 27, 'end': 29, 'span': '面部'}, {'type': '功能功效', 'start': 29, 'end': 31, 'span': '舒缓'}, {'type': '产品_核心产品', 'start': 31, 'end': 34, 'span': '护肤油'}]\n"
          ]
        },
        {
          "output_type": "stream",
          "name": "stderr",
          "text": [
            "/usr/local/lib/python3.10/dist-packages/transformers/modeling_utils.py:884: FutureWarning: The `device` argument is deprecated and will be removed in v5 of Transformers.\n",
            "  warnings.warn(\n"
          ]
        },
        {
          "output_type": "stream",
          "name": "stdout",
          "text": [
            "[{'type': '修饰_产品属性', 'start': 3, 'end': 5, 'span': '果酸'}, {'type': '产品_核心产品', 'start': 5, 'end': 8, 'span': '精华液'}, {'type': '功能功效', 'start': 9, 'end': 12, 'span': '收缩酸'}, {'type': '功能功效', 'start': 12, 'end': 15, 'span': '去闭口'}, {'type': '适用范围_其他', 'start': 15, 'end': 17, 'span': '粉刺'}, {'type': '适用范围_其他', 'start': 17, 'end': 19, 'span': '黑头'}, {'type': '适用范围_其他', 'start': 19, 'end': 23, 'span': '毛孔粗大'}, {'type': '功能功效', 'start': 23, 'end': 27, 'span': '祛痘印坑'}, {'type': '修饰_产品属性', 'start': 27, 'end': 30, 'span': '非修复'}]\n"
          ]
        },
        {
          "output_type": "stream",
          "name": "stderr",
          "text": [
            "/usr/local/lib/python3.10/dist-packages/transformers/modeling_utils.py:884: FutureWarning: The `device` argument is deprecated and will be removed in v5 of Transformers.\n",
            "  warnings.warn(\n"
          ]
        },
        {
          "output_type": "stream",
          "name": "stdout",
          "text": [
            "[{'type': '适用范围_适用场景', 'start': 1, 'end': 4, 'span': '618'}, {'type': '品牌', 'start': 9, 'end': 11, 'span': '雅顿'}, {'type': '系列', 'start': 11, 'end': 13, 'span': '金胶'}, {'type': '产品_核心产品', 'start': 13, 'end': 16, 'span': '精华油'}, {'type': '修饰_产品属性', 'start': 16, 'end': 18, 'span': '次抛'}, {'type': '款式_其他', 'start': 18, 'end': 20, 'span': '胶囊'}, {'type': '功能功效', 'start': 20, 'end': 22, 'span': '修护'}, {'type': '功能功效', 'start': 22, 'end': 24, 'span': '维稳'}, {'type': '功能功效', 'start': 24, 'end': 28, 'span': '神经酰胺'}, {'type': '功能功效', 'start': 28, 'end': 30, 'span': '紧致'}]\n"
          ]
        },
        {
          "output_type": "stream",
          "name": "stderr",
          "text": [
            "/usr/local/lib/python3.10/dist-packages/transformers/modeling_utils.py:884: FutureWarning: The `device` argument is deprecated and will be removed in v5 of Transformers.\n",
            "  warnings.warn(\n"
          ]
        },
        {
          "output_type": "stream",
          "name": "stdout",
          "text": [
            "[{'type': '品牌', 'start': 0, 'end': 3, 'span': 'HBN'}, {'type': '产品_核心产品', 'start': 3, 'end': 6, 'span': '复原露'}, {'type': '修饰_产品属性', 'start': 9, 'end': 11, 'span': '前导'}, {'type': '产品_核心产品', 'start': 11, 'end': 13, 'span': '精华'}, {'type': '修饰_产品属性', 'start': 13, 'end': 15, 'span': '酵母'}, {'type': '修饰_产品属性', 'start': 18, 'end': 22, 'span': '神经酰胺'}, {'type': '功能功效', 'start': 22, 'end': 24, 'span': '修护'}, {'type': '产品_核心产品', 'start': 24, 'end': 26, 'span': '精华'}, {'type': '产品_其他', 'start': 26, 'end': 29, 'span': '护肤品'}]\n"
          ]
        },
        {
          "output_type": "stream",
          "name": "stderr",
          "text": [
            "/usr/local/lib/python3.10/dist-packages/transformers/modeling_utils.py:884: FutureWarning: The `device` argument is deprecated and will be removed in v5 of Transformers.\n",
            "  warnings.warn(\n"
          ]
        },
        {
          "output_type": "stream",
          "name": "stdout",
          "text": [
            "[{'type': '品牌', 'start': 1, 'end': 4, 'span': 'ohn'}, {'type': '功能功效', 'start': 18, 'end': 20, 'span': '美白'}, {'type': '功能功效', 'start': 20, 'end': 22, 'span': '祛斑'}, {'type': '产品_核心产品', 'start': 22, 'end': 25, 'span': '精华液'}, {'type': '功能功效', 'start': 25, 'end': 27, 'span': '祛黄'}, {'type': '功能功效', 'start': 27, 'end': 31, 'span': '提亮肤色'}, {'type': '功能功效', 'start': 31, 'end': 35, 'span': '淡化痘印'}, {'type': '功能功效', 'start': 35, 'end': 37, 'span': '色斑'}, {'type': '功能功效', 'start': 37, 'end': 39, 'span': '去黄'}]\n"
          ]
        },
        {
          "output_type": "stream",
          "name": "stderr",
          "text": [
            "/usr/local/lib/python3.10/dist-packages/transformers/modeling_utils.py:884: FutureWarning: The `device` argument is deprecated and will be removed in v5 of Transformers.\n",
            "  warnings.warn(\n"
          ]
        },
        {
          "output_type": "stream",
          "name": "stdout",
          "text": [
            "[{'type': '品牌', 'start': 0, 'end': 2, 'span': 'AM'}, {'type': '系列', 'start': 2, 'end': 6, 'span': '馥郁满铺'}, {'type': '修饰_外观描述', 'start': 6, 'end': 9, 'span': '大金砖'}, {'type': '产品_核心产品', 'start': 9, 'end': 12, 'span': '精萃水'}, {'type': '尺寸规格_重量', 'start': 12, 'end': 17, 'span': '120ml'}, {'type': '产品_修饰产品', 'start': 17, 'end': 20, 'span': '晚香玉'}, {'type': '产品_修饰产品', 'start': 20, 'end': 22, 'span': '红茶'}, {'type': '产品_修饰产品', 'start': 22, 'end': 24, 'span': '酵母'}, {'type': '功能功效', 'start': 24, 'end': 26, 'span': '提亮'}]\n"
          ]
        },
        {
          "output_type": "stream",
          "name": "stderr",
          "text": [
            "/usr/local/lib/python3.10/dist-packages/transformers/modeling_utils.py:884: FutureWarning: The `device` argument is deprecated and will be removed in v5 of Transformers.\n",
            "  warnings.warn(\n"
          ]
        },
        {
          "output_type": "stream",
          "name": "stdout",
          "text": [
            "[{'type': '品牌', 'start': 0, 'end': 4, 'span': '城野医生'}, {'type': '型号', 'start': 4, 'end': 9, 'span': 'VC377'}, {'type': '功能功效', 'start': 9, 'end': 11, 'span': '美白'}, {'type': '功能功效', 'start': 11, 'end': 13, 'span': '淡斑'}, {'type': '产品_核心产品', 'start': 13, 'end': 16, 'span': '精华液'}, {'type': '功能功效', 'start': 16, 'end': 18, 'span': '去黄'}, {'type': '功能功效', 'start': 18, 'end': 22, 'span': '淡化痘印'}, {'type': '功能功效', 'start': 22, 'end': 24, 'span': '提亮'}, {'type': '功能功效', 'start': 24, 'end': 26, 'span': '祛斑'}, {'type': '适用范围_其他', 'start': 26, 'end': 28, 'span': '面部'}, {'type': '产品_核心产品', 'start': 28, 'end': 30, 'span': '精华'}, {'type': '功能功效', 'start': 30, 'end': 32, 'span': '护肤'}]\n"
          ]
        },
        {
          "output_type": "stream",
          "name": "stderr",
          "text": [
            "/usr/local/lib/python3.10/dist-packages/transformers/modeling_utils.py:884: FutureWarning: The `device` argument is deprecated and will be removed in v5 of Transformers.\n",
            "  warnings.warn(\n"
          ]
        },
        {
          "output_type": "stream",
          "name": "stdout",
          "text": [
            "[{'type': '适用范围_适用场景', 'start': 1, 'end': 4, 'span': '618'}, {'type': '品牌', 'start': 7, 'end': 11, 'span': '雅诗兰黛'}, {'type': '产品_核心产品', 'start': 11, 'end': 14, 'span': '精华水'}, {'type': '款式_其他', 'start': 14, 'end': 16, 'span': '樱花'}, {'type': '产品_核心产品', 'start': 16, 'end': 17, 'span': '水'}, {'type': '产品_核心产品', 'start': 17, 'end': 20, 'span': '原生液'}, {'type': '功能功效', 'start': 20, 'end': 24, 'span': '收缩毛孔'}, {'type': '功能功效', 'start': 24, 'end': 26, 'span': '补水'}, {'type': '功能功效', 'start': 26, 'end': 28, 'span': '保湿'}, {'type': '功能功效', 'start': 28, 'end': 30, 'span': '修护'}]\n"
          ]
        },
        {
          "output_type": "stream",
          "name": "stderr",
          "text": [
            "/usr/local/lib/python3.10/dist-packages/transformers/modeling_utils.py:884: FutureWarning: The `device` argument is deprecated and will be removed in v5 of Transformers.\n",
            "  warnings.warn(\n"
          ]
        }
      ]
    },
    {
      "cell_type": "code",
      "source": [
        "result = ner_pipeline(data)\n",
        "obj=result['output']\n",
        "pd.DataFrame(obj).to_string()\n",
        "print(pd.DataFrame(obj).to_string())\n"
      ],
      "metadata": {
        "colab": {
          "base_uri": "https://localhost:8080/"
        },
        "id": "uiUoQoPS7-gH",
        "outputId": "1550b9e1-ca92-43f4-f74b-869812d60f3c"
      },
      "execution_count": 50,
      "outputs": [
        {
          "output_type": "stream",
          "name": "stderr",
          "text": [
            "/usr/local/lib/python3.10/dist-packages/transformers/modeling_utils.py:884: FutureWarning: The `device` argument is deprecated and will be removed in v5 of Transformers.\n",
            "  warnings.warn(\n"
          ]
        },
        {
          "output_type": "stream",
          "name": "stdout",
          "text": [
            "        type  start  end  span\n",
            "0         品牌      6    9   娇韵诗\n",
            "1    修饰_产品属性      9   11    双萃\n",
            "2    产品_核心产品     11   13    精华\n",
            "3    尺寸规格_重量     13   17  50ml\n",
            "4  适用范围_适用人群     17   19    御龄\n",
            "5       功能功效     19   21    呵护\n",
            "6       功能功效     21   23    淡纹\n",
            "7       功能功效     23   25    紧致\n",
            "8    修饰_产品属性     25   27    细腻\n",
            "9       功能功效     27   29    提亮\n"
          ]
        }
      ]
    }
  ]
}